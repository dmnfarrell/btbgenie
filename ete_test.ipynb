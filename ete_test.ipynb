{
 "cells": [
  {
   "cell_type": "code",
   "execution_count": 31,
   "metadata": {},
   "outputs": [],
   "source": [
    "import sys\n",
    "import pandas as pd\n",
    "import pylab as plt\n",
    "sys.path.append('ete')\n",
    "from ete3 import Tree, NodeStyle, TreeStyle, AttrFace"
   ]
  },
  {
   "cell_type": "code",
   "execution_count": 32,
   "metadata": {},
   "outputs": [],
   "source": [
    "def set_tiplabels(t, labelmap):\n",
    "    for l in t.iter_leaves():\n",
    "        #print (l.name)\n",
    "        if l.name in labelmap:            \n",
    "            l.name = labelmap[l.name]\n",
    "    return    \n",
    "\n",
    "def delete_nodes(t, names):\n",
    "    for l in t.iter_leaves():        \n",
    "        if l.name in names:          \n",
    "            l.delete()   \n",
    "            \n",
    "def format_nodes(t):\n",
    "    for n in t.traverse(): \n",
    "        ns = NodeStyle()\n",
    "        ns[\"size\"] = 0\n",
    "        n.set_style(ns)\n",
    "        \n",
    "def color_leaves(t, colors):\n",
    "    for l in t.iter_leaves():  \n",
    "        if l.name in colors:\n",
    "            clr = colors[l.name]\n",
    "        else:\n",
    "            clr='black'\n",
    "        #print (clr)\n",
    "        # create a new label with a color attribute\n",
    "        #N = AttrFace(\"name\", fgcolor=clr)\n",
    "        #l.add_face(N, 1, position='aligned')\n",
    "        ns = NodeStyle()\n",
    "        ns[\"size\"] = 12\n",
    "        ns[\"fgcolor\"] = clr\n",
    "        l.set_style(ns)\n",
    "        \n",
    "def get_colormap(values):\n",
    "    labels = values.unique()\n",
    "    cmap = plt.cm.get_cmap('Set1')    \n",
    "    colors=qcolors\n",
    "    #clrs = {labels[i]:cmap(float(i)/(len(labels))) for i in range(len(labels))}\n",
    "    clrs = dict(list(zip(labels,colors)))\n",
    "    return clrs    "
   ]
  },
  {
   "cell_type": "code",
   "execution_count": 38,
   "metadata": {},
   "outputs": [
    {
     "data": {
      "image/png": "[encoded data removed]",
      "text/plain": [
       "<IPython.core.display.Image object>"
      ]
     },
     "execution_count": 38,
     "metadata": {},
     "output_type": "execute_result"
    }
   ],
   "source": [
    "#t = Tree()\n",
    "#t.populate(12)\n",
    "#t = Tree('RAxML_bipartitions.variants')\n",
    "#labelmap = {'mapped/3_S57_L001.bam':'a','mapped/6_S7_L001.bam':'b'}\n",
    "#set_tiplabels(t,labelmap)\n",
    "\n",
    "def test_tree():\n",
    "    t = Tree( \"((H:0.3,I:0.1):0.5, A:1, (B:0.4,(C:0.5,(J:1.3, (F:1.2, D:0.1):0.5):0.5):0.5):0.5);\" )\n",
    "    ts = TreeStyle()\n",
    "    #ts.mode = \"c\"\n",
    "    #ts.arc_start = -180 # 0 degrees = 3 o'clock\n",
    "    #ts.arc_span = 180\n",
    "    ts.show_leaf_name = True\n",
    "    #ts.show_branch_length = True\n",
    "    #ts.show_branch_support = True\n",
    "    ts.scale =  220\n",
    "    format_nodes(t)    \n",
    "    colors = {'A':'red','B':'green','C':'orange','J':'red'}    \n",
    "    color_leaves(t, colors)\n",
    "    #t.render(\"tree.png\", w=500, units=\"mm\", tree_style=ts)\n",
    "    t.render(\"%%inline\", tree_style=ts)\n",
    "    return t\n",
    "\n",
    "t = test_tree()\n",
    "#print (t)\n",
    "t.render(\"%%inline\", tree_style=ts)"
   ]
  },
  {
   "cell_type": "code",
   "execution_count": 44,
   "metadata": {},
   "outputs": [
    {
     "name": "stdout",
     "output_type": "stream",
     "text": [
      "  Reference No  SnaB1 profile Spe1 profile  INMV    No. TR IS1311 LSP20  \\\n",
      "8    MAPMRI008           11.0            9  70.0  71331118      S     -   \n",
      "\n",
      "  LSPA4II gyrA/B   Host Country of origin Area of origin Date of isolation  \\\n",
      "8       +      I  Sheep     Faroe Islands            NaN             1979?   \n",
      "\n",
      "    Comments  Accession Secondary Accession  \n",
      "8  Pigmented  ERR026789           ERR038002  \n"
     ]
    }
   ],
   "source": [
    "qcolors = ['Red','Blue','Orange','Purple','Green','Yellow','Pink','darkred','Brown','darkblue','Magenta','Cyan']\n",
    "\n",
    "#metadata\n",
    "m1 = pd.read_csv('viktor/MAP-Metadata-Formatted-May19.csv')\n",
    "m1['country'] = 'Ireland'\n",
    "m2 = pd.read_csv('viktor/Bryant 2016 Table S1.csv')\n",
    "#print (m1[:5])\n",
    "print (m2[m2['Country of origin']=='Faroe Islands'])\n",
    "#map1 = dict(zip(m1.AliquotFormat,m1['Herd Location']))\n",
    "map1 = dict(zip(m1.AliquotFormat,m1.country))\n",
    "map2 = dict(zip(m2.Accession,m2['Country of origin']))\n",
    "\n",
    "cdict = get_colormap(m2['Country of origin']) "
   ]
  },
  {
   "cell_type": "code",
   "execution_count": null,
   "metadata": {},
   "outputs": [],
   "source": [
    "#t = Tree('RAxML_bestTree.variants')\n",
    "t = Tree('viktor/RAxML_bipartitions.RaxML-R_30-01-20')\n",
    "\n",
    "for l in t.iter_leaves():    \n",
    "    l.name = l.name[1:].split('_')[0]\n",
    "\n",
    "delete_nodes(t, ['ERR266516','ERR266517'])\n",
    "n = t.get_common_ancestor(['ERR037962','ERR038000'])\n",
    "desc = n.get_descendants()\n",
    "for l in desc:\n",
    "    l.delete()\n",
    "#n.add_features(collapsed=True)\n",
    "#n.img_style['draw_descendants'] = False\n",
    "\n",
    "set_tiplabels(t,map1)\n",
    "set_tiplabels(t,map2)\n",
    "format_nodes(t)\n",
    "color_leaves(t, cdict)\n",
    "\n",
    "ts = TreeStyle()\n",
    "ts.mode = \"c\"\n",
    "ts.scale =  20000\n",
    "# order the subtrees in ascending order\n",
    "#t.ladderize(1)\n",
    "#t.show(tree_style=ts)\n",
    "t.render(\"tree.png\", dpi=100, tree_style=ts)\n",
    "t.render(\"%%inline\", tree_style=ts)\n",
    "#t.show(tree_style=ts)"
   ]
  },
  {
   "cell_type": "code",
   "execution_count": null,
   "metadata": {},
   "outputs": [],
   "source": []
  }
 ],
 "metadata": {
  "kernelspec": {
   "display_name": "Python 3",
   "language": "python",
   "name": "python3"
  },
  "language_info": {
   "codemirror_mode": {
    "name": "ipython",
    "version": 3
   },
   "file_extension": ".py",
   "mimetype": "text/x-python",
   "name": "python",
   "nbconvert_exporter": "python",
   "pygments_lexer": "ipython3",
   "version": "3.7.5"
  }
 },
 "nbformat": 4,
 "nbformat_minor": 4
}
