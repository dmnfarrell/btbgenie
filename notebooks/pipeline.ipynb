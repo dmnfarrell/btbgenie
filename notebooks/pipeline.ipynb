{
 "cells": [
  {
   "cell_type": "markdown",
   "metadata": {},
   "source": [
    "## Whole Genome Sequenced Mycobacterium bovis analysis for BTBgenie.\n",
    "\n",
    "Note: the current version of the M.bovis genome online has genes missing in the annotation. See https://www.ncbi.nlm.nih.gov/nuccore/LT708304.1?report=graph\n",
    "\n",
    "Updated files can be found here: https://github.com/dmnfarrell/gordon-group/tree/master/mbovis_annotation\n",
    "\n",
    "links:\n",
    "\n",
    "* https://github.com/JosephCrispell/GeneralTools/tree/master/ProcessingPipeline\n",
    "* [Woodchester Park eLife paper](https://elifesciences.org/articles/45833)\n",
    "* [An African origin for Mycobacterium bovis](https://academic.oup.com/emph/article/2020/1/49/5719036)\n",
    "* http://www.htslib.org/doc/bcftools.html\n",
    "* https://mtbgenomicsworkshop.readthedocs.io/\n",
    "* [BCFtools cheat sheet](https://gist.github.com/elowy01/93922762e131d7abd3c7e8e166a74a0b)\n",
    "* https://biopython.org/wiki/Category:Cookbook\n",
    "* https://pyvcf.readthedocs.io/en/v0.4.6/INTRO.html"
   ]
  },
  {
   "cell_type": "code",
   "execution_count": 1,
   "metadata": {},
   "outputs": [],
   "source": [
    "import sys,os,shutil,subprocess\n",
    "import random\n",
    "import glob, time\n",
    "from importlib import reload\n",
    "import numpy as np\n",
    "import pandas as pd\n",
    "pd.set_option('display.width', 200)\n",
    "import pylab as plt\n",
    "from Bio import SeqIO\n",
    "from Bio.Seq import Seq\n",
    "from Bio.SeqRecord import SeqRecord\n",
    "from gzip import open as gzopen\n",
    "sys.path.append('pathogenie')\n",
    "from snpgenie import tools, aligners, app, trees, plotting"
   ]
  },
  {
   "cell_type": "markdown",
   "metadata": {},
   "source": [
    "## Mbovis samples from SRA"
   ]
  },
  {
   "cell_type": "code",
   "execution_count": 2,
   "metadata": {},
   "outputs": [],
   "source": [
    "sra = pd.read_csv('../sra_mbovis_runtable.csv')"
   ]
  },
  {
   "cell_type": "markdown",
   "metadata": {},
   "source": [
    "## Get master table with Loiseau et al. meta data¶"
   ]
  },
  {
   "cell_type": "code",
   "execution_count": 3,
   "metadata": {},
   "outputs": [],
   "source": [
    "df = pd.read_excel('../Loiseau_TableS1.xlsx')\n",
    "master = pd.merge(df,sra,left_on='BIOSAMPLE',right_on='BioSample',how='inner')\n",
    "master.to_csv('../mbovis_sra_master.csv',index=False)\n",
    "cols = ['Run','CLONAL_COMPLEX','COUNTRY_ISOLATION','LibraryLayout','Host','ReleaseDate','Bytes','Bases','GENOME_COVERAGE']\n",
    "#master.columns\n",
    "#master.geo_loc_name_country.value_counts()"
   ]
  },
  {
   "cell_type": "markdown",
   "metadata": {},
   "source": [
    "## Representative samples of lineages"
   ]
  },
  {
   "cell_type": "code",
   "execution_count": 46,
   "metadata": {},
   "outputs": [
    {
     "name": "stdout",
     "output_type": "stream",
     "text": [
      "             Run CLONAL_COMPLEX COUNTRY_ISOLATION LibraryLayout        Host           ReleaseDate        Bytes        Bases  GENOME_COVERAGE\n",
      "36     ERR841808            Eu1                UK        PAIRED         Cow  2015-12-02T00:00:00Z  130651179.0  196040478.0            39.78\n",
      "245   SRR5216872            Eu1       New Zealand        PAIRED      BOVINE  2017-01-31T00:00:00Z  194523112.0  295803584.0            41.39\n",
      "464   SRR5486071       Unknown2          Ethiopia        PAIRED  Bos taurus  2017-04-28T00:00:00Z  251875435.0  445066100.0            50.71\n",
      "677    ERR125601            Eu1           Ireland        PAIRED         NaN  2012-10-01T00:00:00Z  277182504.0  346340680.0            68.83\n",
      "765   ERR2815558            Af1               NaN        PAIRED         NaN  2018-09-29T00:00:00Z  162711425.0  367702705.0            67.64\n",
      "886   SRR1791768            Eu2            Canada        PAIRED      Cattle  2015-03-11T00:00:00Z  340596851.0  450406275.0            37.69\n",
      "1076  SRR1791960            Eu2            Mexico        PAIRED      Cattle  2015-03-11T00:00:00Z  234700051.0  344439293.0            38.20\n",
      "1118  SRR1792002            Eu2               USA        PAIRED      Cattle  2015-03-11T00:00:00Z  155793754.0  221710448.0            37.69\n",
      "2577  SRR8065079            Af2            Uganda        PAIRED  Bos taurus  2018-12-01T00:00:00Z  149270806.0  248725188.0            32.01\n",
      "2597  SRR8063654            Af2          Ethiopia        PAIRED  Bos taurus  2018-12-01T00:00:00Z  128374182.0  220964011.0            25.87\n",
      "2608  SRR8063665            Af2          Ethiopia        PAIRED  Bos taurus  2018-12-01T00:00:00Z  127610605.0  219741248.0            27.41\n"
     ]
    }
   ],
   "source": [
    "sub=master[(master.LibraryLayout=='PAIRED') & (master.COUNTRY_ISOLATION.notnull()) & (master.CLONAL_COMPLEX=='Eu2')]\n",
    "#print (sub[cols])\n",
    "#sub[cols].to_csv('../temp.csv')\n",
    "accessions=['SRR1792002','SRR5216872','SRR5486071','ERR841808','ERR125601',\n",
    "            'SRR8063654','SRR8063665','SRR8065079','SRR1791768','SRR1791960','ERR2815558']\n",
    "testset = master[master.Run.isin(accessions)]\n",
    "print (testset[cols])"
   ]
  },
  {
   "cell_type": "code",
   "execution_count": 186,
   "metadata": {},
   "outputs": [
    {
     "name": "stdout",
     "output_type": "stream",
     "text": [
      "fastq-dump --split-files SRR1791960 --outdir /storage/btbgenie/mbovis_sra\n"
     ]
    }
   ],
   "source": [
    "# fetch from SRA\n",
    "def fetch_sra_reads(df,path):\n",
    "    \"\"\"download a subset of reads \"\"\"\n",
    "    \n",
    "    for i,r in df.iterrows():\n",
    "        files = glob.glob(os.path.join(path,r.Run+'*'))        \n",
    "        if len(files)==0:\n",
    "            cmd = 'fastq-dump --split-files {n} --outdir {o}'.format(n=r.Run,o=path)\n",
    "            print (cmd)\n",
    "            subprocess.check_output(cmd,shell=True)\n",
    "\n",
    "fetch_sra_reads(testset,path='/storage/btbgenie/mbovis_sra')"
   ]
  },
  {
   "cell_type": "markdown",
   "metadata": {},
   "source": [
    "## Blasting to known contaminants\n",
    "\n",
    "* https://bmcbioinformatics.biomedcentral.com/articles/10.1186/s12859-019-2684-x#Sec2"
   ]
  },
  {
   "cell_type": "code",
   "execution_count": 32,
   "metadata": {},
   "outputs": [
    {
     "name": "stdout",
     "output_type": "stream",
     "text": [
      "samtools view -b -f 4 mapped/3_S57_L001.bam > unmapped.bam\n"
     ]
    }
   ],
   "source": [
    "#get unmapped reads from a bam file\n",
    "\n",
    "infile='mapped/3_S57_L001.bam'\n",
    "cmd = 'samtools view -b -f 4 {i} > unmapped.bam'.format(i=infile)\n",
    "print (cmd)\n",
    "#align with bwa to known index of contaminants\n"
   ]
  },
  {
   "cell_type": "markdown",
   "metadata": {},
   "source": [
    "## Examine FASTQ file quality and define trimming parameters"
   ]
  },
  {
   "cell_type": "code",
   "execution_count": null,
   "metadata": {},
   "outputs": [],
   "source": [
    "reload(tools)\n",
    "\n",
    "df = tools.fastq_to_dataframe(testfile)\n",
    "df.length.hist()"
   ]
  },
  {
   "cell_type": "code",
   "execution_count": null,
   "metadata": {},
   "outputs": [],
   "source": [
    "def trim_reads_default(filename, outfile, right_quality=30):\n",
    "    \"\"\"Trim adapters\"\"\"\n",
    "        \n",
    "    fastq_parser = SeqIO.parse(gzopen(filename, \"rt\"), \"fastq\")\n",
    "    c=0\n",
    "    out = gzopen(outfile, \"wt\")\n",
    "    for record in fastq_parser:\n",
    "        score = record.letter_annotations[\"phred_quality\"]         \n",
    "        for i in range(len(score)-1,0,-1):\n",
    "            if score[i] >= right_quality:\n",
    "                break\n",
    "        #trimmed.append(record[:i])\n",
    "        #print (record[:i])        \n",
    "        #c+=1\n",
    "        #if c>100:\n",
    "        #    break    \n",
    "        SeqIO.write(record[:i],out,'fastq')\n",
    "    return\n",
    "\n",
    "testfile = 'mbovis_sra/SRR1791711_1.fastq.gz'\n",
    "st=time.time()\n",
    "trim_reads_default(testfile,'trimmed.fastq.gz')\n",
    "print (time.time()-st)\n",
    "df = tools.fastq_to_dataframe('trimmed.fastq.gz')\n",
    "df.length.hist()"
   ]
  },
  {
   "cell_type": "markdown",
   "metadata": {},
   "source": [
    "## multiprocess trimming"
   ]
  },
  {
   "cell_type": "code",
   "execution_count": 439,
   "metadata": {},
   "outputs": [
    {
     "name": "stdout",
     "output_type": "stream",
     "text": [
      "Wrote 465388 records to group_1.fastq\n"
     ]
    },
    {
     "data": {
      "text/plain": [
       "['group_1.fastq']"
      ]
     },
     "execution_count": 439,
     "metadata": {},
     "output_type": "execute_result"
    }
   ],
   "source": [
    "def split_fastq(filename, chunks=4):\n",
    "    \"\"\"Split fastq file\"\"\"\n",
    "    \n",
    "    names=[]\n",
    "    tmp = '/tmp'\n",
    "    tmpfiles = []\n",
    "    record_iter = SeqIO.parse(gzopen(filename, \"rt\"), \"fastq\")\n",
    "    length = \n",
    "    for i, batch in enumerate(tools.batch_iterator(record_iter, chunksize)):\n",
    "        tempfile = \"group_%i.fastq\" % (i + 1)\n",
    "        tmpfiles.append(tempfile)\n",
    "        names.append(tempfile)\n",
    "        with open(tempfile, \"w\") as handle:\n",
    "            count = SeqIO.write(batch, handle, \"fastq\")\n",
    "        print(\"Wrote %i records to %s\" % (count, tempfile))\n",
    "    return names\n",
    "\n",
    "split_fastq(testfile)"
   ]
  },
  {
   "cell_type": "code",
   "execution_count": null,
   "metadata": {},
   "outputs": [],
   "source": [
    "tools.plot_fastq_qualities(testfile,limit=100000)\n",
    "plt.savefig('fastq_quals.png',dpi=100)\n",
    "tools.plot_fastq_gc_content(testfile, limit=50000)\n",
    "plt.savefig('gc.png',dpi=100)"
   ]
  },
  {
   "cell_type": "markdown",
   "metadata": {},
   "source": [
    "## Get sample ids from fastq files"
   ]
  },
  {
   "cell_type": "code",
   "execution_count": 333,
   "metadata": {},
   "outputs": [
    {
     "name": "stdout",
     "output_type": "stream",
     "text": [
      "['/storage/btbgenie/albania/6_S7_L001-4_R1_001.fastq.gz', '/storage/btbgenie/albania/6_S7_L001-4_R2_001.fastq.gz', '/storage/btbgenie/albania/3_S57_L001-4_R2_001.fastq.gz', '/storage/btbgenie/albania/3_S57_L001-4_R1_001.fastq.gz']\n"
     ]
    },
    {
     "data": {
      "text/html": [
       "<div>\n",
       "<style scoped>\n",
       "    .dataframe tbody tr th:only-of-type {\n",
       "        vertical-align: middle;\n",
       "    }\n",
       "\n",
       "    .dataframe tbody tr th {\n",
       "        vertical-align: top;\n",
       "    }\n",
       "\n",
       "    .dataframe thead th {\n",
       "        text-align: right;\n",
       "    }\n",
       "</style>\n",
       "<table border=\"1\" class=\"dataframe\">\n",
       "  <thead>\n",
       "    <tr style=\"text-align: right;\">\n",
       "      <th></th>\n",
       "      <th>name</th>\n",
       "      <th>sample</th>\n",
       "      <th>filename</th>\n",
       "      <th>pair</th>\n",
       "    </tr>\n",
       "  </thead>\n",
       "  <tbody>\n",
       "    <tr>\n",
       "      <th>0</th>\n",
       "      <td>3_S57_L001-4_R1_001</td>\n",
       "      <td>3_S57_L001</td>\n",
       "      <td>/storage/btbgenie/albania/3_S57_L001-4_R1_001....</td>\n",
       "      <td>1</td>\n",
       "    </tr>\n",
       "    <tr>\n",
       "      <th>1</th>\n",
       "      <td>3_S57_L001-4_R2_001</td>\n",
       "      <td>3_S57_L001</td>\n",
       "      <td>/storage/btbgenie/albania/3_S57_L001-4_R2_001....</td>\n",
       "      <td>2</td>\n",
       "    </tr>\n",
       "    <tr>\n",
       "      <th>2</th>\n",
       "      <td>6_S7_L001-4_R1_001</td>\n",
       "      <td>6_S7_L001</td>\n",
       "      <td>/storage/btbgenie/albania/6_S7_L001-4_R1_001.f...</td>\n",
       "      <td>1</td>\n",
       "    </tr>\n",
       "    <tr>\n",
       "      <th>3</th>\n",
       "      <td>6_S7_L001-4_R2_001</td>\n",
       "      <td>6_S7_L001</td>\n",
       "      <td>/storage/btbgenie/albania/6_S7_L001-4_R2_001.f...</td>\n",
       "      <td>2</td>\n",
       "    </tr>\n",
       "  </tbody>\n",
       "</table>\n",
       "</div>"
      ],
      "text/plain": [
       "                  name      sample                                           filename  pair\n",
       "0  3_S57_L001-4_R1_001  3_S57_L001  /storage/btbgenie/albania/3_S57_L001-4_R1_001....     1\n",
       "1  3_S57_L001-4_R2_001  3_S57_L001  /storage/btbgenie/albania/3_S57_L001-4_R2_001....     2\n",
       "2   6_S7_L001-4_R1_001   6_S7_L001  /storage/btbgenie/albania/6_S7_L001-4_R1_001.f...     1\n",
       "3   6_S7_L001-4_R2_001   6_S7_L001  /storage/btbgenie/albania/6_S7_L001-4_R2_001.f...     2"
      ]
     },
     "execution_count": 333,
     "metadata": {},
     "output_type": "execute_result"
    }
   ],
   "source": [
    "path1='/storage/btbgenie/albania'\n",
    "files = glob.glob(os.path.join(path1,'*.fastq.gz'))\n",
    "path2='/storage/btbgenie/mbovis_sra'\n",
    "files = glob.glob(os.path.join(path2,'*.fastq.gz'))\n",
    "#add outgroup file\n",
    "#files.append\n",
    "files = app.get_files_from_paths([path1])\n",
    "\n",
    "df = app.get_samples(files)\n",
    "df"
   ]
  },
  {
   "cell_type": "markdown",
   "metadata": {},
   "source": [
    "## Align the FASTQ files against reference and create VCF files"
   ]
  },
  {
   "cell_type": "code",
   "execution_count": 313,
   "metadata": {},
   "outputs": [
    {
     "name": "stdout",
     "output_type": "stream",
     "text": [
      "bwa mem -M -t 10 /home/damien/.config/snpgenie/genome/Mbovis_AF212297.fa /storage/btbgenie/albania/3_S57_L001-4_R1_001.fastq.gz /storage/btbgenie/albania/3_S57_L001-4_R2_001.fastq.gz | samtools view -F 0x04 -bt - | samtools sort -o mapped/3_S57_L001.bam\n",
      "samtools index mapped/3_S57_L001.bam\n",
      "bwa mem -M -t 10 /home/damien/.config/snpgenie/genome/Mbovis_AF212297.fa /storage/btbgenie/albania/6_S7_L001-4_R1_001.fastq.gz /storage/btbgenie/albania/6_S7_L001-4_R2_001.fastq.gz | samtools view -F 0x04 -bt - | samtools sort -o mapped/6_S7_L001.bam\n",
      "samtools index mapped/6_S7_L001.bam\n"
     ]
    },
    {
     "data": {
      "text/html": [
       "<div>\n",
       "<style scoped>\n",
       "    .dataframe tbody tr th:only-of-type {\n",
       "        vertical-align: middle;\n",
       "    }\n",
       "\n",
       "    .dataframe tbody tr th {\n",
       "        vertical-align: top;\n",
       "    }\n",
       "\n",
       "    .dataframe thead th {\n",
       "        text-align: right;\n",
       "    }\n",
       "</style>\n",
       "<table border=\"1\" class=\"dataframe\">\n",
       "  <thead>\n",
       "    <tr style=\"text-align: right;\">\n",
       "      <th></th>\n",
       "      <th>name</th>\n",
       "      <th>sample</th>\n",
       "      <th>filename</th>\n",
       "      <th>pair</th>\n",
       "      <th>bam_file</th>\n",
       "    </tr>\n",
       "  </thead>\n",
       "  <tbody>\n",
       "    <tr>\n",
       "      <th>0</th>\n",
       "      <td>3_S57_L001-4_R1_001</td>\n",
       "      <td>3_S57_L001</td>\n",
       "      <td>/storage/btbgenie/albania/3_S57_L001-4_R1_001....</td>\n",
       "      <td>1</td>\n",
       "      <td>mapped/3_S57_L001.bam</td>\n",
       "    </tr>\n",
       "    <tr>\n",
       "      <th>1</th>\n",
       "      <td>3_S57_L001-4_R2_001</td>\n",
       "      <td>3_S57_L001</td>\n",
       "      <td>/storage/btbgenie/albania/3_S57_L001-4_R2_001....</td>\n",
       "      <td>2</td>\n",
       "      <td>mapped/3_S57_L001.bam</td>\n",
       "    </tr>\n",
       "    <tr>\n",
       "      <th>2</th>\n",
       "      <td>6_S7_L001-4_R1_001</td>\n",
       "      <td>6_S7_L001</td>\n",
       "      <td>/storage/btbgenie/albania/6_S7_L001-4_R1_001.f...</td>\n",
       "      <td>1</td>\n",
       "      <td>mapped/6_S7_L001.bam</td>\n",
       "    </tr>\n",
       "    <tr>\n",
       "      <th>3</th>\n",
       "      <td>6_S7_L001-4_R2_001</td>\n",
       "      <td>6_S7_L001</td>\n",
       "      <td>/storage/btbgenie/albania/6_S7_L001-4_R2_001.f...</td>\n",
       "      <td>2</td>\n",
       "      <td>mapped/6_S7_L001.bam</td>\n",
       "    </tr>\n",
       "  </tbody>\n",
       "</table>\n",
       "</div>"
      ],
      "text/plain": [
       "                  name      sample                                           filename  pair               bam_file\n",
       "0  3_S57_L001-4_R1_001  3_S57_L001  /storage/btbgenie/albania/3_S57_L001-4_R1_001....     1  mapped/3_S57_L001.bam\n",
       "1  3_S57_L001-4_R2_001  3_S57_L001  /storage/btbgenie/albania/3_S57_L001-4_R2_001....     2  mapped/3_S57_L001.bam\n",
       "2   6_S7_L001-4_R1_001   6_S7_L001  /storage/btbgenie/albania/6_S7_L001-4_R1_001.f...     1   mapped/6_S7_L001.bam\n",
       "3   6_S7_L001-4_R2_001   6_S7_L001  /storage/btbgenie/albania/6_S7_L001-4_R2_001.f...     2   mapped/6_S7_L001.bam"
      ]
     },
     "execution_count": 313,
     "metadata": {},
     "output_type": "execute_result"
    }
   ],
   "source": [
    "reload(aligners)\n",
    "ref = app.mbovis_genome\n",
    "samples = app.get_samples(files)\n",
    "app.align_reads(samples, idx=ref, threads=10, overwrite=False)"
   ]
  },
  {
   "cell_type": "code",
   "execution_count": 16,
   "metadata": {},
   "outputs": [],
   "source": [
    "def get_samples():\n",
    "    import vcf\n",
    "    vcf_reader = vcf.Reader(open('mapped/calls.vcf.gz', 'rb'))\n",
    "    vcf_reader.samples"
   ]
  },
  {
   "cell_type": "markdown",
   "metadata": {},
   "source": [
    "## remove duplicated reads"
   ]
  },
  {
   "cell_type": "code",
   "execution_count": null,
   "metadata": {},
   "outputs": [],
   "source": [
    "cmd = 'samtools rmdup A_reads.bt2.sorted.bam A_reads.bt2.sorted.noDups.bam'"
   ]
  },
  {
   "cell_type": "markdown",
   "metadata": {},
   "source": [
    "## variant calling"
   ]
  },
  {
   "cell_type": "code",
   "execution_count": 346,
   "metadata": {},
   "outputs": [
    {
     "name": "stdout",
     "output_type": "stream",
     "text": [
      "bcftools mpileup -O b --min-MQ 60 -o mapped/raw.bcf -f /home/damien/.config/snpgenie/genome/Mbovis_AF212297.fa mapped/6_S7_L001.bam mapped/3_S57_L001.bam\n",
      "bcftools call -V indels --ploidy 1 -m -v -o mapped/calls.vcf mapped/raw.bcf\n",
      "bcftools reheader --samples mapped/samples.txt -o /tmp/calls.vcf mapped/calls.vcf\n",
      "bcftools filter -i \"QUAL>=40 && INFO/DP>=30 && DP4>=4 && MQ>35\" -o mapped/filtered.vcf.gz -O z mapped/calls.vcf\n",
      "110.03333401679993\n"
     ]
    }
   ],
   "source": [
    "reload(app)\n",
    "bam_files = glob.glob('mapped/*.bam')\n",
    "create_bam_labels(bam_files)\n",
    "st=time.time()\n",
    "vcf_file = app.variant_calling(bam_files, ref, 'mapped', threads=1, overwrite=True)\n",
    "print (time.time()-st)"
   ]
  },
  {
   "cell_type": "code",
   "execution_count": null,
   "metadata": {},
   "outputs": [],
   "source": [
    "v1 = vcf_to_dataframe('result.vcf')\n",
    "print (v1.var_type.value_counts())"
   ]
  },
  {
   "cell_type": "code",
   "execution_count": null,
   "metadata": {},
   "outputs": [],
   "source": [
    "v2 = vcf_to_dataframe('mapped/raw.bcf')\n",
    "print (v2.var_type.value_counts())"
   ]
  },
  {
   "cell_type": "markdown",
   "metadata": {},
   "source": [
    "## filtering\n",
    "Joe filters: DP - 30, DP4 - 4, MQ - 35, SUP - 0.95 and COV - 0.05. GQ and FQ = 0"
   ]
  },
  {
   "cell_type": "code",
   "execution_count": 26,
   "metadata": {},
   "outputs": [
    {
     "name": "stdout",
     "output_type": "stream",
     "text": [
      "bcftools filter -e \"QUAL<=40 && DP>=30 && DP4>=4 && MQ>=35\" -o filtered.vcf.gz -O z mapped/calls.vcf\n"
     ]
    },
    {
     "data": {
      "text/plain": [
       "snp    2804\n",
       "Name: var_type, dtype: int64"
      ]
     },
     "execution_count": 26,
     "metadata": {},
     "output_type": "execute_result"
    }
   ],
   "source": [
    "cmd = 'bcftools filter -e \"QUAL<=40 && DP>=30 && DP4>=4 && MQ>=35\" -o filtered.vcf.gz -O z mapped/calls.vcf'\n",
    "print (cmd)\n",
    "tmp = subprocess.check_output(cmd,shell=True)\n",
    "v = vcf_to_dataframe('filtered.vcf.gz')\n",
    "v.var_type.value_counts()"
   ]
  },
  {
   "cell_type": "markdown",
   "metadata": {},
   "source": [
    "## consequence calling for vcf"
   ]
  },
  {
   "cell_type": "code",
   "execution_count": 2,
   "metadata": {},
   "outputs": [
    {
     "name": "stdout",
     "output_type": "stream",
     "text": [
      "bcftools csq -f /home/damien/.config/pathogenie/genome/Mbovis_AF212297.fa -g ../pathogenie/data/Mbovis_csq_format.gff filtered.vcf.gz -Ot -o csqout.tsv\n"
     ]
    }
   ],
   "source": [
    "reload(app)\n",
    "ref=app.ref_genome\n",
    "gff = '../pathogenie/data/Mbovis_csq_format.gff'\n",
    "out = 'csqout.tsv'\n",
    "def csq_call():\n",
    "    cmd = 'bcftools csq -f {r} -g {g} filtered.vcf.gz -Ot -o {o}'.format(r=ref,g=gff,o=out)\n",
    "    print (cmd)\n",
    "    tmp = subprocess.check_output(cmd,shell=True)\n",
    "    \n",
    "csq_call()"
   ]
  },
  {
   "cell_type": "code",
   "execution_count": null,
   "metadata": {},
   "outputs": [],
   "source": [
    "reload(app)\n",
    "def read_csq_file(filename):\n",
    "    cols = ['1','filename','2','chrom','start','snp_type','gene','locus_tag','strand','feature_type','aa','nuc',]\n",
    "    csqdf = pd.read_csv(filename,sep='[|\\t]',comment='#',names=cols, engine='python')\n",
    "    return csqdf\n",
    "csq = read_csq_file('csqout.tsv')\n",
    "csq"
   ]
  },
  {
   "cell_type": "code",
   "execution_count": 6,
   "metadata": {},
   "outputs": [],
   "source": [
    "def vcf_to_dataframe(vcf_file, quality=30):\n",
    "    \"\"\"Convert vcf to dataframe\"\"\"\n",
    "\n",
    "    import vcf\n",
    "    ext = os.path.splitext(vcf_file)[1]    \n",
    "    if ext == '.gz':\n",
    "        file = gzopen(vcf_file, \"rt\")\n",
    "    else:\n",
    "        file = open(vcf_file)\n",
    "    vcf_reader = vcf.Reader(file,'r')    \n",
    "    res=[]\n",
    "    cols = ['chrom','var_type','sub_type','start','end','REF','ALT','QUAL','DP']\n",
    "    i=0\n",
    "    for rec in vcf_reader:\n",
    "        #if i>10:\n",
    "        #    break\n",
    "        x = [rec.CHROM, rec.var_type, rec.var_subtype, rec.start, rec.end, rec.REF, str(rec.ALT[0]),\n",
    "            rec.QUAL, rec.INFO['DP']]\n",
    "        #print (rec.__dict__)\n",
    "        #print (rec.INFO.keys())\n",
    "        #for call in rec.samples:\n",
    "        #    print (call.sample, call.data, rec.genotype(call.sample)) \n",
    "        res.append(x)\n",
    "        #print (x)    \n",
    "        #i+=1\n",
    "    res = pd.DataFrame(res,columns=cols)    \n",
    "    return res\n"
   ]
  },
  {
   "cell_type": "code",
   "execution_count": 47,
   "metadata": {},
   "outputs": [
    {
     "data": {
      "text/plain": [
       "snp    2756\n",
       "Name: var_type, dtype: int64"
      ]
     },
     "execution_count": 47,
     "metadata": {},
     "output_type": "execute_result"
    }
   ],
   "source": [
    "vdf = vcf_to_dataframe('mapped/filtered.vcf.gz')\n",
    "vdf.var_type.value_counts()"
   ]
  },
  {
   "cell_type": "markdown",
   "metadata": {},
   "source": [
    "## Make fasta alignment from filtered VCF sites with multiple samples\n",
    "\n",
    "https://github.com/JosephCrispell/GeneralTools/blob/master/ProcessingPipeline/CreateFastaWithReferenceFromFiltered_28-06-17.pl\n",
    "\n",
    "\"The allele frequencies at each position in the aligned (against reference) sequence from each isolate were examined. For a haploid organism these frequencies are expected to be either 0 or 1, with some random variation expected from sequencing errors (Sobkowiak et al., 2018). A heterozygous site was defined as one where the allele frequencies were >0.05 and <0.95. Four cattle-derived sequences that had more than 150 heterozygous sites, and allele frequencies that were clustered and non-random (data not shown), were removed. In addition, 26 badger-derived and 16 cattle-derived M. bovis sequences were removed because of suspected errors in the metadata (Appendix 1: Investigating isolate metadata discrepancies).\n",
    "\n",
    "For the sequences from the remaining isolates (204 badger- and 169 cattle-derived isolates), alleles were called at each variant position if they had mapping quality ≥30, high-quality base depth ≥4 (applied to reverse and forward reads separately), read depth ≥30, and allele support ≥0.95. For any site that failed these criteria, if the allele called had been observed in a different isolate that had passed, a second round of filtering was conducted using a high-quality base depth of 5 (total across forward and reverse reads) and the same allele support. As recombination is thought to be extremely rare for mycobacteria (Namouchi et al., 2012), variants in close proximity could indicate a region that is difficult to sequence or under high selection. To avoid calling variants in these regions, variant positions within 10 bp of one another were removed. Following filtering, sequences from 11 badger and 10 cattle isolates that had insufficient coverage (<95%) of the variant positions were removed. Once the alignment was generated, sites with a consistency index less than 1, generally considered homoplasies (Farris, 1989), were removed (n = 4, of 14,991 sites) using HomoplasyFinder (v0.0.0.9; Crispell et al., 2019; RRID: SCR_017300). All the scripts necessary for the processing of the WGS data are freely available online.\""
   ]
  },
  {
   "cell_type": "code",
   "execution_count": 332,
   "metadata": {},
   "outputs": [
    {
     "name": "stdout",
     "output_type": "stream",
     "text": [
      "['mapped/6_S7_L001.bam', 'mapped/3_S57_L001.bam']\n",
      "2 samples\n",
      "mapped/6_S7_L001.bam\n",
      "mapped/3_S57_L001.bam\n",
      "using 1751 sites\n",
      "took 1.0 seconds\n"
     ]
    },
    {
     "data": {
      "text/plain": [
       "3"
      ]
     },
     "execution_count": 332,
     "metadata": {},
     "output_type": "execute_result"
    }
   ],
   "source": [
    "def fasta_alignment_from_vcf(vcf_file, ref, callback=None):\n",
    "    \"\"\"Get a fasta alignment for all snp sites in a multi sample\n",
    "    vcf file.\n",
    "    Args:\n",
    "        vcf_file: input vcf\n",
    "        ref: the reference sequence\n",
    "        callback: optional function to direct output\n",
    "    \"\"\"\n",
    "\n",
    "    st = time.time()\n",
    "    if not os.path.exists(vcf_file):\n",
    "        print ('no such file %s' %vcf_file)\n",
    "        return    \n",
    "    from pyfaidx import Fasta\n",
    "    from pyfaidx import FastaVariant\n",
    "    #index vcf\n",
    "    cmd = 'tabix -p vcf -f {i}'.format(i=vcf_file)\n",
    "    tmp = subprocess.check_output(cmd,shell=True)\n",
    "    #get samples?\n",
    "    import vcf\n",
    "    vcf_reader = vcf.Reader(open(vcf_file, 'rb'))\n",
    "    samples = vcf_reader.samples\n",
    "    print (samples)\n",
    "    print ('%s samples' %len(samples))\n",
    "    result = []\n",
    "\n",
    "    #reference sequence\n",
    "    reference = Fasta(ref)\n",
    "    chrom = list(reference.keys())[0]\n",
    "\n",
    "    #get the set of all sites first\n",
    "    sites=[]\n",
    "    for sample in samples:\n",
    "        print (sample)\n",
    "        variant = FastaVariant(ref, vcf_file,\n",
    "                                 sample=sample, het=True, hom=True)\n",
    "        pos = list(variant[chrom].variant_sites)\n",
    "        sites.extend(pos)\n",
    "        #print (sample)\n",
    "        #print (pos[:20])\n",
    "    sites = sorted(set(sites))\n",
    "    print ('using %s sites' %len(sites))\n",
    "    if callback != None:\n",
    "        callback('using %s sites' %len(sites))\n",
    "    #get reference sequence for site positions\n",
    "    refseq=[]\n",
    "    for p in sites:\n",
    "        refseq.append(reference[chrom][p-1].seq)\n",
    "    refseq = ''.join(refseq)\n",
    "    #print (refseq)\n",
    "    refrec = SeqRecord(Seq(refseq),id='ref')\n",
    "    result.append(refrec)\n",
    "\n",
    "    sites_matrix = {}\n",
    "    sites_matrix['ref'] = list(refrec)\n",
    "    #iterate over variants in each sample\n",
    "    for sample in samples:\n",
    "        seq=[]\n",
    "        variant = FastaVariant(ref, vcf_file,\n",
    "                               sample=sample, het=True, hom=True)\n",
    "        #for p in variant[chrom].variant_sites:\n",
    "        for p in sites:\n",
    "            rec = variant[chrom][p-1:p]\n",
    "            #print (p,rec)\n",
    "            seq.append(rec.seq)\n",
    "        seq = ''.join(seq)\n",
    "        #print (seq)\n",
    "        seqrec = SeqRecord(Seq(seq),id=sample)\n",
    "        result.append(seqrec)\n",
    "        sites_matrix[sample] = list(seqrec)\n",
    "\n",
    "    #smat is a dataframe matrix of the positions and genotype\n",
    "    smat = pd.DataFrame(sites_matrix)\n",
    "    smat.index = sites\n",
    "    print ('took %s seconds' %str(round(time.time()-st,0)))\n",
    "    return result, smat\n",
    "\n",
    "result, smat = fasta_alignment_from_vcf('mapped/filtered.vcf.gz', app.mbovis_genome)\n",
    "SeqIO.write(result, 'variants.fa', 'fasta')\n"
   ]
  },
  {
   "cell_type": "markdown",
   "metadata": {},
   "source": [
    "### Phylogeny from MSA"
   ]
  },
  {
   "cell_type": "code",
   "execution_count": 49,
   "metadata": {},
   "outputs": [
    {
     "name": "stdout",
     "output_type": "stream",
     "text": [
      "raxmlHPC-PTHREADS -f a -N 10 -T 8 -m GTRCAT -V -p 81287182 -x 18745047 -n variants -s variants.fa\n"
     ]
    }
   ],
   "source": [
    "def run_RAXML(infile, name='variants', threads=8):\n",
    "    \"\"\"Run Raxml pthreads\"\"\"\n",
    "\n",
    "    bootstraps = 10\n",
    "    model = 'GTRCAT'\n",
    "    s1 = random.randint(0,1e8)\n",
    "    s2 = random.randint(0,1e8)\n",
    "    \n",
    "    files = glob.glob('RAxML_*')\n",
    "    for f in files:\n",
    "        os.remove(f)\n",
    "    cmd = 'raxmlHPC-PTHREADS -f a -N {nb} -T {t} -m {m} -V -p {s1} -x {s2} -n {n} -s {i}'.format(t=threads,nb=bootstraps,n=name,i=infile,s1=s1,s2=s2,m=model)\n",
    "    print (cmd)\n",
    "    tmp = subprocess.check_output(cmd, shell=True)\n",
    "    return\n",
    "    \n",
    "run_RAXML('variants.fa')"
   ]
  },
  {
   "cell_type": "code",
   "execution_count": null,
   "metadata": {},
   "outputs": [],
   "source": [
    "def create_tree(filename, labelmap=None):\n",
    "    \"\"\"Draw a tree \"\"\"\n",
    "    \n",
    "    from ete3 import Tree, NodeStyle, TreeStyle\n",
    "    t = Tree(filename)\n",
    "    t.set_outgroup('ref')    \n",
    "    if labelmap != None:\n",
    "        trees.set_tiplabels(t,labelmap)\n",
    "    trees.format_nodes(t)\n",
    "    ts = TreeStyle()\n",
    "    ts.scale=1000\n",
    "    t.render(\"%%inline\", tree_style=ts)\n",
    "    t.render(\"tree.png\", tree_style=ts)\n",
    "    return t\n",
    "\n",
    "sra['filename'] = sra.Run.apply(lambda x: 'mapped/'+x+'.bam')\n",
    "print (sra[:3])\n",
    "labelmap = dict(zip(sra.filename,sra.geo_loc_name_country))\n",
    "#print (labelmap)\n",
    "t = create_tree('RAxML_bipartitions.variants', labelmap)\n",
    "t.render(\"%%inline\")"
   ]
  },
  {
   "cell_type": "code",
   "execution_count": null,
   "metadata": {},
   "outputs": [],
   "source": [
    "from Bio import Phylo\n",
    "tree=Phylo.read('RAxML_bestTree.variants','newick')\n",
    "Phylo.draw(tree)"
   ]
  },
  {
   "cell_type": "markdown",
   "metadata": {},
   "source": [
    "## csq gff format"
   ]
  },
  {
   "cell_type": "code",
   "execution_count": 349,
   "metadata": {},
   "outputs": [],
   "source": [
    "tools.gff_bcftools_format('../snpgenie/data/Mbovis_AF212297.gb', '../Mbovis_csq_new.gff')"
   ]
  },
  {
   "cell_type": "code",
   "execution_count": null,
   "metadata": {},
   "outputs": [],
   "source": [
    "gff=tools.gff_to_features('../pathogenie/data/Mbovis_AF212297.gff')\n",
    "g=tools.features_to_dataframe(gff)\n",
    "tools.features_summary(g)"
   ]
  },
  {
   "cell_type": "code",
   "execution_count": null,
   "metadata": {},
   "outputs": [],
   "source": [
    "reload(plotting)\n",
    "f,ax=plt.subplots(1,1,figsize=(12,3))\n",
    "st=time.time()\n",
    "plotting.plot_bam_alignment('../test_results/mapped/3_S57_L001.bam', 'LT708304.1', 2000, 3000, yend=100, rect_height=3, ax=ax)\n",
    "print (time.time()-st)"
   ]
  },
  {
   "cell_type": "code",
   "execution_count": 302,
   "metadata": {},
   "outputs": [
    {
     "data": {
      "image/png": "[encoded data removed]",
      "text/plain": [
       "<Figure size 1080x108 with 1 Axes>"
      ]
     },
     "metadata": {
      "needs_background": "light"
     },
     "output_type": "display_data"
    }
   ],
   "source": [
    "def plot_features(rec, ax, rows=3, xstart=0, xend=30000):\n",
    "    \n",
    "    h=1\n",
    "    df = tools.records_to_dataframe([rec])    \n",
    "    df = df[(df.feat_type!='region') & (df['feat_type']!='source')]\n",
    "    df = df[(df.start>xstart) & (df.end<xend)]\n",
    "    df['length'] = df.end-df.start\n",
    "    y = list(range(1,rows)) * len(df)\n",
    "    df['y'] = y[:len(df)]\n",
    "    df['color'] = 'blue'\n",
    "    df = df.fillna('')\n",
    "    #print (df)  \n",
    "    \n",
    "    from matplotlib.collections import PatchCollection\n",
    "    import matplotlib.patches as mpatches\n",
    "\n",
    "    patches=[]\n",
    "    for i,r in df.iterrows():        \n",
    "        #rect = plt.Rectangle((r.start, r.y), r.length, h/2,\n",
    "        #                        alpha=.5, linewidth=.5,\n",
    "        #                        edgecolor='black', facecolor=r.color)\n",
    "        if r.strand == 1:\n",
    "            x = r.start\n",
    "            dx = r.length\n",
    "        else:\n",
    "            x = r.end\n",
    "            dx = -r.length\n",
    "        arrow = mpatches.Arrow(x, r.y, dx, 0, alpha=.7, width=.3, \n",
    "                               edgecolor='black')\n",
    "        txt = ax.text(r.start, r.y-h/2, r.gene, size=16)\n",
    "        patches.append(arrow)  \n",
    "        \n",
    "    ax.add_collection(PatchCollection(patches, match_original=True))  \n",
    "    ax.set_xlim(xstart, xend)\n",
    "    ax.set_ylim(.4,rows-.5)\n",
    "    plt.yticks([])\n",
    "    plt.tight_layout()\n",
    "\n",
    "    def onclick(event):\n",
    "        print('%s click: button=%d, x=%d, y=%d, xdata=%f, ydata=%f' %\n",
    "              ('double' if event.dblclick else 'single', event.button,\n",
    "               event.x, event.y, event.xdata, event.ydata))\n",
    "        ax.text(event.x, event.y, 'HI!')\n",
    "        ax.figure.canvas.draw()\n",
    "    #cid = ax.figure.canvas.mpl_connect('button_press_event', onclick)\n",
    "    return\n",
    "\n",
    "reload(tools)\n",
    "recs = tools.gff_to_records(app.mbovis_gff)\n",
    "rec=recs[0]\n",
    "f,ax=plt.subplots(1,1,figsize=(15,1.5))\n",
    "plot_features(rec, ax=ax, xstart=26000,xend=35000)"
   ]
  },
  {
   "cell_type": "markdown",
   "metadata": {},
   "source": [
    "## replace pysam"
   ]
  },
  {
   "cell_type": "code",
   "execution_count": 352,
   "metadata": {},
   "outputs": [
    {
     "data": {
      "text/plain": [
       "'LT708304.1'"
      ]
     },
     "execution_count": 352,
     "metadata": {},
     "output_type": "execute_result"
    }
   ],
   "source": [
    "def get_chrom(bam_file):\n",
    "    \"\"\"Get first sequence name in a bam file\"\"\"\n",
    "\n",
    "    import pysam\n",
    "    samfile = pysam.AlignmentFile(bam_file, \"r\")\n",
    "    iter=samfile.fetch(start=0,end=10)\n",
    "    for read in iter:\n",
    "        if read.reference_name:\n",
    "            return read.reference_name\n",
    "        \n",
    "get_chrom('mapped/3_S57_L001.bam')"
   ]
  },
  {
   "cell_type": "code",
   "execution_count": 371,
   "metadata": {},
   "outputs": [],
   "source": [
    "import bamnostic as bs\n",
    "bam = bs.AlignmentFile('mapped/3_S57_L001.bam', 'rb')"
   ]
  },
  {
   "cell_type": "code",
   "execution_count": 372,
   "metadata": {},
   "outputs": [],
   "source": [
    "chrom=bam.header['SQ'][0]['SN']"
   ]
  },
  {
   "cell_type": "code",
   "execution_count": null,
   "metadata": {},
   "outputs": [],
   "source": [
    "for i, read in enumerate(bam.fetch(chrom, 1, 10)):\n",
    "    print(read)"
   ]
  },
  {
   "cell_type": "code",
   "execution_count": null,
   "metadata": {},
   "outputs": [],
   "source": [
    "def get_coverage(bam_file, chr, start, end):\n",
    "    \"\"\"Get coverage from bam file at specified region\"\"\"\n",
    "    \n",
    "    import bamnostic as bs\n",
    "    if bam_file is None or not os.path.exists(bam_file):\n",
    "        return\n",
    "    bam = bs.AlignmentFile(bam_file, 'rb')\n",
    "    for i, read in enumerate(bam.fetch(chrom, 1, 10)):\n",
    "        print(read)\n",
    "    return\n",
    "\n",
    "get_coverage('mapped/3_S57_L001.bam', chrom, 1, 100)"
   ]
  },
  {
   "cell_type": "code",
   "execution_count": 25,
   "metadata": {},
   "outputs": [
    {
     "data": {
      "text/plain": [
       "{'total': 1033927,\n",
       " 'secondary': 4739,\n",
       " 'supplementary': 0,\n",
       " 'duplicates': 0,\n",
       " 'mapped': 1033927,\n",
       " 'paired': 1029188,\n",
       " 'read1': 514963,\n",
       " 'read2': 514225,\n",
       " 'properly paired': 1019092,\n",
       " 'with itself': 1027864,\n",
       " 'singletons': 1324}"
      ]
     },
     "execution_count": 25,
     "metadata": {},
     "output_type": "execute_result"
    }
   ],
   "source": [
    "def samtools_flagstats(filename):\n",
    "    \"\"\"Parse samtools flagstat output into dictionary\"\"\"\n",
    "    \n",
    "    cmd = 'samtools flagstat %s' %filename\n",
    "    tmp = subprocess.check_output(cmd, shell=True, universal_newlines=True)\n",
    "    x = tmp.split('\\n')    \n",
    "    x = [int(i.split('+')[0]) for i in x[:-1]]\n",
    "    #print (x)\n",
    "    cols = ['total','secondary','supplementary','duplicates','mapped',\n",
    "            'paired','read1','read2','properly paired','with itself','singletons']\n",
    "    d = {}\n",
    "    for c,v in zip(cols,x):\n",
    "        d[c] = v\n",
    "    return d\n",
    "\n",
    "samtools_flagstats('mapped/6_S7_L001.bam')"
   ]
  },
  {
   "cell_type": "code",
   "execution_count": null,
   "metadata": {},
   "outputs": [],
   "source": []
  }
 ],
 "metadata": {
  "kernelspec": {
   "display_name": "Python 3",
   "language": "python",
   "name": "python3"
  },
  "language_info": {
   "codemirror_mode": {
    "name": "ipython",
    "version": 3
   },
   "file_extension": ".py",
   "mimetype": "text/x-python",
   "name": "python",
   "nbconvert_exporter": "python",
   "pygments_lexer": "ipython3",
   "version": "3.8.2"
  }
 },
 "nbformat": 4,
 "nbformat_minor": 4
}
