{
 "cells": [
  {
   "cell_type": "markdown",
   "metadata": {},
   "source": [
    "# SarsCoV2 SRA data analysis with Pathogenie\n",
    "\n",
    "## links\n",
    "\n",
    "* https://www.ncbi.nlm.nih.gov/genbank/sars-cov-2-seqs/#sra-sequences\n",
    "* https://www.ncbi.nlm.nih.gov/nuccore/NC_045512"
   ]
  },
  {
   "cell_type": "code",
   "execution_count": 41,
   "metadata": {},
   "outputs": [],
   "source": [
    "import sys,os,shutil,subprocess\n",
    "import glob\n",
    "from importlib import reload\n",
    "import numpy as np\n",
    "import pandas as pd\n",
    "import pylab as plt\n",
    "from Bio import SeqIO\n",
    "sys.path.append('pathogenie')\n",
    "from pathogenie import app, tools, aligners"
   ]
  },
  {
   "cell_type": "code",
   "execution_count": 62,
   "metadata": {},
   "outputs": [
    {
     "name": "stdout",
     "output_type": "stream",
     "text": [
      "AMPLICON    241\n",
      "RNA-Seq      38\n",
      "WGS           8\n",
      "WGA           1\n",
      "Name: Assay Type, dtype: int64\n"
     ]
    }
   ],
   "source": [
    "sra = pd.read_csv('sarscov2_sra.txt')\n",
    "sra = sra.sort_values('Bytes')\n",
    "print (sra['Assay Type'].value_counts())\n",
    "sra = sra[sra['Assay Type']=='WGS']"
   ]
  },
  {
   "cell_type": "code",
   "execution_count": 56,
   "metadata": {},
   "outputs": [
    {
     "data": {
      "text/plain": [
       "Index(['Run', 'Assay Type', 'AvgSpotLen', 'Bases', 'BioProject', 'BioSample',\n",
       "       'BioSampleModel', 'Bytes', 'Center Name', 'Consent',\n",
       "       'DATASTORE filetype', 'DATASTORE provider', 'DATASTORE region',\n",
       "       'Experiment', 'Instrument', 'Library Name', 'LibraryLayout',\n",
       "       'LibrarySelection', 'LibrarySource', 'Organism', 'Platform',\n",
       "       'ReleaseDate', 'Sample Name', 'SRA Study', 'Collection_Date', 'Host',\n",
       "       'geo_loc_name_country', 'geo_loc_name_country_continent',\n",
       "       'geo_loc_name', 'collected_by', 'Isolation_source', 'lat_lon',\n",
       "       'host_disease', 'Isolate', 'strain', 'sample_type', 'Age',\n",
       "       'Biomaterial_provider', 'host_description', 'host_tissue_sampled',\n",
       "       'sex', 'tissue', 'AssemblyName', 'COUNTRY', 'env_broad_scale',\n",
       "       'env_local_scale', 'env_medium', 'Host_Age', 'host_disease_outcome',\n",
       "       'host_disease_stage', 'host_sex'],\n",
       "      dtype='object')"
      ]
     },
     "execution_count": 56,
     "metadata": {},
     "output_type": "execute_result"
    }
   ],
   "source": [
    "cols = ['Run','Collection_Date','Center Name','geo_loc_name_country','Bytes','Bases','Assay Type']\n",
    "sra = sra.sort_values('Bytes')\n",
    "sra.columns"
   ]
  },
  {
   "cell_type": "code",
   "execution_count": 58,
   "metadata": {},
   "outputs": [
    {
     "data": {
      "text/html": [
       "<div>\n",
       "<style scoped>\n",
       "    .dataframe tbody tr th:only-of-type {\n",
       "        vertical-align: middle;\n",
       "    }\n",
       "\n",
       "    .dataframe tbody tr th {\n",
       "        vertical-align: top;\n",
       "    }\n",
       "\n",
       "    .dataframe thead th {\n",
       "        text-align: right;\n",
       "    }\n",
       "</style>\n",
       "<table border=\"1\" class=\"dataframe\">\n",
       "  <thead>\n",
       "    <tr style=\"text-align: right;\">\n",
       "      <th></th>\n",
       "      <th>Run</th>\n",
       "      <th>Collection_Date</th>\n",
       "      <th>Center Name</th>\n",
       "      <th>geo_loc_name_country</th>\n",
       "      <th>Bytes</th>\n",
       "      <th>Bases</th>\n",
       "      <th>Assay Type</th>\n",
       "    </tr>\n",
       "  </thead>\n",
       "  <tbody>\n",
       "    <tr>\n",
       "      <th>119</th>\n",
       "      <td>SRR11140750</td>\n",
       "      <td>2020-02-14</td>\n",
       "      <td>UNIVERSITY OF WISCONSIN - MADISON</td>\n",
       "      <td>USA</td>\n",
       "      <td>3824341</td>\n",
       "      <td>7650166</td>\n",
       "      <td>WGS</td>\n",
       "    </tr>\n",
       "    <tr>\n",
       "      <th>115</th>\n",
       "      <td>SRR11140751</td>\n",
       "      <td>2020-02-14</td>\n",
       "      <td>UNIVERSITY OF WISCONSIN - MADISON</td>\n",
       "      <td>USA</td>\n",
       "      <td>21841904</td>\n",
       "      <td>23696161</td>\n",
       "      <td>WGS</td>\n",
       "    </tr>\n",
       "    <tr>\n",
       "      <th>117</th>\n",
       "      <td>SRR11140746</td>\n",
       "      <td>2020-02-14</td>\n",
       "      <td>UNIVERSITY OF WISCONSIN - MADISON</td>\n",
       "      <td>USA</td>\n",
       "      <td>77997568</td>\n",
       "      <td>159508570</td>\n",
       "      <td>WGS</td>\n",
       "    </tr>\n",
       "    <tr>\n",
       "      <th>118</th>\n",
       "      <td>SRR11140748</td>\n",
       "      <td>2020-02-14</td>\n",
       "      <td>UNIVERSITY OF WISCONSIN - MADISON</td>\n",
       "      <td>USA</td>\n",
       "      <td>92488120</td>\n",
       "      <td>190194752</td>\n",
       "      <td>WGS</td>\n",
       "    </tr>\n",
       "    <tr>\n",
       "      <th>116</th>\n",
       "      <td>SRR11140744</td>\n",
       "      <td>2020-02-14</td>\n",
       "      <td>UNIVERSITY OF WISCONSIN - MADISON</td>\n",
       "      <td>USA</td>\n",
       "      <td>108481864</td>\n",
       "      <td>226957916</td>\n",
       "      <td>WGS</td>\n",
       "    </tr>\n",
       "    <tr>\n",
       "      <th>112</th>\n",
       "      <td>SRR11140745</td>\n",
       "      <td>2020-02-14</td>\n",
       "      <td>UNIVERSITY OF WISCONSIN - MADISON</td>\n",
       "      <td>USA</td>\n",
       "      <td>240280298</td>\n",
       "      <td>260956833</td>\n",
       "      <td>WGS</td>\n",
       "    </tr>\n",
       "    <tr>\n",
       "      <th>114</th>\n",
       "      <td>SRR11140749</td>\n",
       "      <td>2020-02-14</td>\n",
       "      <td>UNIVERSITY OF WISCONSIN - MADISON</td>\n",
       "      <td>USA</td>\n",
       "      <td>280564726</td>\n",
       "      <td>304113442</td>\n",
       "      <td>WGS</td>\n",
       "    </tr>\n",
       "    <tr>\n",
       "      <th>113</th>\n",
       "      <td>SRR11140747</td>\n",
       "      <td>2020-02-14</td>\n",
       "      <td>UNIVERSITY OF WISCONSIN - MADISON</td>\n",
       "      <td>USA</td>\n",
       "      <td>332198738</td>\n",
       "      <td>359000999</td>\n",
       "      <td>WGS</td>\n",
       "    </tr>\n",
       "  </tbody>\n",
       "</table>\n",
       "</div>"
      ],
      "text/plain": [
       "             Run Collection_Date                        Center Name  \\\n",
       "119  SRR11140750      2020-02-14  UNIVERSITY OF WISCONSIN - MADISON   \n",
       "115  SRR11140751      2020-02-14  UNIVERSITY OF WISCONSIN - MADISON   \n",
       "117  SRR11140746      2020-02-14  UNIVERSITY OF WISCONSIN - MADISON   \n",
       "118  SRR11140748      2020-02-14  UNIVERSITY OF WISCONSIN - MADISON   \n",
       "116  SRR11140744      2020-02-14  UNIVERSITY OF WISCONSIN - MADISON   \n",
       "112  SRR11140745      2020-02-14  UNIVERSITY OF WISCONSIN - MADISON   \n",
       "114  SRR11140749      2020-02-14  UNIVERSITY OF WISCONSIN - MADISON   \n",
       "113  SRR11140747      2020-02-14  UNIVERSITY OF WISCONSIN - MADISON   \n",
       "\n",
       "    geo_loc_name_country      Bytes      Bases Assay Type  \n",
       "119                  USA    3824341    7650166        WGS  \n",
       "115                  USA   21841904   23696161        WGS  \n",
       "117                  USA   77997568  159508570        WGS  \n",
       "118                  USA   92488120  190194752        WGS  \n",
       "116                  USA  108481864  226957916        WGS  \n",
       "112                  USA  240280298  260956833        WGS  \n",
       "114                  USA  280564726  304113442        WGS  \n",
       "113                  USA  332198738  359000999        WGS  "
      ]
     },
     "execution_count": 58,
     "metadata": {},
     "output_type": "execute_result"
    }
   ],
   "source": [
    "sra[cols]"
   ]
  },
  {
   "cell_type": "code",
   "execution_count": null,
   "metadata": {},
   "outputs": [],
   "source": [
    "def fetch_sra_reads(df):\n",
    "    #download a subset of reads\n",
    "    path = 'sarscov2_fastq'\n",
    "    for i,r in df.iterrows():        \n",
    "        files = glob.glob(os.path.join(path,r.Run+'*'))    \n",
    "        if len(files)==0:\n",
    "            cmd = 'fastq-dump {n} --outdir {o}'.format(n=r.Run,o=path)\n",
    "            print (cmd)\n",
    "            subprocess.check_output(cmd,shell=True)\n",
    "        \n",
    "fetch_sra_reads(sra[:15])"
   ]
  },
  {
   "cell_type": "code",
   "execution_count": 60,
   "metadata": {},
   "outputs": [
    {
     "data": {
      "text/html": [
       "<div>\n",
       "<style scoped>\n",
       "    .dataframe tbody tr th:only-of-type {\n",
       "        vertical-align: middle;\n",
       "    }\n",
       "\n",
       "    .dataframe tbody tr th {\n",
       "        vertical-align: top;\n",
       "    }\n",
       "\n",
       "    .dataframe thead th {\n",
       "        text-align: right;\n",
       "    }\n",
       "</style>\n",
       "<table border=\"1\" class=\"dataframe\">\n",
       "  <thead>\n",
       "    <tr style=\"text-align: right;\">\n",
       "      <th></th>\n",
       "      <th>name</th>\n",
       "      <th>sample</th>\n",
       "      <th>filename</th>\n",
       "      <th>pair</th>\n",
       "    </tr>\n",
       "  </thead>\n",
       "  <tbody>\n",
       "    <tr>\n",
       "      <th>0</th>\n",
       "      <td>SRR11140746</td>\n",
       "      <td>SRR11140746</td>\n",
       "      <td>sarscov2_fastq/SRR11140746.fastq.gz</td>\n",
       "      <td>1</td>\n",
       "    </tr>\n",
       "    <tr>\n",
       "      <th>1</th>\n",
       "      <td>SRR11140750</td>\n",
       "      <td>SRR11140750</td>\n",
       "      <td>sarscov2_fastq/SRR11140750.fastq.gz</td>\n",
       "      <td>1</td>\n",
       "    </tr>\n",
       "    <tr>\n",
       "      <th>2</th>\n",
       "      <td>SRR11140751</td>\n",
       "      <td>SRR11140751</td>\n",
       "      <td>sarscov2_fastq/SRR11140751.fastq.gz</td>\n",
       "      <td>1</td>\n",
       "    </tr>\n",
       "  </tbody>\n",
       "</table>\n",
       "</div>"
      ],
      "text/plain": [
       "          name       sample                             filename  pair\n",
       "0  SRR11140746  SRR11140746  sarscov2_fastq/SRR11140746.fastq.gz     1\n",
       "1  SRR11140750  SRR11140750  sarscov2_fastq/SRR11140750.fastq.gz     1\n",
       "2  SRR11140751  SRR11140751  sarscov2_fastq/SRR11140751.fastq.gz     1"
      ]
     },
     "execution_count": 60,
     "metadata": {},
     "output_type": "execute_result"
    }
   ],
   "source": [
    "path = 'sarscov2_fastq/'\n",
    "files = app.get_files_from_paths([path])\n",
    "df = app.get_samples(files)\n",
    "df"
   ]
  },
  {
   "cell_type": "code",
   "execution_count": null,
   "metadata": {},
   "outputs": [],
   "source": []
  }
 ],
 "metadata": {
  "kernelspec": {
   "display_name": "Python 3",
   "language": "python",
   "name": "python3"
  },
  "language_info": {
   "codemirror_mode": {
    "name": "ipython",
    "version": 3
   },
   "file_extension": ".py",
   "mimetype": "text/x-python",
   "name": "python",
   "nbconvert_exporter": "python",
   "pygments_lexer": "ipython3",
   "version": "3.7.5"
  }
 },
 "nbformat": 4,
 "nbformat_minor": 4
}
