{
 "cells": [
  {
   "cell_type": "markdown",
   "metadata": {},
   "source": [
    "# Spoligotype from WGS\n",
    "\n",
    "* https://genomemedicine.biomedcentral.com/articles/10.1186/s13073-016-0270-7\n"
   ]
  },
  {
   "cell_type": "code",
   "execution_count": 9,
   "metadata": {},
   "outputs": [],
   "source": [
    "import sys,os,shutil,subprocess\n",
    "import glob\n",
    "from importlib import reload\n",
    "import numpy as np\n",
    "import pandas as pd\n",
    "pd.set_option('display.width', 200)\n",
    "pd.set_option('display.max_colwidth', 150)\n",
    "import pylab as plt\n",
    "from Bio import SeqIO\n",
    "from io import StringIO\n",
    "from snpgenie import tools,app,aligners"
   ]
  },
  {
   "cell_type": "markdown",
   "metadata": {},
   "source": [
    "## test files"
   ]
  },
  {
   "cell_type": "code",
   "execution_count": 257,
   "metadata": {},
   "outputs": [
    {
     "data": {
      "text/html": [
       "<div>\n",
       "<style scoped>\n",
       "    .dataframe tbody tr th:only-of-type {\n",
       "        vertical-align: middle;\n",
       "    }\n",
       "\n",
       "    .dataframe tbody tr th {\n",
       "        vertical-align: top;\n",
       "    }\n",
       "\n",
       "    .dataframe thead th {\n",
       "        text-align: right;\n",
       "    }\n",
       "</style>\n",
       "<table border=\"1\" class=\"dataframe\">\n",
       "  <thead>\n",
       "    <tr style=\"text-align: right;\">\n",
       "      <th></th>\n",
       "      <th>name</th>\n",
       "      <th>sample</th>\n",
       "      <th>filename</th>\n",
       "      <th>pair</th>\n",
       "    </tr>\n",
       "  </thead>\n",
       "  <tbody>\n",
       "    <tr>\n",
       "      <th>0</th>\n",
       "      <td>ERR125601_1</td>\n",
       "      <td>ERR125601</td>\n",
       "      <td>/storage/btbgenie/mbovis_ireland/NI/ERR125601_1.fastq.gz</td>\n",
       "      <td>1</td>\n",
       "    </tr>\n",
       "    <tr>\n",
       "      <th>1</th>\n",
       "      <td>ERR125601_2</td>\n",
       "      <td>ERR125601</td>\n",
       "      <td>/storage/btbgenie/mbovis_ireland/NI/ERR125601_2.fastq.gz</td>\n",
       "      <td>2</td>\n",
       "    </tr>\n",
       "    <tr>\n",
       "      <th>2</th>\n",
       "      <td>ERR125602_2</td>\n",
       "      <td>ERR125602</td>\n",
       "      <td>/storage/btbgenie/mbovis_ireland/NI/ERR125602_2.fastq.gz</td>\n",
       "      <td>1</td>\n",
       "    </tr>\n",
       "    <tr>\n",
       "      <th>3</th>\n",
       "      <td>ERR125599_1</td>\n",
       "      <td>ERR125599</td>\n",
       "      <td>/storage/btbgenie/mbovis_ireland/NI/ERR125599_1.fastq.gz</td>\n",
       "      <td>1</td>\n",
       "    </tr>\n",
       "    <tr>\n",
       "      <th>4</th>\n",
       "      <td>ERR125602_1</td>\n",
       "      <td>ERR125602</td>\n",
       "      <td>/storage/btbgenie/mbovis_ireland/NI/ERR125602_1.fastq.gz</td>\n",
       "      <td>2</td>\n",
       "    </tr>\n",
       "    <tr>\n",
       "      <th>5</th>\n",
       "      <td>ERR125599_2</td>\n",
       "      <td>ERR125599</td>\n",
       "      <td>/storage/btbgenie/mbovis_ireland/NI/ERR125599_2.fastq.gz</td>\n",
       "      <td>2</td>\n",
       "    </tr>\n",
       "  </tbody>\n",
       "</table>\n",
       "</div>"
      ],
      "text/plain": [
       "          name     sample                                                  filename  pair\n",
       "0  ERR125601_1  ERR125601  /storage/btbgenie/mbovis_ireland/NI/ERR125601_1.fastq.gz     1\n",
       "1  ERR125601_2  ERR125601  /storage/btbgenie/mbovis_ireland/NI/ERR125601_2.fastq.gz     2\n",
       "2  ERR125602_2  ERR125602  /storage/btbgenie/mbovis_ireland/NI/ERR125602_2.fastq.gz     1\n",
       "3  ERR125599_1  ERR125599  /storage/btbgenie/mbovis_ireland/NI/ERR125599_1.fastq.gz     1\n",
       "4  ERR125602_1  ERR125602  /storage/btbgenie/mbovis_ireland/NI/ERR125602_1.fastq.gz     2\n",
       "5  ERR125599_2  ERR125599  /storage/btbgenie/mbovis_ireland/NI/ERR125599_2.fastq.gz     2"
      ]
     },
     "execution_count": 257,
     "metadata": {},
     "output_type": "execute_result"
    }
   ],
   "source": [
    "path = '/storage/btbgenie/mbovis_ireland/NI/'\n",
    "files = glob.glob(os.path.join(path, '*.gz'))\n",
    "samp = app.get_samples(files)\n",
    "samp"
   ]
  },
  {
   "cell_type": "code",
   "execution_count": 186,
   "metadata": {},
   "outputs": [
    {
     "name": "stdout",
     "output_type": "stream",
     "text": [
      "blastn -out ../dr_spacers_blast.txt -outfmt \"6 qseqid sseqid qseq sseq pident qcovs length mismatch gapopen qstart qend sstart send evalue bitscore stitle\" -query ../dr_spacers.fa -db temp.fa -evalue 0.1 -max_target_seqs 100000 -num_threads 4 -task blastn\n"
     ]
    }
   ],
   "source": [
    "#convert reads to fasta\n",
    "tools.fastq_to_fasta(f1, 'temp.fa', 500000)\n",
    "#make blast db from reads\n",
    "tools.make_blast_database('temp.fa')\n",
    "#blast spacers to db\n",
    "bl = tools.blast_fasta('temp.fa', '../dr_spacers.fa', evalue=0.1, \n",
    "                       maxseqs=100000, show_cmd=True)"
   ]
  },
  {
   "cell_type": "code",
   "execution_count": null,
   "metadata": {},
   "outputs": [],
   "source": [
    "#bl=bl.sort_values('qseqid','pident')\n",
    "bl[['qseqid','pident','qcovs','length','mismatch']]"
   ]
  },
  {
   "cell_type": "code",
   "execution_count": 212,
   "metadata": {},
   "outputs": [
    {
     "data": {
      "text/html": [
       "<div>\n",
       "<style scoped>\n",
       "    .dataframe tbody tr th:only-of-type {\n",
       "        vertical-align: middle;\n",
       "    }\n",
       "\n",
       "    .dataframe tbody tr th {\n",
       "        vertical-align: top;\n",
       "    }\n",
       "\n",
       "    .dataframe thead th {\n",
       "        text-align: right;\n",
       "    }\n",
       "</style>\n",
       "<table border=\"1\" class=\"dataframe\">\n",
       "  <thead>\n",
       "    <tr style=\"text-align: right;\">\n",
       "      <th></th>\n",
       "      <th>qseqid</th>\n",
       "      <th>pident</th>\n",
       "    </tr>\n",
       "  </thead>\n",
       "  <tbody>\n",
       "    <tr>\n",
       "      <th>0</th>\n",
       "      <td>37</td>\n",
       "      <td>9.0</td>\n",
       "    </tr>\n",
       "    <tr>\n",
       "      <th>1</th>\n",
       "      <td>38</td>\n",
       "      <td>7.0</td>\n",
       "    </tr>\n",
       "  </tbody>\n",
       "</table>\n",
       "</div>"
      ],
      "text/plain": [
       "   qseqid  pident\n",
       "0      37     9.0\n",
       "1      38     7.0"
      ]
     },
     "execution_count": 212,
     "metadata": {},
     "output_type": "execute_result"
    }
   ],
   "source": [
    "bl=bl[(bl.qcovs>95) & (bl.mismatch<2)]\n",
    "x=bl.groupby('qseqid').agg({'pident':np.size}).reset_index()\n",
    "x"
   ]
  },
  {
   "cell_type": "code",
   "execution_count": 259,
   "metadata": {},
   "outputs": [
    {
     "name": "stdout",
     "output_type": "stream",
     "text": [
      "1101111101111110111111111111111111111100000\n"
     ]
    },
    {
     "data": {
      "text/plain": [
       "'0o157576777777740'"
      ]
     },
     "execution_count": 259,
     "metadata": {},
     "output_type": "execute_result"
    }
   ],
   "source": [
    "def get_spoligotype(filename, reads_limit=500000):\n",
    "    \"\"\"Get spoligotype from reads\"\"\"\n",
    "    \n",
    "    ref = '../snpgenie/data/dr_spacers.fa'\n",
    "    #convert reads to fasta\n",
    "    tools.fastq_to_fasta(filename, 'temp.fa', reads_limit)\n",
    "    #make blast db from reads\n",
    "    tools.make_blast_database('temp.fa')\n",
    "    #blast spacers to db\n",
    "    bl = tools.blast_fasta('temp.fa', ref, evalue=0.1, \n",
    "                           maxseqs=100000, show_cmd=False) \n",
    "    bl=bl[(bl.qcovs>95) & (bl.mismatch<2)]\n",
    "    x = bl.groupby('qseqid').agg({'pident':np.size}).reset_index()\n",
    "    x\n",
    "    #print (x)\n",
    "    found = list(x.qseqid)\n",
    "    #print (found)\n",
    "    s=[]\n",
    "    for i in range(1,44):\n",
    "        if i in found:\n",
    "            s.append('1')\n",
    "        else:\n",
    "            s.append('0')\n",
    "    s =''.join(s)\n",
    "    print (s)\n",
    "    return s\n",
    "\n",
    "s = get_spoligotype('/storage/btbgenie/rd_test_data/ERR234151_2.fastq.gz')\n",
    "oct(int(s,2))"
   ]
  },
  {
   "cell_type": "code",
   "execution_count": 260,
   "metadata": {},
   "outputs": [
    {
     "data": {
      "text/plain": [
       "'SB0118'"
      ]
     },
     "execution_count": 260,
     "metadata": {},
     "output_type": "execute_result"
    }
   ],
   "source": [
    "def get_sb_number(binary_str):\n",
    "    \"\"\"Get SB number from binary pattern usinf database reference\"\"\"\n",
    "    \n",
    "    df = pd.read_csv('../snpgenie/data/Mbovis.org_db.csv')\n",
    "    x = df[df['binary'] == binary_str]\n",
    "    if len(x) == 0:\n",
    "        return \n",
    "    else:\n",
    "        return x.iloc[0].SB\n",
    "\n",
    "get_sb_number('0000000000000000000000000000000000001100000')"
   ]
  },
  {
   "cell_type": "code",
   "execution_count": 261,
   "metadata": {},
   "outputs": [
    {
     "name": "stdout",
     "output_type": "stream",
     "text": [
      "1101101000001110111111111111111111111100000\n",
      "/storage/btbgenie/mbovis_ireland/NI/ERR125601_1.fastq.gz SB0140\n",
      "1101101000001110111111111111111111111100000\n",
      "/storage/btbgenie/mbovis_ireland/NI/ERR125601_2.fastq.gz SB0140\n",
      "1101101000001110111111111111111111111100000\n",
      "/storage/btbgenie/mbovis_ireland/NI/ERR125602_2.fastq.gz SB0140\n",
      "1101101000001110111111111111111111111100000\n",
      "/storage/btbgenie/mbovis_ireland/NI/ERR125599_1.fastq.gz SB0140\n",
      "1101101000001110111111111111111111111100000\n",
      "/storage/btbgenie/mbovis_ireland/NI/ERR125602_1.fastq.gz SB0140\n",
      "1101101000001110111111111111111111111100000\n",
      "/storage/btbgenie/mbovis_ireland/NI/ERR125599_2.fastq.gz SB0140\n"
     ]
    }
   ],
   "source": [
    "res=[]\n",
    "for f in files:\n",
    "    s = get_spoligotype(f)\n",
    "    sb = get_sb_number(s)\n",
    "    print (f, sb)\n",
    "    res.append([f,sb])    "
   ]
  },
  {
   "cell_type": "code",
   "execution_count": null,
   "metadata": {},
   "outputs": [],
   "source": []
  }
 ],
 "metadata": {
  "kernelspec": {
   "display_name": "Python 3",
   "language": "python",
   "name": "python3"
  },
  "language_info": {
   "codemirror_mode": {
    "name": "ipython",
    "version": 3
   },
   "file_extension": ".py",
   "mimetype": "text/x-python",
   "name": "python",
   "nbconvert_exporter": "python",
   "pygments_lexer": "ipython3",
   "version": "3.8.6"
  }
 },
 "nbformat": 4,
 "nbformat_minor": 4
}
