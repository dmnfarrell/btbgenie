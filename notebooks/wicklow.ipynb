{
 "cells": [
  {
   "cell_type": "markdown",
   "metadata": {},
   "source": [
    "# Wicklow isolates Pathogenie vs JC pipeline results"
   ]
  },
  {
   "cell_type": "code",
   "execution_count": 97,
   "metadata": {},
   "outputs": [],
   "source": [
    "import sys,os,shutil,subprocess\n",
    "import glob\n",
    "from importlib import reload\n",
    "import numpy as np\n",
    "import pandas as pd\n",
    "pd.set_option('display.width', 200)\n",
    "import pylab as plt\n",
    "import matplotlib as mpl\n",
    "from Bio import SeqIO\n",
    "sys.path.append('pathogenie')\n",
    "from pathogenie import tools, aligners, app, trees"
   ]
  },
  {
   "cell_type": "code",
   "execution_count": null,
   "metadata": {},
   "outputs": [],
   "source": [
    "meta = pd.read_csv('/storage/btbgenie/JoeROIData/Mbovis/sampleInformation_NoAnimalIDs_18-12-19.csv')\n",
    "meta"
   ]
  },
  {
   "cell_type": "markdown",
   "metadata": {},
   "source": [
    "## Run workflow "
   ]
  },
  {
   "cell_type": "code",
   "execution_count": 140,
   "metadata": {},
   "outputs": [
    {
     "name": "stdout",
     "output_type": "stream",
     "text": [
      "threads 8\n",
      "outdir ../wicklow_results\n",
      "labelsep _\n",
      "input ['/storage/btbgenie/JoeROIData/Mbovis/Wicklow/Fastqs_07-01-18/', '/storage/btbgenie/JoeROIData/Mbovis/Wicklow/Fastqs_15-03-19/', '/storage/btbgenie/JoeROIData/Mbovis/Wicklow/Fastqs_09-07-18/']\n",
      "reference None\n",
      "overwrite False\n",
      "quality 25\n",
      "47 samples were loaded:\n",
      "-------------\n",
      "                           name     sample                                           filename  pair  read_length\n",
      "0    13-11594_S85_L001-4_R1_001   13-11594  /storage/btbgenie/JoeROIData/Mbovis/Wicklow/Fa...     1          149\n",
      "1    13-11594_S85_L001-4_R2_001   13-11594  /storage/btbgenie/JoeROIData/Mbovis/Wicklow/Fa...     2          149\n",
      "2   14-MBovis_S21_L001-4_R1_001  14-MBovis  /storage/btbgenie/JoeROIData/Mbovis/Wicklow/Fa...     1          148\n",
      "3   14-MBovis_S21_L001-4_R2_001  14-MBovis  /storage/btbgenie/JoeROIData/Mbovis/Wicklow/Fa...     2          148\n",
      "4    15-11643_S67_L001-4_R1_001   15-11643  /storage/btbgenie/JoeROIData/Mbovis/Wicklow/Fa...     1          149\n",
      "..                          ...        ...                                                ...   ...          ...\n",
      "89    59-6110_S65_L001-4_R2_001    59-6110  /storage/btbgenie/JoeROIData/Mbovis/Wicklow/Fa...     2          150\n",
      "90  59-MBovis_S33_L001-4_R1_001  59-MBovis  /storage/btbgenie/JoeROIData/Mbovis/Wicklow/Fa...     1          149\n",
      "91  59-MBovis_S33_L001-4_R2_001  59-MBovis  /storage/btbgenie/JoeROIData/Mbovis/Wicklow/Fa...     2          149\n",
      "92    7-10423_S73_L001-4_R1_001    7-10423  /storage/btbgenie/JoeROIData/Mbovis/Wicklow/Fa...     1          149\n",
      "93    7-10423_S73_L001-4_R2_001    7-10423  /storage/btbgenie/JoeROIData/Mbovis/Wicklow/Fa...     2          149\n",
      "\n",
      "[94 rows x 5 columns]\n",
      "\n",
      "building index\n",
      "bwa index /home/damien/.config/pathogenie/genome/Mbovis_AF212297.fa\n",
      "trimming fastq files\n",
      "--------------------\n",
      "\n",
      "aligning files\n",
      "--------------\n",
      "Using reference genome: /home/damien/.config/pathogenie/genome/Mbovis_AF212297.fa\n",
      "\n",
      "calling variants\n",
      "----------------\n",
      "bcftools call -V indels --ploidy 1 -m -v -o ../wicklow_results/calls.vcf ../wicklow_results/raw.bcf\n",
      "bcftools filter -e \"QUAL<40\" -o ../wicklow_results/filtered.vcf.gz -O z ../wicklow_results/calls.vcf\n",
      "../wicklow_results/filtered.vcf.gz\n",
      "\n",
      "making SNP matrix\n",
      "-----------------\n",
      "47 samples\n",
      "using 667 sites\n",
      "\n",
      "building tree\n",
      "raxmlHPC-PTHREADS -f a -N 10 -T 8 -m GTRCAT -V -p 51621085 -x 54098560 -n variants -w /home/damien/gitprojects/pathogenie/wicklow_results -s ../wicklow_results/snp_matrix.fa\n",
      "/home/damien/gitprojects/pathogenie/wicklow_results/RAxML_bipartitions.variants\n"
     ]
    }
   ],
   "source": [
    "reload(app)\n",
    "reload(trees)\n",
    "args = {'threads':8, 'outdir': '../wicklow_results', 'labelsep':'_',\n",
    "        'input':['/storage/btbgenie/JoeROIData/Mbovis/Wicklow/Fastqs_07-01-18/',\n",
    "                 '/storage/btbgenie/JoeROIData/Mbovis/Wicklow/Fastqs_15-03-19/',\n",
    "                 '/storage/btbgenie/JoeROIData/Mbovis/Wicklow/Fastqs_09-07-18/'],\n",
    "        'reference': None, 'overwrite':False}\n",
    "W = app.WorkFlow(**args)\n",
    "st = W.setup()\n",
    "W.run()"
   ]
  },
  {
   "cell_type": "markdown",
   "metadata": {},
   "source": [
    "## Compare sites matrix"
   ]
  },
  {
   "cell_type": "code",
   "execution_count": 146,
   "metadata": {},
   "outputs": [
    {
     "data": {
      "text/plain": [
       "Text(0.5, 1.0, 'SNP site overlap')"
      ]
     },
     "execution_count": 146,
     "metadata": {},
     "output_type": "execute_result"
    },
    {
     "data": {
      "image/png": "[encoded data removed]",
      "text/plain": [
       "<Figure size 432x432 with 1 Axes>"
      ]
     },
     "metadata": {},
     "output_type": "display_data"
    }
   ],
   "source": [
    "smat = pd.read_csv('../wicklow_results/snp_matrix.txt',sep=' ',index_col=0)\n",
    "smat.index\n",
    "joe_sites = pd.read_csv('/storage/btbgenie/JoeROIData/Mbovis/Wicklow/FASTA/fastaPositions_Prox-10_18-12-2019.txt')\n",
    "#print (joe_sites)\n",
    "plt.figure(figsize=(6,6))\n",
    "import matplotlib_venn\n",
    "mpl.rc('text', usetex=True)\n",
    "sets=[set(joe_sites.Position),set(smat.index)]\n",
    "matplotlib_venn.venn2(sets,set_labels=['Joe','Pathogenie'],set_colors=['#62C4DE','#DE7C62'])\n",
    "ax=matplotlib_venn.venn2_circles(sets,linewidth=1)\n",
    "plt.title('SNP site overlap',fontsize=20)"
   ]
  },
  {
   "cell_type": "code",
   "execution_count": 149,
   "metadata": {},
   "outputs": [],
   "source": [
    "#print(W.fastq_table)\n",
    "meta['name'] = meta.Forward.apply(lambda x: x.split('.')[0])\n",
    "#print(meta)\n",
    "\n",
    "s = pd.merge(W.fastq_table,meta,on='name')\n",
    "labelmap = dict(zip(s.bam_file,s.Species))\n",
    "#print (labelmap)\n"
   ]
  },
  {
   "cell_type": "code",
   "execution_count": null,
   "metadata": {},
   "outputs": [],
   "source": [
    "reload(trees)\n",
    "t = trees.create_tree('../wicklow_results/RAxML_bipartitions.variants', ref='ref',labelmap=labelmap)\n",
    "t.render(\"%%inline\")"
   ]
  },
  {
   "cell_type": "markdown",
   "metadata": {},
   "source": [
    "## Compare trees"
   ]
  },
  {
   "cell_type": "code",
   "execution_count": null,
   "metadata": {},
   "outputs": [],
   "source": [
    "reload(trees)\n",
    "t = trees.create_tree('/storage/btbgenie/JoeROIData/Mbovis/Wicklow/mlTree_WICKLOW_18-12-2019.tree')#, labelmap)\n",
    "t.render(\"%%inline\")"
   ]
  },
  {
   "cell_type": "code",
   "execution_count": null,
   "metadata": {},
   "outputs": [],
   "source": []
  }
 ],
 "metadata": {
  "kernelspec": {
   "display_name": "Python 3",
   "language": "python",
   "name": "python3"
  },
  "language_info": {
   "codemirror_mode": {
    "name": "ipython",
    "version": 3
   },
   "file_extension": ".py",
   "mimetype": "text/x-python",
   "name": "python",
   "nbconvert_exporter": "python",
   "pygments_lexer": "ipython3",
   "version": "3.7.5"
  }
 },
 "nbformat": 4,
 "nbformat_minor": 4
}
