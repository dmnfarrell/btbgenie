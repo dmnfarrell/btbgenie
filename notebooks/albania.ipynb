{
 "cells": [
  {
   "cell_type": "markdown",
   "metadata": {},
   "source": [
    "## Albania isolates with reference genome set\n",
    "\n",
    "* C. Loiseau et al., “An African origin for Mycobacterium bovis,” Evol. Med. Public Heal., pp. 49–59, 2020."
   ]
  },
  {
   "cell_type": "code",
   "execution_count": 1,
   "metadata": {},
   "outputs": [],
   "source": [
    "import sys,os,shutil,subprocess\n",
    "import glob\n",
    "from importlib import reload\n",
    "import numpy as np\n",
    "import pandas as pd\n",
    "pd.set_option('display.width', 200)\n",
    "import pylab as plt\n",
    "from Bio import SeqIO\n",
    "from Bio.Seq import Seq\n",
    "from Bio.SeqRecord import SeqRecord\n",
    "sys.path.append('pathogenie')\n",
    "from pathogenie import tools, aligners, app, trees"
   ]
  },
  {
   "cell_type": "code",
   "execution_count": 2,
   "metadata": {},
   "outputs": [],
   "source": [
    "master = pd.read_csv('../mbovis_sra_master.csv')"
   ]
  },
  {
   "cell_type": "code",
   "execution_count": null,
   "metadata": {},
   "outputs": [],
   "source": [
    "reload(app)\n",
    "args = {'threads':8, 'outdir': '../test_results', 'labelsep':'-',\n",
    "        'input':['/storage/btbgenie/mbovis_sra/',                 \n",
    "                 '/storage/btbgenie/albania/'],\n",
    "        'reference': None, 'overwrite':False}\n",
    "W = app.WorkFlow(**args)\n",
    "st = W.setup()\n",
    "W.run()"
   ]
  },
  {
   "cell_type": "markdown",
   "metadata": {},
   "source": [
    "## Create tree labels with meta data"
   ]
  },
  {
   "cell_type": "code",
   "execution_count": null,
   "metadata": {},
   "outputs": [],
   "source": [
    "summ = pd.read_csv('../test_results/summary.csv')\n",
    "print (summ)\n",
    "reload(trees)\n",
    "cols = ['Run','COUNTRY_ISOLATION','CLONAL_COMPLEX','LibraryLayout','Host','ReleaseDate','GENOME_COVERAGE','filename']\n",
    "df = summ.merge(master,left_on='sample',right_on='Run',how='left').drop_duplicates('bam_file')\n",
    "df.at[0:1,'COUNTRY_ISOLATION']='Albania'\n",
    "df.at[0:1,'CLONAL_COMPLEX']='Unknown2'\n",
    "\n",
    "labelmap = dict(zip(df['sample'],df.COUNTRY_ISOLATION))\n",
    "labelmap\n",
    "colors = {'Eu1': '#D362DE', 'Eu2': 'Green','Af2':'#6DA0E4','Unknown2':'gray'}\n",
    "df['color'] = df.CLONAL_COMPLEX.apply(lambda x: colors[x],1)\n",
    "colormap = dict(zip(df['sample'],df.color))\n",
    "t,ts = trees.create_tree('../test_results/RAxML_bipartitions.variants', 'ref', labelmap, colormap)\n",
    "from ete3 import CircleFace, TreeStyle, NodeStyle, RectFace, TextFace\n",
    "for i in colors:\n",
    "    f=ts.legend.add_face(\n",
    "            TextFace(text=i,fgcolor=colors[i],fsize=8),            \n",
    "            column=0)\n",
    "        \n",
    "t.render(\"%%inline\",tree_style=ts,w=500)\n",
    "#png=t.render('../tree.png',tree_style=ts,dpi=200,w=500)"
   ]
  },
  {
   "cell_type": "markdown",
   "metadata": {},
   "source": [
    "## Snippy comparison\n",
    "\n",
    "https://github.com/tseemann/snippy"
   ]
  },
  {
   "cell_type": "code",
   "execution_count": 7,
   "metadata": {},
   "outputs": [],
   "source": [
    "#tab file for multi snippy\n",
    "df = W.fastq_table\n",
    "x = df.reset_index().pivot(columns='pair', index='sample', values='filename')\n",
    "x.to_csv('samples.tab',sep='\\t')\n",
    "snippycmd = '/local/snippy/bin/snippy-multi samples.tab --ref Mbovis_AF212297.fa --cpus 10 > runme.sh'"
   ]
  },
  {
   "cell_type": "code",
   "execution_count": null,
   "metadata": {},
   "outputs": [],
   "source": [
    "#read snippy snps\n",
    "snippycore = pd.read_csv('../snippy_run/core.tab',sep='\\t')\n",
    "print (snippycore[:4])\n",
    "smat = pd.read_csv('../test_results/core.txt',sep=' ',index_col=0)\n",
    "print \n",
    "import matplotlib_venn\n",
    "sets=[set(snippycore.POS),set(smat.index)]\n",
    "matplotlib_venn.venn2(sets,set_labels=['Snippy','Pathogenie'])\n",
    "ax=matplotlib_venn.venn2_circles(sets,linewidth=1)\n",
    "plt.title('SNP site overlap',fontsize=20)\n",
    "plt.savefig('snp_overlap_snippy.png',dpi=100)"
   ]
  },
  {
   "cell_type": "code",
   "execution_count": null,
   "metadata": {},
   "outputs": [],
   "source": [
    "#snippy tree\n",
    "treefile = trees.run_RAXML('../snippy_run/core.aln', outpath='.')\n",
    "t,ts = trees.create_tree(treefile, 'Reference', labelmap, colormap)\n",
    "t.render(\"%%inline\",tree_style=ts,w=500)"
   ]
  },
  {
   "cell_type": "markdown",
   "metadata": {},
   "source": [
    "## Assemble samples"
   ]
  },
  {
   "cell_type": "code",
   "execution_count": 10,
   "metadata": {},
   "outputs": [],
   "source": [
    "for i,df in W.fastq_table.groupby('sample'):    \n",
    "    out=os.path.join('/storage/btbgenie/assembly',i)\n",
    "    if os.path.exists(out):\n",
    "        shutil.copy(os.path.join(out,'scaffolds.fasta'), '/storage/btbgenie/scaffolds/%s.fa' %i)\n",
    "    else:\n",
    "        f1 = df.iloc[0].filename; f2 = df.iloc[1].filename\n",
    "        cmd = '/local/SPAdes-3.13.0-Linux/bin/spades.py --pe1-1 %s --pe1-2 %s --careful -o %s' %(f1,f2,out)\n",
    "        print (cmd)\n",
    "        subprocess.check_output(cmd,shell=True)"
   ]
  },
  {
   "cell_type": "markdown",
   "metadata": {},
   "source": [
    "## RD-Analyzer method - check for regions of difference presence with read alignments\n",
    "\n",
    "https://bmcgenomics.biomedcentral.com/articles/10.1186/s12864-016-3213-1"
   ]
  },
  {
   "cell_type": "code",
   "execution_count": 29,
   "metadata": {},
   "outputs": [
    {
     "name": "stdout",
     "output_type": "stream",
     "text": [
      "bwa index RD.fa\n"
     ]
    }
   ],
   "source": [
    "from pathogenie import rd_analysis\n",
    "reload(rd_analysis)\n",
    "rd_analysis.create_rd_index()"
   ]
  },
  {
   "cell_type": "code",
   "execution_count": null,
   "metadata": {},
   "outputs": [],
   "source": [
    "df = W.fastq_table\n",
    "res = rd_analysis.align_regions(df,'../rd_aligned')"
   ]
  },
  {
   "cell_type": "code",
   "execution_count": null,
   "metadata": {},
   "outputs": [],
   "source": [
    "res[res['#rname']=='RD4']"
   ]
  },
  {
   "cell_type": "code",
   "execution_count": 133,
   "metadata": {},
   "outputs": [],
   "source": [
    "X = pd.pivot_table(res,index='name',columns=['#rname'],values='ratio').T\n",
    "X=X.clip(lower=0.09).replace(0.09,0)\n",
    "X=X.clip(upper=0.09).replace(0.09,1)"
   ]
  },
  {
   "cell_type": "code",
   "execution_count": null,
   "metadata": {},
   "outputs": [],
   "source": []
  }
 ],
 "metadata": {
  "kernelspec": {
   "display_name": "Python 3",
   "language": "python",
   "name": "python3"
  },
  "language_info": {
   "codemirror_mode": {
    "name": "ipython",
    "version": 3
   },
   "file_extension": ".py",
   "mimetype": "text/x-python",
   "name": "python",
   "nbconvert_exporter": "python",
   "pygments_lexer": "ipython3",
   "version": "3.8.2"
  }
 },
 "nbformat": 4,
 "nbformat_minor": 4
}
