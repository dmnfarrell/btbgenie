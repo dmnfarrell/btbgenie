{
 "cells": [
  {
   "cell_type": "markdown",
   "metadata": {},
   "source": [
    "## Albania isolates with reference genome set\n",
    "\n",
    "* C. Loiseau et al., “An African origin for Mycobacterium bovis,” Evol. Med. Public Heal., pp. 49–59, 2020."
   ]
  },
  {
   "cell_type": "code",
   "execution_count": 1,
   "metadata": {},
   "outputs": [],
   "source": [
    "import sys,os,shutil,subprocess\n",
    "import glob\n",
    "from importlib import reload\n",
    "import numpy as np\n",
    "import pandas as pd\n",
    "pd.set_option('display.width', 200)\n",
    "import pylab as plt\n",
    "from Bio import SeqIO\n",
    "sys.path.append('pathogenie')\n",
    "from pathogenie import tools, aligners, app, trees"
   ]
  },
  {
   "cell_type": "code",
   "execution_count": 2,
   "metadata": {},
   "outputs": [],
   "source": [
    "master = pd.read_csv('../mbovis_sra_master.csv')"
   ]
  },
  {
   "cell_type": "code",
   "execution_count": null,
   "metadata": {},
   "outputs": [],
   "source": [
    "reload(app)\n",
    "args = {'threads':8, 'outdir': '../test_results', 'labelsep':'-',\n",
    "        'input':['/storage/btbgenie/mbovis_sra/',                 \n",
    "                 '/storage/btbgenie/albania/'],\n",
    "        'reference': None, 'overwrite':False}\n",
    "W = app.WorkFlow(**args)\n",
    "st = W.setup()\n",
    "W.run()"
   ]
  },
  {
   "cell_type": "markdown",
   "metadata": {},
   "source": [
    "## Create tree labels with meta data"
   ]
  },
  {
   "cell_type": "code",
   "execution_count": null,
   "metadata": {},
   "outputs": [],
   "source": [
    "reload(trees)\n",
    "cols = ['Run','COUNTRY_ISOLATION','CLONAL_COMPLEX','LibraryLayout','Host','ReleaseDate','GENOME_COVERAGE','filename']\n",
    "df = W.fastq_table\n",
    "df = df.merge(master,left_on='sample',right_on='Run',how='left').drop_duplicates('bam_file')\n",
    "#print (df.loc[0])\n",
    "df.at[0:2,'COUNTRY_ISOLATION']='Albania'\n",
    "labelmap = dict(zip(df.bam_file,df.COUNTRY_ISOLATION))\n",
    "labelmap\n",
    "\n",
    "colors = {'Eu1': 'Pink', 'Eu2': 'Green','Af1':'Orange','Af2':'Blue','Unknown2':'gray',np.nan:'gray'}\n",
    "df['color'] = df.CLONAL_COMPLEX.apply(lambda x: colors[x],1)\n",
    "colormap = dict(zip(df.bam_file,df.color))\n",
    "t = trees.create_tree('../test_results/RAxML_bipartitions.variants', 'ref', labelmap, colormap)\n",
    "t.render(\"%%inline\",w=400,dpi=100)"
   ]
  },
  {
   "cell_type": "code",
   "execution_count": null,
   "metadata": {},
   "outputs": [],
   "source": []
  }
 ],
 "metadata": {
  "kernelspec": {
   "display_name": "Python 3",
   "language": "python",
   "name": "python3"
  },
  "language_info": {
   "codemirror_mode": {
    "name": "ipython",
    "version": 3
   },
   "file_extension": ".py",
   "mimetype": "text/x-python",
   "name": "python",
   "nbconvert_exporter": "python",
   "pygments_lexer": "ipython3",
   "version": "3.7.5"
  }
 },
 "nbformat": 4,
 "nbformat_minor": 4
}
