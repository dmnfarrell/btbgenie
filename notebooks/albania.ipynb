{
 "cells": [
  {
   "cell_type": "markdown",
   "metadata": {},
   "source": [
    "## Albania isolates with reference genome set\n",
    "\n",
    "* C. Loiseau et al., “An African origin for Mycobacterium bovis,” Evol. Med. Public Heal., pp. 49–59, 2020."
   ]
  },
  {
   "cell_type": "code",
   "execution_count": 1,
   "metadata": {},
   "outputs": [],
   "source": [
    "import sys,os,shutil,subprocess\n",
    "import glob\n",
    "from importlib import reload\n",
    "import numpy as np\n",
    "import pandas as pd\n",
    "pd.set_option('display.width', 200)\n",
    "import pylab as plt\n",
    "from Bio import SeqIO\n",
    "from Bio.Seq import Seq\n",
    "from Bio.SeqRecord import SeqRecord\n",
    "sys.path.append('pathogenie')\n",
    "from pathogenie import tools, aligners, app, trees"
   ]
  },
  {
   "cell_type": "code",
   "execution_count": 136,
   "metadata": {},
   "outputs": [],
   "source": [
    "master = pd.read_csv('../mbovis_sra_master.csv')"
   ]
  },
  {
   "cell_type": "code",
   "execution_count": null,
   "metadata": {},
   "outputs": [],
   "source": [
    "reload(app)\n",
    "args = {'threads':8, 'outdir': '../test_results', 'labelsep':'-',\n",
    "        'input':['/storage/btbgenie/mbovis_sra/',                 \n",
    "                 '/storage/btbgenie/albania/'],\n",
    "        'reference': None, 'overwrite':False}\n",
    "W = app.WorkFlow(**args)\n",
    "st = W.setup()\n",
    "W.run()"
   ]
  },
  {
   "cell_type": "markdown",
   "metadata": {},
   "source": [
    "## Create tree labels with meta data"
   ]
  },
  {
   "cell_type": "code",
   "execution_count": null,
   "metadata": {},
   "outputs": [],
   "source": [
    "df = pd.read_csv('../test_results/summary.csv')\n",
    "print (df)\n",
    "reload(trees)\n",
    "cols = ['Run','COUNTRY_ISOLATION','CLONAL_COMPLEX','LibraryLayout','Host','ReleaseDate','GENOME_COVERAGE','filename']\n",
    "df = df.merge(master,left_on='sample',right_on='Run',how='left').drop_duplicates('bam_file')\n",
    "#print (df.loc[0])\n",
    "df.at[0:2,'COUNTRY_ISOLATION']='Albania'\n",
    "df.at[0:2,'CLONAL_COMPLEX']='Unknown2'\n",
    "labelmap = dict(zip(df.bam_file,df.COUNTRY_ISOLATION))\n",
    "labelmap\n",
    "\n",
    "colors = {'Eu1': '#D362DE', 'Eu2': 'Green','Af2':'#6DA0E4','Unknown2':'gray'}\n",
    "df['color'] = df.CLONAL_COMPLEX.apply(lambda x: colors[x],1)\n",
    "colormap = dict(zip(df.bam_file,df.color))\n",
    "t,ts = trees.create_tree('../test_results/RAxML_bipartitions.variants', 'ref', labelmap, colormap)\n",
    "from ete3 import CircleFace, TreeStyle, NodeStyle, RectFace, TextFace\n",
    "for i in colors:\n",
    "    f=ts.legend.add_face(\n",
    "            TextFace(text=i,fgcolor=colors[i],fsize=8),            \n",
    "            column=0)\n",
    "        \n",
    "t.render(\"%%inline\",tree_style=ts,w=500)\n",
    "#png=t.render('../tree.png',tree_style=ts,dpi=200,w=500)"
   ]
  },
  {
   "cell_type": "markdown",
   "metadata": {},
   "source": [
    "## Assemble samples"
   ]
  },
  {
   "cell_type": "code",
   "execution_count": 10,
   "metadata": {},
   "outputs": [],
   "source": [
    "for i,df in W.fastq_table.groupby('sample'):    \n",
    "    out=os.path.join('/storage/btbgenie/assembly',i)\n",
    "    if os.path.exists(out):\n",
    "        shutil.copy(os.path.join(out,'scaffolds.fasta'), '/storage/btbgenie/scaffolds/%s.fa' %i)\n",
    "    else:\n",
    "        f1 = df.iloc[0].filename; f2 = df.iloc[1].filename\n",
    "        cmd = '/local/SPAdes-3.13.0-Linux/bin/spades.py --pe1-1 %s --pe1-2 %s --careful -o %s' %(f1,f2,out)\n",
    "        print (cmd)\n",
    "        subprocess.check_output(cmd,shell=True)"
   ]
  },
  {
   "cell_type": "markdown",
   "metadata": {},
   "source": [
    "## Run mtbdiff - not accurate enough"
   ]
  },
  {
   "cell_type": "code",
   "execution_count": 7,
   "metadata": {},
   "outputs": [],
   "source": [
    "import mtbdiff\n",
    "inpath = '/storage/btbgenie/scaffolds/'\n",
    "names = mtbdiff.run_genomes(inpath, outpath='../albania_mtbdiff', options='--reloc_dist 20000')\n",
    "struct, snp =  mtbdiff.get_nucdiff_results('../albania_mtbdiff', names)\n",
    "#struct = struct[(struct.Name=='deletion') | (struct.Name=='insertion')]\n",
    "struct['RD'] = struct.apply(mtbdiff.get_region,1)\n",
    "rdmat = mtbdiff.RD_matrix(struct)"
   ]
  },
  {
   "cell_type": "markdown",
   "metadata": {},
   "source": [
    "## RD-Analyzer method - check for regions of difference presence with read alignments\n",
    "\n",
    "https://bmcgenomics.biomedcentral.com/articles/10.1186/s12864-016-3213-1"
   ]
  },
  {
   "cell_type": "code",
   "execution_count": 33,
   "metadata": {},
   "outputs": [
    {
     "name": "stdout",
     "output_type": "stream",
     "text": [
      "bwa index RD.fa\n"
     ]
    }
   ],
   "source": [
    "def create_rd_index(names=None):\n",
    "    \"\"\"Get RD region sequence from reference and make bwa index\"\"\"\n",
    "    \n",
    "    df=mtbdiff.RD.set_index('RD_name')\n",
    "    if names!= None:\n",
    "        df=df.loc[names]\n",
    "    seqs=[]\n",
    "    for name, row in df.iterrows():        \n",
    "        #print (name,row.Start, row.Stop, row.Rv)\n",
    "        from pyfaidx import Fasta\n",
    "        rg = Fasta('../MTB-H37Rv.fna')\n",
    "        sseq = rg['NC_000962.3'][row.Start:row.Stop].seq\n",
    "        #refname = '%s.fa' %name\n",
    "        seqs.append(SeqRecord(Seq(sseq),id=name))        \n",
    "    SeqIO.write(seqs, 'RD.fa', 'fasta')\n",
    "    aligners.build_bwa_index('RD.fa')\n",
    "\n",
    "create_rd_index()"
   ]
  },
  {
   "cell_type": "code",
   "execution_count": null,
   "metadata": {},
   "outputs": [],
   "source": [
    "def align_regions(df):\n",
    "    \"\"\"Align reads to regions of difference\"\"\"\n",
    "    \n",
    "    from io import StringIO\n",
    "    out = 'rd_aligned'\n",
    "    ref = 'RD.fa'\n",
    "    rg = Fasta('../MTB-H37Rv.fna')\n",
    "    res = []\n",
    "    for i,g in df.groupby('sample'):\n",
    "        out=os.path.join('../rd_aligned',i+'.bam')\n",
    "        f1 = g.iloc[0].filename; f2 = g.iloc[1].filename\n",
    "        if not os.path.exists(out):\n",
    "            aligners.bwa_align(f1, f2, ref, out, threads=4, overwrite=False)\n",
    "\n",
    "        cmd = 'zcat %s | paste - - - - | cut -f2 | wc -c' %f1\n",
    "        tmp = subprocess.check_output(cmd,shell=True)\n",
    "        avdepth = int(tmp)*2/len(rg)\n",
    "        print (avdepth)\n",
    "        cmd = 'samtools coverage --min-BQ 1 %s' %out\n",
    "        tmp = subprocess.check_output(cmd,shell=True)    \n",
    "        s = pd.read_csv(StringIO(tmp.decode()),sep='\\t')\n",
    "        s['name'] = i\n",
    "        #print (s)\n",
    "        s['ratio'] = s.meandepth/avdepth\n",
    "        res.append(s)\n",
    "    res = pd.concat(res)\n",
    "    return res\n",
    "\n",
    "df = W.fastq_table\n",
    "res = align_regions(df)"
   ]
  },
  {
   "cell_type": "code",
   "execution_count": null,
   "metadata": {},
   "outputs": [],
   "source": [
    "res[res['#rname']=='RD4']"
   ]
  },
  {
   "cell_type": "code",
   "execution_count": 133,
   "metadata": {},
   "outputs": [],
   "source": [
    "X = pd.pivot_table(res,index='name',columns=['#rname'],values='ratio').T\n",
    "X=X.clip(lower=0.09).replace(0.09,0)\n",
    "X=X.clip(upper=0.09).replace(0.09,1)"
   ]
  },
  {
   "cell_type": "code",
   "execution_count": null,
   "metadata": {},
   "outputs": [],
   "source": []
  }
 ],
 "metadata": {
  "kernelspec": {
   "display_name": "Python 3",
   "language": "python",
   "name": "python3"
  },
  "language_info": {
   "codemirror_mode": {
    "name": "ipython",
    "version": 3
   },
   "file_extension": ".py",
   "mimetype": "text/x-python",
   "name": "python",
   "nbconvert_exporter": "python",
   "pygments_lexer": "ipython3",
   "version": "3.8.2"
  }
 },
 "nbformat": 4,
 "nbformat_minor": 4
}
