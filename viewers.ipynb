{
 "cells": [
  {
   "cell_type": "markdown",
   "metadata": {},
   "source": [
    "## Methods for viewing bam alignments and others"
   ]
  },
  {
   "cell_type": "code",
   "execution_count": 1,
   "metadata": {},
   "outputs": [],
   "source": [
    "import os, sys, io, random, subprocess, time\n",
    "import string\n",
    "import numpy as np\n",
    "import pandas as pd\n",
    "pd.set_option('display.width', 200)\n",
    "from importlib import reload\n",
    "\n",
    "from Bio.Seq import Seq\n",
    "from Bio.SeqRecord import SeqRecord\n",
    "from Bio.Align import MultipleSeqAlignment\n",
    "from Bio import AlignIO, SeqIO\n",
    "from pyfaidx import Fasta\n",
    "\n",
    "import pylab as plt"
   ]
  },
  {
   "cell_type": "code",
   "execution_count": 2,
   "metadata": {},
   "outputs": [],
   "source": [
    "testfile = 'albania/3_S57_L001-4_R1_001.fastq.gz'\n",
    "testbam = 'mapped/3_S57_L001.bam'"
   ]
  },
  {
   "cell_type": "code",
   "execution_count": 3,
   "metadata": {},
   "outputs": [],
   "source": [
    "def get_fasta_names(filename):\n",
    "    \"\"\"Get names of fasta sequences\"\"\"\n",
    "\n",
    "    refseq = Fasta(filename)\n",
    "    return list(refseq.keys())\n",
    "\n",
    "def get_fasta_sequence(filename, start, end, key=0):\n",
    "    \"\"\"Get chunk of indexed fasta sequence at start/end points\"\"\"\n",
    "    \n",
    "    from pyfaidx import Fasta\n",
    "    refseq = Fasta(filename)\n",
    "    if type(key) is int:\n",
    "        chrom = list(refseq.keys())[key]\n",
    "    print (chrom)\n",
    "    seq = refseq[chrom][start:end].seq\n",
    "    return seq\n",
    "\n",
    "def get_chrom(bam_file):\n",
    "    \"\"\"Get first sequence name in a bam file\"\"\"\n",
    "    \n",
    "    import pysam\n",
    "    samfile = pysam.AlignmentFile(bam_file, \"r\")\n",
    "    iter=samfile.fetch(start=0,end=10)\n",
    "    for read in iter:\n",
    "        if read.reference_name:\n",
    "            return read.reference_name        \n",
    "        "
   ]
  },
  {
   "cell_type": "code",
   "execution_count": 24,
   "metadata": {},
   "outputs": [],
   "source": [
    "def get_coverage(bam_file, chr, start, end):\n",
    "    \"\"\"Get coverage from bam file at specified region\"\"\"\n",
    "\n",
    "    import pysam\n",
    "    if bam_file is None or not os.path.exists(bam_file):\n",
    "        return\n",
    "    samfile = pysam.AlignmentFile(bam_file, \"r\")\n",
    "    vals = [(pileupcolumn.pos, pileupcolumn.n) for pileupcolumn in samfile.pileup(chr, start, end)]\n",
    "    df = pd.DataFrame(vals,columns=['pos','coverage'])\n",
    "    df = df[(df.pos>=start) & (df.pos<=end)]\n",
    "    #fill with zeroes if there is no data at ends\n",
    "    if df.pos.max() < end:\n",
    "        new = pd.DataFrame({'pos':range(df.pos.max(), end)})\n",
    "        new['coverage'] = 0\n",
    "        df = df.append(new).reset_index(drop=True)\n",
    "    return df\n",
    "\n",
    "def get_bam_aln(bam_file, chr, start, end, group=False):\n",
    "    \"\"\"Get all aligned reads from a sorted bam file for within the given coords\"\"\"\n",
    "\n",
    "    import pysam\n",
    "    if not os.path.exists(bam_file):\n",
    "        return\n",
    "    if chr is None:\n",
    "        return\n",
    "    if start<1:\n",
    "        start=0    \n",
    "    samfile = pysam.AlignmentFile(bam_file, \"r\")\n",
    "    iter = samfile.fetch(chr, start, end)\n",
    "    d=[]\n",
    "    for read in iter:\n",
    "        st = read.reference_start        \n",
    "        d.append([read.reference_start, read.reference_end, read.cigarstring,\n",
    "                  read.query_name,read.query_length,read.mapping_quality])\n",
    "    df = pd.DataFrame(d,columns=['start','end','cigar','name','length','mapq'])\n",
    "    if len(df) == 0:\n",
    "        return pd.DataFrame()\n",
    "    if group == True:\n",
    "        df['counts'] = df.groupby(['start','end']).name.transform('count')\n",
    "        df = df.drop_duplicates(['start','end'])\n",
    "    df['y'] = 1\n",
    "    bins = (end-start)/150\n",
    "    if bins < 1:\n",
    "        bins = 1\n",
    "    xbins = pd.cut(df.start,bins=bins)\n",
    "    df['y'] = df.groupby(xbins)['y'].transform(lambda x: x.cumsum())    \n",
    "    return df"
   ]
  },
  {
   "cell_type": "code",
   "execution_count": 25,
   "metadata": {},
   "outputs": [],
   "source": [
    "chrom=get_chrom(testbam)"
   ]
  },
  {
   "cell_type": "code",
   "execution_count": 26,
   "metadata": {},
   "outputs": [],
   "source": [
    "cov = get_coverage(testbam,chrom,100,1560)"
   ]
  },
  {
   "cell_type": "code",
   "execution_count": 36,
   "metadata": {},
   "outputs": [
    {
     "data": {
      "image/png": "[encoded data removed]",
      "text/plain": [
       "<Figure size 1080x72 with 1 Axes>"
      ]
     },
     "metadata": {
      "needs_background": "light"
     },
     "output_type": "display_data"
    }
   ],
   "source": [
    "def plot_coverage(df, plot_width=800, plot_height=60, xaxis=True, ax=None):\n",
    "    \"\"\"Plot a bam coverage dataframe returned from get_coverage\n",
    "    Args:\n",
    "        df: dataframe of coverage data (from get_coverage)\n",
    "        plot_width: width of plot\n",
    "        xaxis: plot the x-axis ticks and labels\n",
    "    \"\"\"\n",
    "\n",
    "    #if df is None or len(df)==0:\n",
    "    #    return plot_empty(plot_width=plot_width,plot_height=plot_height)\n",
    "    df['y'] = df.coverage/2\n",
    "    x_range = (df.pos.min(),df.pos.max())\n",
    "    top = df.coverage.max()\n",
    "    if ax==None:\n",
    "        fig,ax = plt.subplots(1,1,figsize=(15,1))\n",
    "    ax.fill_between(df.pos,df.y,color='gray')\n",
    "    ax.set_xlim(x_range)\n",
    "    if xaxis==False:\n",
    "        ax.get_xaxis().set_visible(False)\n",
    "    return\n",
    "\n",
    "plot_coverage(cov,xaxis=False)"
   ]
  },
  {
   "cell_type": "code",
   "execution_count": 52,
   "metadata": {},
   "outputs": [
    {
     "name": "stdout",
     "output_type": "stream",
     "text": [
      "0.37464022636413574\n"
     ]
    },
    {
     "data": {
      "image/png": "[encoded data removed]",
      "text/plain": [
       "<Figure size 1080x216 with 1 Axes>"
      ]
     },
     "metadata": {
      "needs_background": "light"
     },
     "output_type": "display_data"
    }
   ],
   "source": [
    "def plot_bam_alignment(bam_file, chr, start, end, height=1, fill_color='#459ECF', ax=None):\n",
    "    \"\"\"bam alignments plotter.\n",
    "    Args:\n",
    "        bam_file: name of a sorted bam file\n",
    "        start: start of range to show\n",
    "        end: end of range\n",
    "    \"\"\"\n",
    "\n",
    "    h=.6#+height/plot_height\n",
    "    #cover the visible range from start-end\n",
    "    o = (end-start)/2\n",
    "    #get reads in range into a dataframe\n",
    "    df = get_bam_aln(bam_file, chr, start-o, end+o)\n",
    "    df['x'] = df.start+df.length/2\n",
    "    #set colors by quality\n",
    "    df['color'] = df.apply(lambda x: 'red' if x.mapq==0 else fill_color ,1)\n",
    "    df['span'] = df.apply(lambda x: str(x.start)+':'+str(x.end),1)\n",
    "    #print (df[:3])\n",
    "    if ax==None:\n",
    "        fig,ax = plt.subplots(1,1,figsize=(15,3))\n",
    "    from matplotlib.collections import PatchCollection\n",
    "    patches=[]\n",
    "    for i,r in df.iterrows():\n",
    "        rect = plt.Rectangle((r.x, r.y),\n",
    "                              r.length,\n",
    "                              h, facecolor=r.color,\n",
    "                              edgecolor='black', linewidth=0)\n",
    "        #ax.add_patch(rect)\n",
    "        patches.append(rect)\n",
    "                                                    \n",
    "    ax.add_collection(PatchCollection(patches))\n",
    "    ax.set_ylim(0,df.y.max())\n",
    "    ax.set_xlim(start, end)\n",
    "    plt.tight_layout()\n",
    "    return\n",
    "\n",
    "st=time.time()\n",
    "plot_bam_alignment(testbam,chrom,11260,13560)\n",
    "print (time.time()-st)"
   ]
  },
  {
   "cell_type": "markdown",
   "metadata": {},
   "source": []
  }
 ],
 "metadata": {
  "kernelspec": {
   "display_name": "Python 3",
   "language": "python",
   "name": "python3"
  },
  "language_info": {
   "codemirror_mode": {
    "name": "ipython",
    "version": 3
   },
   "file_extension": ".py",
   "mimetype": "text/x-python",
   "name": "python",
   "nbconvert_exporter": "python",
   "pygments_lexer": "ipython3",
   "version": "3.7.5"
  }
 },
 "nbformat": 4,
 "nbformat_minor": 4
}
