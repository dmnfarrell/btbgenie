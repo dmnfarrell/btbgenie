{
 "cells": [
  {
   "cell_type": "markdown",
   "metadata": {},
   "source": [
    "## Whole Genome Sequenced Mycobacterium bovis analysis for BTBgenie.\n",
    "\n",
    "Note: the current version of the M.bovis genome online has genes missing in the annotation. See https://www.ncbi.nlm.nih.gov/nuccore/LT708304.1?report=graph\n",
    "\n",
    "Updated files can be found here: https://github.com/dmnfarrell/gordon-group/tree/master/mbovis_annotation\n",
    "\n",
    "links:\n",
    "\n",
    "* https://github.com/JosephCrispell/GeneralTools/tree/master/ProcessingPipeline\n",
    "* [Woodchester Park eLife paper](https://elifesciences.org/articles/45833)\n",
    "* http://www.htslib.org/doc/bcftools.html\n",
    "* https://mtbgenomicsworkshop.readthedocs.io/\n",
    "* [BCFtools cheat sheet](https://gist.github.com/elowy01/93922762e131d7abd3c7e8e166a74a0b)\n",
    "* https://pypi.org/project/pyfaidx/\n",
    "* https://biopython.org/wiki/Category:Cookbook\n",
    "* https://pyvcf.readthedocs.io/en/v0.4.6/INTRO.html"
   ]
  },
  {
   "cell_type": "code",
   "execution_count": 2,
   "metadata": {},
   "outputs": [],
   "source": [
    "import sys,os,shutil,subprocess\n",
    "import random\n",
    "import glob, time\n",
    "from importlib import reload\n",
    "import numpy as np\n",
    "import pandas as pd\n",
    "import pylab as plt\n",
    "from Bio import SeqIO\n",
    "from Bio.Seq import Seq\n",
    "from Bio.SeqRecord import SeqRecord\n",
    "from gzip import open as gzopen\n",
    "sys.path.append('pathogenie')\n",
    "from pathogenie import tools, aligners, app, trees"
   ]
  },
  {
   "cell_type": "markdown",
   "metadata": {},
   "source": [
    "## test set of Mbovis samples"
   ]
  },
  {
   "cell_type": "code",
   "execution_count": 2,
   "metadata": {},
   "outputs": [],
   "source": [
    "import enasearch\n",
    "data = enasearch.search_data(\n",
    "    free_text_search=True,\n",
    "    query=\"ERR2693227\",\n",
    "    result=\"read_run\",\n",
    "    display=\"report\")"
   ]
  },
  {
   "cell_type": "code",
   "execution_count": null,
   "metadata": {},
   "outputs": [],
   "source": [
    "enasearch.retrieve_run_report(accession=\"ERR2693227\", fields=\"run_accession,instrument_platform,instrument_model,library_layout,library_strategy,center_name,study_title,read_count,fastq_ftp\")"
   ]
  },
  {
   "cell_type": "code",
   "execution_count": null,
   "metadata": {},
   "outputs": [],
   "source": [
    "enasearch.get_returnable_fields(result=\"read_run\", verbose=False)"
   ]
  },
  {
   "cell_type": "code",
   "execution_count": null,
   "metadata": {},
   "outputs": [],
   "source": [
    "import xml.etree.ElementTree as et \n",
    "\n",
    "xtree = et.parse(\"ena_1765_read_run.xml\")\n",
    "\n",
    "def parse_XML(xml_file, df_cols): \n",
    "    \"\"\"Parse the input XML file and store the result in a pandas \n",
    "    DataFrame with the given columns. \n",
    "    \n",
    "    The first element of df_cols is supposed to be the identifier \n",
    "    variable, which is an attribute of each node element in the \n",
    "    XML data; other features will be parsed from the text content \n",
    "    of each sub-element. \n",
    "    \"\"\"\n",
    "    \n",
    "    xtree = et.parse(xml_file)\n",
    "    xroot = xtree.getroot()\n",
    "    rows = []\n",
    "    \n",
    "    for node in xroot: \n",
    "        res = []\n",
    "        res.append(node.attrib.get(df_cols[0]))\n",
    "        for el in df_cols[1:]: \n",
    "            if node is not None and node.find(el) is not None:\n",
    "                res.append(node.find(el).text)\n",
    "            else: \n",
    "                res.append(None)\n",
    "        rows.append({df_cols[i]: res[i] \n",
    "                     for i, _ in enumerate(df_cols)})\n",
    "    \n",
    "    out_df = pd.DataFrame(rows, columns=df_cols)\n",
    "        \n",
    "    return out_df\n",
    "\n",
    "df=parse_XML(\"ena_1765_read_run.xml\", ['accession','TITLE'])\n",
    "df.to_csv('ena_runs_mbovis.csv',index=False)"
   ]
  },
  {
   "cell_type": "code",
   "execution_count": null,
   "metadata": {},
   "outputs": [],
   "source": [
    "sra = pd.read_csv('sra_mbovis_runtable.csv')\n",
    "#sra.geo_loc_name_country.value_counts()\n",
    "sub=sra[sra.geo_loc_name_country=='Ethiopia']\n",
    "cols = ['Run','geo_loc_name_country','DATASTORE filetype','LibraryLayout','Host','ReleaseDate','Bytes']\n",
    "print (sub[cols])\n"
   ]
  },
  {
   "cell_type": "code",
   "execution_count": null,
   "metadata": {},
   "outputs": [],
   "source": [
    "# fetch from SRA\n",
    "def fetch_sra_reads(df):\n",
    "    #download a subset of reads\n",
    "    path = '/storage/btbgenie/mbovis_sra'\n",
    "    for i,r in df.iterrows():        \n",
    "        files = glob.glob(os.path.join(path,r.Run+'*'))        \n",
    "        if len(files)==0:\n",
    "            cmd = 'fastq-dump --split-3 {n} --outdir {o}'.format(n=r.Run,o=path)\n",
    "            print (cmd)\n",
    "            subprocess.check_output(cmd,shell=True)\n",
    "        \n",
    "fetch_sra_reads(sub)"
   ]
  },
  {
   "cell_type": "code",
   "execution_count": 4,
   "metadata": {},
   "outputs": [],
   "source": [
    "testfile='albania/3_S57_L001-4_R1_001.fastq.gz'"
   ]
  },
  {
   "cell_type": "markdown",
   "metadata": {},
   "source": [
    "## Blasting to known contaminants\n",
    "\n",
    "* https://bmcbioinformatics.biomedcentral.com/articles/10.1186/s12859-019-2684-x#Sec2"
   ]
  },
  {
   "cell_type": "code",
   "execution_count": 3,
   "metadata": {},
   "outputs": [
    {
     "name": "stdout",
     "output_type": "stream",
     "text": [
      "samtools view -b -f 4 mapped/3_S57_L001.bam > unmapped.bam\n"
     ]
    }
   ],
   "source": [
    "#get unmapped reads from a bam file\n",
    "\n",
    "infile='mapped/3_S57_L001.bam'\n",
    "cmd = 'samtools view -b -f 4 {i} > unmapped.bam'.format(i=infile)\n",
    "print (cmd)\n",
    "#align with bwa to known index of contaminants\n"
   ]
  },
  {
   "cell_type": "markdown",
   "metadata": {},
   "source": [
    "### Examine FASTQ file quality and define trimming parameters"
   ]
  },
  {
   "cell_type": "code",
   "execution_count": 4,
   "metadata": {},
   "outputs": [
    {
     "data": {
      "text/plain": [
       "<matplotlib.axes._subplots.AxesSubplot at 0x7f15d42d8750>"
      ]
     },
     "execution_count": 4,
     "metadata": {},
     "output_type": "execute_result"
    },
    {
     "data": {
      "image/png": "[encoded data removed]",
      "text/plain": [
       "<Figure size 432x288 with 1 Axes>"
      ]
     },
     "metadata": {
      "needs_background": "light"
     },
     "output_type": "display_data"
    }
   ],
   "source": [
    "reload(tools)\n",
    "\n",
    "df = tools.fastq_to_dataframe(testfile)\n",
    "df.length.hist()"
   ]
  },
  {
   "cell_type": "code",
   "execution_count": 431,
   "metadata": {},
   "outputs": [
    {
     "name": "stdout",
     "output_type": "stream",
     "text": [
      "64.20850825309753\n"
     ]
    },
    {
     "data": {
      "text/plain": [
       "<matplotlib.axes._subplots.AxesSubplot at 0x7fdb07a8ae10>"
      ]
     },
     "execution_count": 431,
     "metadata": {},
     "output_type": "execute_result"
    },
    {
     "data": {
      "image/png": "[encoded data removed]",
      "text/plain": [
       "<Figure size 432x288 with 1 Axes>"
      ]
     },
     "metadata": {
      "needs_background": "light"
     },
     "output_type": "display_data"
    }
   ],
   "source": [
    "def trim_reads_default(filename,  outfile, right_quality=30):\n",
    "    \"\"\"Trim adapters\"\"\"\n",
    "        \n",
    "    fastq_parser = SeqIO.parse(gzopen(filename, \"rt\"), \"fastq\")\n",
    "    c=0\n",
    "    out = gzopen(outfile, \"wt\")\n",
    "    for record in fastq_parser:\n",
    "        score = record.letter_annotations[\"phred_quality\"]         \n",
    "        for i in range(len(score)-1,0,-1):\n",
    "            if score[i] >= right_quality:\n",
    "                break\n",
    "        #trimmed.append(record[:i])\n",
    "        #print (record[:i])        \n",
    "        #c+=1\n",
    "        #if c>100:\n",
    "        #    break    \n",
    "        SeqIO.write(record[:i],out,'fastq')\n",
    "    return\n",
    "\n",
    "st=time.time()\n",
    "trim_reads_default(testfile,'trimmed.fastq.gz')\n",
    "print (time.time()-st)\n",
    "df = tools.fastq_to_dataframe('trimmed.fastq.gz')\n",
    "df.length.hist()"
   ]
  },
  {
   "cell_type": "markdown",
   "metadata": {},
   "source": [
    "### multiprocess trimming"
   ]
  },
  {
   "cell_type": "code",
   "execution_count": 439,
   "metadata": {},
   "outputs": [
    {
     "name": "stdout",
     "output_type": "stream",
     "text": [
      "Wrote 465388 records to group_1.fastq\n"
     ]
    },
    {
     "data": {
      "text/plain": [
       "['group_1.fastq']"
      ]
     },
     "execution_count": 439,
     "metadata": {},
     "output_type": "execute_result"
    }
   ],
   "source": [
    "def split_fastq(filename, chunksize=100000):\n",
    "    \n",
    "    names=[]\n",
    "    record_iter = SeqIO.parse(gzopen(filename, \"rt\"), \"fastq\")\n",
    "    for i, batch in enumerate(tools.batch_iterator(record_iter, chunksize)):\n",
    "        tempfile = \"group_%i.fastq\" % (i + 1)\n",
    "        names.append(tempfile)\n",
    "        with open(tempfile, \"w\") as handle:\n",
    "            count = SeqIO.write(batch, handle, \"fastq\")\n",
    "        print(\"Wrote %i records to %s\" % (count, tempfile))\n",
    "    return names\n",
    "\n",
    "split_fastq(testfile)"
   ]
  },
  {
   "cell_type": "code",
   "execution_count": null,
   "metadata": {},
   "outputs": [],
   "source": [
    "tools.plot_fastq_qualities(testfile,limit=100000)\n",
    "plt.savefig('fastq_quals.png',dpi=100)\n",
    "tools.plot_fastq_gc_content(testfile, limit=50000)\n",
    "plt.savefig('gc.png',dpi=100)"
   ]
  },
  {
   "cell_type": "code",
   "execution_count": 254,
   "metadata": {},
   "outputs": [
    {
     "name": "stdout",
     "output_type": "stream",
     "text": [
      "cutadapt -O 5 -q 20 albania/3_S57_L001-4_R1_001.fastq.gz -o trimmed.fastq.gz\n"
     ]
    }
   ],
   "source": [
    "reload(tools)\n",
    "tools.trim_adapters(testfile, 'trimmed.fastq.gz')"
   ]
  },
  {
   "cell_type": "markdown",
   "metadata": {},
   "source": [
    "### Get sample ids from fastq files"
   ]
  },
  {
   "cell_type": "code",
   "execution_count": 13,
   "metadata": {},
   "outputs": [
    {
     "data": {
      "text/html": [
       "<div>\n",
       "<style scoped>\n",
       "    .dataframe tbody tr th:only-of-type {\n",
       "        vertical-align: middle;\n",
       "    }\n",
       "\n",
       "    .dataframe tbody tr th {\n",
       "        vertical-align: top;\n",
       "    }\n",
       "\n",
       "    .dataframe thead th {\n",
       "        text-align: right;\n",
       "    }\n",
       "</style>\n",
       "<table border=\"1\" class=\"dataframe\">\n",
       "  <thead>\n",
       "    <tr style=\"text-align: right;\">\n",
       "      <th></th>\n",
       "      <th>name</th>\n",
       "      <th>sample</th>\n",
       "      <th>filename</th>\n",
       "      <th>pair</th>\n",
       "    </tr>\n",
       "  </thead>\n",
       "  <tbody>\n",
       "    <tr>\n",
       "      <th>0</th>\n",
       "      <td>3_S57_L001-4_R1_001</td>\n",
       "      <td>3_S57_L001</td>\n",
       "      <td>albania/3_S57_L001-4_R1_001.fastq.gz</td>\n",
       "      <td>1</td>\n",
       "    </tr>\n",
       "    <tr>\n",
       "      <th>1</th>\n",
       "      <td>3_S57_L001-4_R2_001</td>\n",
       "      <td>3_S57_L001</td>\n",
       "      <td>albania/3_S57_L001-4_R2_001.fastq.gz</td>\n",
       "      <td>2</td>\n",
       "    </tr>\n",
       "    <tr>\n",
       "      <th>2</th>\n",
       "      <td>6_S7_L001-4_R1_001</td>\n",
       "      <td>6_S7_L001</td>\n",
       "      <td>albania/6_S7_L001-4_R1_001.fastq.gz</td>\n",
       "      <td>1</td>\n",
       "    </tr>\n",
       "    <tr>\n",
       "      <th>3</th>\n",
       "      <td>6_S7_L001-4_R2_001</td>\n",
       "      <td>6_S7_L001</td>\n",
       "      <td>albania/6_S7_L001-4_R2_001.fastq.gz</td>\n",
       "      <td>2</td>\n",
       "    </tr>\n",
       "    <tr>\n",
       "      <th>4</th>\n",
       "      <td>SRR1791710_1</td>\n",
       "      <td>SRR1791710</td>\n",
       "      <td>/storage/btbgenie/mbovis_sra/SRR1791710_1.fast...</td>\n",
       "      <td>1</td>\n",
       "    </tr>\n",
       "    <tr>\n",
       "      <th>5</th>\n",
       "      <td>SRR1791710_2</td>\n",
       "      <td>SRR1791710</td>\n",
       "      <td>/storage/btbgenie/mbovis_sra/SRR1791710_2.fast...</td>\n",
       "      <td>2</td>\n",
       "    </tr>\n",
       "    <tr>\n",
       "      <th>6</th>\n",
       "      <td>SRR1791711_1</td>\n",
       "      <td>SRR1791711</td>\n",
       "      <td>/storage/btbgenie/mbovis_sra/SRR1791711_1.fast...</td>\n",
       "      <td>1</td>\n",
       "    </tr>\n",
       "    <tr>\n",
       "      <th>7</th>\n",
       "      <td>SRR1791711_2</td>\n",
       "      <td>SRR1791711</td>\n",
       "      <td>/storage/btbgenie/mbovis_sra/SRR1791711_2.fast...</td>\n",
       "      <td>2</td>\n",
       "    </tr>\n",
       "    <tr>\n",
       "      <th>8</th>\n",
       "      <td>SRR1791712_1</td>\n",
       "      <td>SRR1791712</td>\n",
       "      <td>/storage/btbgenie/mbovis_sra/SRR1791712_1.fast...</td>\n",
       "      <td>1</td>\n",
       "    </tr>\n",
       "    <tr>\n",
       "      <th>9</th>\n",
       "      <td>SRR1791712_2</td>\n",
       "      <td>SRR1791712</td>\n",
       "      <td>/storage/btbgenie/mbovis_sra/SRR1791712_2.fast...</td>\n",
       "      <td>2</td>\n",
       "    </tr>\n",
       "    <tr>\n",
       "      <th>10</th>\n",
       "      <td>SRR5486071_1</td>\n",
       "      <td>SRR5486071</td>\n",
       "      <td>/storage/btbgenie/mbovis_sra/SRR5486071_1.fast...</td>\n",
       "      <td>1</td>\n",
       "    </tr>\n",
       "    <tr>\n",
       "      <th>11</th>\n",
       "      <td>SRR5486071_2</td>\n",
       "      <td>SRR5486071</td>\n",
       "      <td>/storage/btbgenie/mbovis_sra/SRR5486071_2.fast...</td>\n",
       "      <td>2</td>\n",
       "    </tr>\n",
       "    <tr>\n",
       "      <th>12</th>\n",
       "      <td>SRR5486072_1</td>\n",
       "      <td>SRR5486072</td>\n",
       "      <td>/storage/btbgenie/mbovis_sra/SRR5486072_1.fast...</td>\n",
       "      <td>1</td>\n",
       "    </tr>\n",
       "    <tr>\n",
       "      <th>13</th>\n",
       "      <td>SRR5486072_2</td>\n",
       "      <td>SRR5486072</td>\n",
       "      <td>/storage/btbgenie/mbovis_sra/SRR5486072_2.fast...</td>\n",
       "      <td>2</td>\n",
       "    </tr>\n",
       "    <tr>\n",
       "      <th>14</th>\n",
       "      <td>SRR5486087_1</td>\n",
       "      <td>SRR5486087</td>\n",
       "      <td>/storage/btbgenie/mbovis_sra/SRR5486087_1.fast...</td>\n",
       "      <td>1</td>\n",
       "    </tr>\n",
       "    <tr>\n",
       "      <th>15</th>\n",
       "      <td>SRR5486087_2</td>\n",
       "      <td>SRR5486087</td>\n",
       "      <td>/storage/btbgenie/mbovis_sra/SRR5486087_2.fast...</td>\n",
       "      <td>2</td>\n",
       "    </tr>\n",
       "    <tr>\n",
       "      <th>16</th>\n",
       "      <td>SRR5486088_1</td>\n",
       "      <td>SRR5486088</td>\n",
       "      <td>/storage/btbgenie/mbovis_sra/SRR5486088_1.fast...</td>\n",
       "      <td>1</td>\n",
       "    </tr>\n",
       "    <tr>\n",
       "      <th>17</th>\n",
       "      <td>SRR5486088_2</td>\n",
       "      <td>SRR5486088</td>\n",
       "      <td>/storage/btbgenie/mbovis_sra/SRR5486088_2.fast...</td>\n",
       "      <td>2</td>\n",
       "    </tr>\n",
       "    <tr>\n",
       "      <th>18</th>\n",
       "      <td>SRR5486089_1</td>\n",
       "      <td>SRR5486089</td>\n",
       "      <td>/storage/btbgenie/mbovis_sra/SRR5486089_1.fast...</td>\n",
       "      <td>1</td>\n",
       "    </tr>\n",
       "    <tr>\n",
       "      <th>19</th>\n",
       "      <td>SRR5486089_2</td>\n",
       "      <td>SRR5486089</td>\n",
       "      <td>/storage/btbgenie/mbovis_sra/SRR5486089_2.fast...</td>\n",
       "      <td>2</td>\n",
       "    </tr>\n",
       "    <tr>\n",
       "      <th>20</th>\n",
       "      <td>SRR5486090_1</td>\n",
       "      <td>SRR5486090</td>\n",
       "      <td>/storage/btbgenie/mbovis_sra/SRR5486090_1.fast...</td>\n",
       "      <td>1</td>\n",
       "    </tr>\n",
       "    <tr>\n",
       "      <th>21</th>\n",
       "      <td>SRR5486090_2</td>\n",
       "      <td>SRR5486090</td>\n",
       "      <td>/storage/btbgenie/mbovis_sra/SRR5486090_2.fast...</td>\n",
       "      <td>2</td>\n",
       "    </tr>\n",
       "    <tr>\n",
       "      <th>22</th>\n",
       "      <td>SRR5486091_1</td>\n",
       "      <td>SRR5486091</td>\n",
       "      <td>/storage/btbgenie/mbovis_sra/SRR5486091_1.fast...</td>\n",
       "      <td>1</td>\n",
       "    </tr>\n",
       "    <tr>\n",
       "      <th>23</th>\n",
       "      <td>SRR5486091_2</td>\n",
       "      <td>SRR5486091</td>\n",
       "      <td>/storage/btbgenie/mbovis_sra/SRR5486091_2.fast...</td>\n",
       "      <td>2</td>\n",
       "    </tr>\n",
       "    <tr>\n",
       "      <th>24</th>\n",
       "      <td>SRR5486092_1</td>\n",
       "      <td>SRR5486092</td>\n",
       "      <td>/storage/btbgenie/mbovis_sra/SRR5486092_1.fast...</td>\n",
       "      <td>1</td>\n",
       "    </tr>\n",
       "    <tr>\n",
       "      <th>25</th>\n",
       "      <td>SRR5486092_2</td>\n",
       "      <td>SRR5486092</td>\n",
       "      <td>/storage/btbgenie/mbovis_sra/SRR5486092_2.fast...</td>\n",
       "      <td>2</td>\n",
       "    </tr>\n",
       "    <tr>\n",
       "      <th>26</th>\n",
       "      <td>SRR8063651_1</td>\n",
       "      <td>SRR8063651</td>\n",
       "      <td>/storage/btbgenie/mbovis_sra/SRR8063651_1.fast...</td>\n",
       "      <td>1</td>\n",
       "    </tr>\n",
       "    <tr>\n",
       "      <th>27</th>\n",
       "      <td>SRR8063651_2</td>\n",
       "      <td>SRR8063651</td>\n",
       "      <td>/storage/btbgenie/mbovis_sra/SRR8063651_2.fast...</td>\n",
       "      <td>2</td>\n",
       "    </tr>\n",
       "    <tr>\n",
       "      <th>28</th>\n",
       "      <td>SRR8063652_1</td>\n",
       "      <td>SRR8063652</td>\n",
       "      <td>/storage/btbgenie/mbovis_sra/SRR8063652_1.fast...</td>\n",
       "      <td>1</td>\n",
       "    </tr>\n",
       "    <tr>\n",
       "      <th>29</th>\n",
       "      <td>SRR8063652_2</td>\n",
       "      <td>SRR8063652</td>\n",
       "      <td>/storage/btbgenie/mbovis_sra/SRR8063652_2.fast...</td>\n",
       "      <td>2</td>\n",
       "    </tr>\n",
       "    <tr>\n",
       "      <th>30</th>\n",
       "      <td>SRR8063654_1</td>\n",
       "      <td>SRR8063654</td>\n",
       "      <td>/storage/btbgenie/mbovis_sra/SRR8063654_1.fast...</td>\n",
       "      <td>1</td>\n",
       "    </tr>\n",
       "    <tr>\n",
       "      <th>31</th>\n",
       "      <td>SRR8063654_2</td>\n",
       "      <td>SRR8063654</td>\n",
       "      <td>/storage/btbgenie/mbovis_sra/SRR8063654_2.fast...</td>\n",
       "      <td>2</td>\n",
       "    </tr>\n",
       "    <tr>\n",
       "      <th>32</th>\n",
       "      <td>SRR8063660_1</td>\n",
       "      <td>SRR8063660</td>\n",
       "      <td>/storage/btbgenie/mbovis_sra/SRR8063660_1.fast...</td>\n",
       "      <td>1</td>\n",
       "    </tr>\n",
       "    <tr>\n",
       "      <th>33</th>\n",
       "      <td>SRR8063660_2</td>\n",
       "      <td>SRR8063660</td>\n",
       "      <td>/storage/btbgenie/mbovis_sra/SRR8063660_2.fast...</td>\n",
       "      <td>2</td>\n",
       "    </tr>\n",
       "    <tr>\n",
       "      <th>34</th>\n",
       "      <td>SRR8063661_1</td>\n",
       "      <td>SRR8063661</td>\n",
       "      <td>/storage/btbgenie/mbovis_sra/SRR8063661_1.fast...</td>\n",
       "      <td>1</td>\n",
       "    </tr>\n",
       "    <tr>\n",
       "      <th>35</th>\n",
       "      <td>SRR8063661_2</td>\n",
       "      <td>SRR8063661</td>\n",
       "      <td>/storage/btbgenie/mbovis_sra/SRR8063661_2.fast...</td>\n",
       "      <td>2</td>\n",
       "    </tr>\n",
       "    <tr>\n",
       "      <th>36</th>\n",
       "      <td>SRR8063662_1</td>\n",
       "      <td>SRR8063662</td>\n",
       "      <td>/storage/btbgenie/mbovis_sra/SRR8063662_1.fast...</td>\n",
       "      <td>1</td>\n",
       "    </tr>\n",
       "    <tr>\n",
       "      <th>37</th>\n",
       "      <td>SRR8063662_2</td>\n",
       "      <td>SRR8063662</td>\n",
       "      <td>/storage/btbgenie/mbovis_sra/SRR8063662_2.fast...</td>\n",
       "      <td>2</td>\n",
       "    </tr>\n",
       "    <tr>\n",
       "      <th>38</th>\n",
       "      <td>SRR8063663_1</td>\n",
       "      <td>SRR8063663</td>\n",
       "      <td>/storage/btbgenie/mbovis_sra/SRR8063663_1.fast...</td>\n",
       "      <td>1</td>\n",
       "    </tr>\n",
       "    <tr>\n",
       "      <th>39</th>\n",
       "      <td>SRR8063663_2</td>\n",
       "      <td>SRR8063663</td>\n",
       "      <td>/storage/btbgenie/mbovis_sra/SRR8063663_2.fast...</td>\n",
       "      <td>2</td>\n",
       "    </tr>\n",
       "    <tr>\n",
       "      <th>40</th>\n",
       "      <td>SRR8063665_1</td>\n",
       "      <td>SRR8063665</td>\n",
       "      <td>/storage/btbgenie/mbovis_sra/SRR8063665_1.fast...</td>\n",
       "      <td>1</td>\n",
       "    </tr>\n",
       "    <tr>\n",
       "      <th>41</th>\n",
       "      <td>SRR8063665_2</td>\n",
       "      <td>SRR8063665</td>\n",
       "      <td>/storage/btbgenie/mbovis_sra/SRR8063665_2.fast...</td>\n",
       "      <td>2</td>\n",
       "    </tr>\n",
       "    <tr>\n",
       "      <th>42</th>\n",
       "      <td>SRR8063666_1</td>\n",
       "      <td>SRR8063666</td>\n",
       "      <td>/storage/btbgenie/mbovis_sra/SRR8063666_1.fast...</td>\n",
       "      <td>1</td>\n",
       "    </tr>\n",
       "    <tr>\n",
       "      <th>43</th>\n",
       "      <td>SRR8063666_2</td>\n",
       "      <td>SRR8063666</td>\n",
       "      <td>/storage/btbgenie/mbovis_sra/SRR8063666_2.fast...</td>\n",
       "      <td>2</td>\n",
       "    </tr>\n",
       "  </tbody>\n",
       "</table>\n",
       "</div>"
      ],
      "text/plain": [
       "                   name      sample  \\\n",
       "0   3_S57_L001-4_R1_001  3_S57_L001   \n",
       "1   3_S57_L001-4_R2_001  3_S57_L001   \n",
       "2    6_S7_L001-4_R1_001   6_S7_L001   \n",
       "3    6_S7_L001-4_R2_001   6_S7_L001   \n",
       "4          SRR1791710_1  SRR1791710   \n",
       "5          SRR1791710_2  SRR1791710   \n",
       "6          SRR1791711_1  SRR1791711   \n",
       "7          SRR1791711_2  SRR1791711   \n",
       "8          SRR1791712_1  SRR1791712   \n",
       "9          SRR1791712_2  SRR1791712   \n",
       "10         SRR5486071_1  SRR5486071   \n",
       "11         SRR5486071_2  SRR5486071   \n",
       "12         SRR5486072_1  SRR5486072   \n",
       "13         SRR5486072_2  SRR5486072   \n",
       "14         SRR5486087_1  SRR5486087   \n",
       "15         SRR5486087_2  SRR5486087   \n",
       "16         SRR5486088_1  SRR5486088   \n",
       "17         SRR5486088_2  SRR5486088   \n",
       "18         SRR5486089_1  SRR5486089   \n",
       "19         SRR5486089_2  SRR5486089   \n",
       "20         SRR5486090_1  SRR5486090   \n",
       "21         SRR5486090_2  SRR5486090   \n",
       "22         SRR5486091_1  SRR5486091   \n",
       "23         SRR5486091_2  SRR5486091   \n",
       "24         SRR5486092_1  SRR5486092   \n",
       "25         SRR5486092_2  SRR5486092   \n",
       "26         SRR8063651_1  SRR8063651   \n",
       "27         SRR8063651_2  SRR8063651   \n",
       "28         SRR8063652_1  SRR8063652   \n",
       "29         SRR8063652_2  SRR8063652   \n",
       "30         SRR8063654_1  SRR8063654   \n",
       "31         SRR8063654_2  SRR8063654   \n",
       "32         SRR8063660_1  SRR8063660   \n",
       "33         SRR8063660_2  SRR8063660   \n",
       "34         SRR8063661_1  SRR8063661   \n",
       "35         SRR8063661_2  SRR8063661   \n",
       "36         SRR8063662_1  SRR8063662   \n",
       "37         SRR8063662_2  SRR8063662   \n",
       "38         SRR8063663_1  SRR8063663   \n",
       "39         SRR8063663_2  SRR8063663   \n",
       "40         SRR8063665_1  SRR8063665   \n",
       "41         SRR8063665_2  SRR8063665   \n",
       "42         SRR8063666_1  SRR8063666   \n",
       "43         SRR8063666_2  SRR8063666   \n",
       "\n",
       "                                             filename  pair  \n",
       "0                albania/3_S57_L001-4_R1_001.fastq.gz     1  \n",
       "1                albania/3_S57_L001-4_R2_001.fastq.gz     2  \n",
       "2                 albania/6_S7_L001-4_R1_001.fastq.gz     1  \n",
       "3                 albania/6_S7_L001-4_R2_001.fastq.gz     2  \n",
       "4   /storage/btbgenie/mbovis_sra/SRR1791710_1.fast...     1  \n",
       "5   /storage/btbgenie/mbovis_sra/SRR1791710_2.fast...     2  \n",
       "6   /storage/btbgenie/mbovis_sra/SRR1791711_1.fast...     1  \n",
       "7   /storage/btbgenie/mbovis_sra/SRR1791711_2.fast...     2  \n",
       "8   /storage/btbgenie/mbovis_sra/SRR1791712_1.fast...     1  \n",
       "9   /storage/btbgenie/mbovis_sra/SRR1791712_2.fast...     2  \n",
       "10  /storage/btbgenie/mbovis_sra/SRR5486071_1.fast...     1  \n",
       "11  /storage/btbgenie/mbovis_sra/SRR5486071_2.fast...     2  \n",
       "12  /storage/btbgenie/mbovis_sra/SRR5486072_1.fast...     1  \n",
       "13  /storage/btbgenie/mbovis_sra/SRR5486072_2.fast...     2  \n",
       "14  /storage/btbgenie/mbovis_sra/SRR5486087_1.fast...     1  \n",
       "15  /storage/btbgenie/mbovis_sra/SRR5486087_2.fast...     2  \n",
       "16  /storage/btbgenie/mbovis_sra/SRR5486088_1.fast...     1  \n",
       "17  /storage/btbgenie/mbovis_sra/SRR5486088_2.fast...     2  \n",
       "18  /storage/btbgenie/mbovis_sra/SRR5486089_1.fast...     1  \n",
       "19  /storage/btbgenie/mbovis_sra/SRR5486089_2.fast...     2  \n",
       "20  /storage/btbgenie/mbovis_sra/SRR5486090_1.fast...     1  \n",
       "21  /storage/btbgenie/mbovis_sra/SRR5486090_2.fast...     2  \n",
       "22  /storage/btbgenie/mbovis_sra/SRR5486091_1.fast...     1  \n",
       "23  /storage/btbgenie/mbovis_sra/SRR5486091_2.fast...     2  \n",
       "24  /storage/btbgenie/mbovis_sra/SRR5486092_1.fast...     1  \n",
       "25  /storage/btbgenie/mbovis_sra/SRR5486092_2.fast...     2  \n",
       "26  /storage/btbgenie/mbovis_sra/SRR8063651_1.fast...     1  \n",
       "27  /storage/btbgenie/mbovis_sra/SRR8063651_2.fast...     2  \n",
       "28  /storage/btbgenie/mbovis_sra/SRR8063652_1.fast...     1  \n",
       "29  /storage/btbgenie/mbovis_sra/SRR8063652_2.fast...     2  \n",
       "30  /storage/btbgenie/mbovis_sra/SRR8063654_1.fast...     1  \n",
       "31  /storage/btbgenie/mbovis_sra/SRR8063654_2.fast...     2  \n",
       "32  /storage/btbgenie/mbovis_sra/SRR8063660_1.fast...     1  \n",
       "33  /storage/btbgenie/mbovis_sra/SRR8063660_2.fast...     2  \n",
       "34  /storage/btbgenie/mbovis_sra/SRR8063661_1.fast...     1  \n",
       "35  /storage/btbgenie/mbovis_sra/SRR8063661_2.fast...     2  \n",
       "36  /storage/btbgenie/mbovis_sra/SRR8063662_1.fast...     1  \n",
       "37  /storage/btbgenie/mbovis_sra/SRR8063662_2.fast...     2  \n",
       "38  /storage/btbgenie/mbovis_sra/SRR8063663_1.fast...     1  \n",
       "39  /storage/btbgenie/mbovis_sra/SRR8063663_2.fast...     2  \n",
       "40  /storage/btbgenie/mbovis_sra/SRR8063665_1.fast...     1  \n",
       "41  /storage/btbgenie/mbovis_sra/SRR8063665_2.fast...     2  \n",
       "42  /storage/btbgenie/mbovis_sra/SRR8063666_1.fast...     1  \n",
       "43  /storage/btbgenie/mbovis_sra/SRR8063666_2.fast...     2  "
      ]
     },
     "execution_count": 13,
     "metadata": {},
     "output_type": "execute_result"
    }
   ],
   "source": [
    "path1='albania'\n",
    "files = glob.glob(os.path.join(path1,'*.fastq.gz'))\n",
    "path2='/storage/btbgenie/mbovis_sra'\n",
    "files = glob.glob(os.path.join(path2,'*.fastq.gz'))\n",
    "\n",
    "def get_files_from_paths(paths):\n",
    "    \"\"\"Get files in multiple paths\"\"\"\n",
    "    \n",
    "    files=[]\n",
    "    for path in paths:\n",
    "        s = glob.glob(os.path.join(path,'*.fastq.gz'))\n",
    "        files.extend(s)\n",
    "    return files\n",
    "\n",
    "files = get_files_from_paths([path1,path2])\n",
    "       \n",
    "from collections import defaultdict\n",
    "\n",
    "def get_sample_names(filenames, sep='-'):\n",
    "    \"\"\"Get sample pairs from list of fastq files.\"\"\"\n",
    "\n",
    "    res = []\n",
    "    cols = ['name','sample','filename']\n",
    "    for filename in filenames:\n",
    "        name = os.path.basename(filename).split('.')[0]\n",
    "        sample = name.split(sep)[0]\n",
    "        #if we can't get sample name try another delimeter?\n",
    "        if name == sample:\n",
    "            sample = name.split('_')[0]\n",
    "        x = [name, sample, filename]\n",
    "        res.append(x)\n",
    "\n",
    "    df = pd.DataFrame(res, columns=cols)\n",
    "    df = df.sort_values(['name','sample']).reset_index(drop=True)\n",
    "    df['pair'] = df.groupby('sample').cumcount()+1\n",
    "    #df = df.sort_values(['name','sample','pair']).reset_index(drop=True)\n",
    "    return df\n",
    "\n",
    "df = get_sample_names(files)\n",
    "df\n",
    "#df.set_index(['sample','pair']).unstack()\n"
   ]
  },
  {
   "cell_type": "markdown",
   "metadata": {},
   "source": [
    "### Align the FASTQ files against reference and create VCF files"
   ]
  },
  {
   "cell_type": "code",
   "execution_count": null,
   "metadata": {},
   "outputs": [],
   "source": [
    "reload(aligners)\n",
    "#path = 'albania'\n",
    "ref = app.ref_genome\n",
    "samples = get_sample_names(files)\n",
    "\n",
    "app.align_reads(samples, idx=ref, threads=10, overwrite=False)"
   ]
  },
  {
   "cell_type": "markdown",
   "metadata": {},
   "source": [
    "### remove duplicated reads"
   ]
  },
  {
   "cell_type": "code",
   "execution_count": null,
   "metadata": {},
   "outputs": [],
   "source": [
    "cmd = 'samtools rmdup A_reads.bt2.sorted.bam A_reads.bt2.sorted.noDups.bam'"
   ]
  },
  {
   "cell_type": "markdown",
   "metadata": {},
   "source": [
    "### call all samples at once"
   ]
  },
  {
   "cell_type": "code",
   "execution_count": 14,
   "metadata": {},
   "outputs": [
    {
     "name": "stdout",
     "output_type": "stream",
     "text": [
      "bcftools mpileup -O b -o mapped/raw.bcf -f /home/farrell/gitprojects/btbgenie/pathogenie/pathogenie/data/Mbovis_AF212297.fa mapped/SRR1791710.bam mapped/SRR8063663.bam mapped/SRR8063661.bam mapped/SRR8063652.bam mapped/SRR5486091.bam mapped/SRR5486071.bam mapped/SRR5486089.bam mapped/SRR5486072.bam mapped/SRR8063666.bam mapped/SRR8063665.bam mapped/SRR8063662.bam mapped/6_S7_L001.bam mapped/3_S57_L001.bam mapped/SRR1791712.bam mapped/SRR8063651.bam mapped/SRR8063654.bam mapped/SRR5486088.bam mapped/SRR5486092.bam mapped/SRR5486090.bam mapped/SRR5486087.bam mapped/SRR8063660.bam mapped/SRR1791711.bam\n",
      "bcftools call --ploidy 1 -m -v -o mapped/calls.vcf mapped/raw.bcf\n",
      "vcftools --vcf mapped/calls.vcf --minQ 20 --recode --recode-INFO-all --out mapped/filtered\n"
     ]
    },
    {
     "data": {
      "text/plain": [
       "'mapped/filtered.recode.vcf'"
      ]
     },
     "execution_count": 14,
     "metadata": {},
     "output_type": "execute_result"
    }
   ],
   "source": [
    "def variant_calling(bam_files, ref, outpath, sample_file=None, callback=None, **kwargs):\n",
    "    \"\"\"Call variants with bcftools\"\"\"\n",
    "\n",
    "    bam_files = ' '.join(bam_files)\n",
    "    rawbcf = os.path.join(outpath,'raw.bcf')\n",
    "    cmd = 'bcftools mpileup -O b -o {o} -f {r} {b}'.format(r=ref, b=bam_files, o=rawbcf)\n",
    "    print (cmd)\n",
    "    if callback != None:\n",
    "        callback(cmd)      \n",
    "    subprocess.check_output(cmd,shell=True)\n",
    "    #find snps\n",
    "    vcfout = os.path.join(outpath,'calls.vcf')\n",
    "    cmd = 'bcftools call --ploidy 1 -m -v -o {v} {raw}'.format(v=vcfout,raw=rawbcf)\n",
    "    if callback != None:\n",
    "        callback(cmd)\n",
    "    print (cmd)\n",
    "    subprocess.check_output(cmd,shell=True)\n",
    "    #rename samples\n",
    "    if sample_file != None:\n",
    "        cmd = 'bcftools reheader --samples {s} -o {v} {v}'.format(v=vcfout,s=sample_file)\n",
    "        print(cmd)\n",
    "        tmp = subprocess.check_output(cmd,shell=True)\n",
    "    #filter the calls    \n",
    "    final = os.path.join(outpath,'filtered')\n",
    "    cmd = 'vcftools --vcf {i} --minQ 20 --recode --recode-INFO-all --out {o}'.format(i=vcfout,o=final)\n",
    "    print (cmd)\n",
    "    tmp = subprocess.check_output(cmd,shell=True)\n",
    "    if callback != None:\n",
    "        callback(tmp)\n",
    "    return final+'.recode.vcf'\n",
    "\n",
    "def create_bam_labels(filenames):\n",
    "    \n",
    "    names = [os.path.basename(i).split('.')[0] for i in filenames]\n",
    "    #print (names)\n",
    "    with open('samples.txt','w+') as file:\n",
    "        for s in zip(bam_files,names):\n",
    "            file.write('%s %s\\n' %(s[0],s[1]))\n",
    "    return\n",
    "\n",
    "bam_files = glob.glob('mapped/*.bam')\n",
    "create_bam_labels(bam_files)\n",
    "variant_calling(bam_files, ref, 'mapped')#, sample_file='samples.txt')"
   ]
  },
  {
   "cell_type": "code",
   "execution_count": null,
   "metadata": {},
   "outputs": [],
   "source": [
    "cmd = 'bcftools filter --vcf mapped/calls.vcf --minQ 20 --recode --recode-INFO-all'\n",
    "print (cmd)\n",
    "#tmp = subprocess.check_output(cmd,shell=True)"
   ]
  },
  {
   "cell_type": "code",
   "execution_count": null,
   "metadata": {},
   "outputs": [],
   "source": [
    "def vcf_to_dataframe(vcf_file, quality=30):\n",
    "\n",
    "    import vcf\n",
    "    vcf_reader = vcf.Reader(open(vcf_file,'r'))\n",
    "    #print (vcf_reader.filters)\n",
    "    res=[]\n",
    "    cols = ['chrom','var_type','sub_type','start','end','REF','ALT','QUAL','DP']\n",
    "    for rec in vcf_reader:\n",
    "        x = [rec.CHROM, rec.var_type, rec.var_subtype, rec.start, rec.end, rec.REF, str(rec.ALT[0]),\n",
    "            rec.QUAL, rec.INFO['DP']]\n",
    "        #print (rec.__dict__)\n",
    "        #print (rec.INFO.keys())\n",
    "        for call in rec.samples:\n",
    "            print (call.sample, call.data, rec.genotype(call.sample))            \n",
    "            \n",
    "        res.append(x)\n",
    "        #print (x)\n",
    "    \n",
    "    res = pd.DataFrame(res,columns=cols)\n",
    "    print (res[:20])\n",
    "    #print (res.groupby(['var_type','sub_type']).size())\n",
    "    return res\n",
    "\n",
    "vcf_to_dataframe('mapped/filtered.recode.vcf')"
   ]
  },
  {
   "cell_type": "markdown",
   "metadata": {},
   "source": [
    "### Consequence calling"
   ]
  },
  {
   "cell_type": "code",
   "execution_count": null,
   "metadata": {},
   "outputs": [],
   "source": [
    "cmd = 'bcftools csq -f Mbovis_AF212297.fa -g  Mbovis_csq_format.gff col2_mbovis.vcf -Ot -o col2_mbovis.csq.tsv'"
   ]
  },
  {
   "cell_type": "markdown",
   "metadata": {},
   "source": [
    "### Make fasta alignment from filtered VCF sites with multiple samples\n",
    "\n",
    "https://github.com/JosephCrispell/GeneralTools/blob/master/ProcessingPipeline/CreateFastaWithReferenceFromFiltered_28-06-17.pl\n",
    "\n",
    "\"The allele frequencies at each position in the aligned (against reference) sequence from each isolate were examined. For a haploid organism these frequencies are expected to be either 0 or 1, with some random variation expected from sequencing errors (Sobkowiak et al., 2018). A heterozygous site was defined as one where the allele frequencies were >0.05 and <0.95. Four cattle-derived sequences that had more than 150 heterozygous sites, and allele frequencies that were clustered and non-random (data not shown), were removed. In addition, 26 badger-derived and 16 cattle-derived M. bovis sequences were removed because of suspected errors in the metadata (Appendix 1: Investigating isolate metadata discrepancies).\n",
    "\n",
    "For the sequences from the remaining isolates (204 badger- and 169 cattle-derived isolates), alleles were called at each variant position if they had mapping quality ≥30, high-quality base depth ≥4 (applied to reverse and forward reads separately), read depth ≥30, and allele support ≥0.95. For any site that failed these criteria, if the allele called had been observed in a different isolate that had passed, a second round of filtering was conducted using a high-quality base depth of 5 (total across forward and reverse reads) and the same allele support. As recombination is thought to be extremely rare for mycobacteria (Namouchi et al., 2012), variants in close proximity could indicate a region that is difficult to sequence or under high selection. To avoid calling variants in these regions, variant positions within 10 bp of one another were removed. Following filtering, sequences from 11 badger and 10 cattle isolates that had insufficient coverage (<95%) of the variant positions were removed. Once the alignment was generated, sites with a consistency index less than 1, generally considered homoplasies (Farris, 1989), were removed (n = 4, of 14,991 sites) using HomoplasyFinder (v0.0.0.9; Crispell et al., 2019; RRID: SCR_017300). All the scripts necessary for the processing of the WGS data are freely available online.\""
   ]
  },
  {
   "cell_type": "code",
   "execution_count": null,
   "metadata": {},
   "outputs": [],
   "source": [
    "\n",
    "def fasta_alignment_from_vcf(vcf_file, ref):\n",
    "    \"\"\"Get a fasta alignment for all snp sites in a multi sample\n",
    "    vcf file, including the reference sequence\"\"\"\n",
    "    \n",
    "    from pyfaidx import Fasta\n",
    "    from pyfaidx import FastaVariant\n",
    "    #get samples?\n",
    "    import vcf\n",
    "    vcf_reader = vcf.Reader(open(vcf_file, 'rb'))\n",
    "    samples = vcf_reader.samples\n",
    "    result = []\n",
    "    \n",
    "    #reference sequence\n",
    "    reference = Fasta(ref)\n",
    "    chrom = list(reference.keys())[0]\n",
    "\n",
    "    #get the set of all sites first\n",
    "    sites=[]\n",
    "    for sample in samples:\n",
    "        print (sample)\n",
    "        variant = FastaVariant(app.ref_genome, vcf_file, \n",
    "                                 sample=sample, het=True, hom=True)\n",
    "        pos = list(variant[chrom].variant_sites)\n",
    "        sites.extend(pos)\n",
    "        #print (sample)\n",
    "        #print (pos[:20])\n",
    "    sites = sorted(set(sites))\n",
    "    n=550\n",
    "    sites=sites[:n]\n",
    "    print (sites)\n",
    "\n",
    "    #get reference sequence for site positions\n",
    "    refseq=[]\n",
    "    for p in sites:\n",
    "        refseq.append(reference[chrom][p-1].seq)\n",
    "    refseq = ''.join(refseq)\n",
    "    print (refseq)\n",
    "    refrec = SeqRecord(Seq(refseq),id='ref')\n",
    "    result.append(refrec) \n",
    "\n",
    "    #iterate over variants in each sample\n",
    "    for sample in samples:        \n",
    "        seq=[]\n",
    "        variant = FastaVariant(app.ref_genome, vcf_file, \n",
    "                                 sample=sample, het=True, hom=True)     \n",
    "        #for p in variant[chrom].variant_sites:\n",
    "        for p in sites:        \n",
    "            rec = variant[chrom][p-1:p]\n",
    "            #print (p,rec)\n",
    "            seq.append(rec.seq)\n",
    "        seq = ''.join(seq)\n",
    "        print (seq)\n",
    "        seqrec = SeqRecord(Seq(seq),id=sample)\n",
    "        result.append(seqrec)\n",
    "\n",
    "    SeqIO.write(result, 'variants.fa', 'fasta')\n",
    "\n",
    "cmd='tabix -p vcf mapped/calls.vcf.gz'\n",
    "st=time.time()\n",
    "fasta_alignment_from_vcf('mapped/calls.vcf.gz', app.ref_genome)\n",
    "print (time.time()-st)"
   ]
  },
  {
   "cell_type": "code",
   "execution_count": 16,
   "metadata": {},
   "outputs": [],
   "source": [
    "def get_samples():\n",
    "    import vcf\n",
    "    vcf_reader = vcf.Reader(open('mapped/calls.vcf.gz', 'rb'))\n",
    "    vcf_reader.samples"
   ]
  },
  {
   "cell_type": "markdown",
   "metadata": {},
   "source": [
    "### Phylogeny from MSA"
   ]
  },
  {
   "cell_type": "code",
   "execution_count": 39,
   "metadata": {},
   "outputs": [
    {
     "name": "stdout",
     "output_type": "stream",
     "text": [
      "raxmlHPC-PTHREADS -f a -N 10 -T 8 -m GTRCAT -V -p 55598626 -x 882858 -n variants -s variants.fa\n"
     ]
    }
   ],
   "source": [
    "def run_RAXML(infile, name='variants'):\n",
    "    \"\"\"Run Raxml pthreads\"\"\"\n",
    "    \n",
    "    threads = 8\n",
    "    bootstraps = 10\n",
    "    infile = 'variants.fa'\n",
    "    model = 'GTRCAT'\n",
    "    s1 = random.randint(0,1e8)\n",
    "    s2 = random.randint(0,1e8)\n",
    "    \n",
    "    files = glob.glob('RAxML_*')\n",
    "    for f in files:\n",
    "        os.remove(f)\n",
    "    cmd = 'raxmlHPC-PTHREADS -f a -N {nb} -T {t} -m {m} -V -p {s1} -x {s2} -n {n} -s {i}'.format(t=threads,nb=bootstraps,n=name,i=infile,s1=s1,s2=s2,m=model)\n",
    "    print (cmd)\n",
    "    tmp = subprocess.check_output(cmd, shell=True)\n",
    "    return\n",
    "    \n",
    "run_RAXML('variants.fa')"
   ]
  },
  {
   "cell_type": "code",
   "execution_count": 52,
   "metadata": {},
   "outputs": [
    {
     "data": {
      "image/png": "[encoded data removed]",
      "text/plain": [
       "<IPython.core.display.Image object>"
      ]
     },
     "execution_count": 52,
     "metadata": {},
     "output_type": "execute_result"
    }
   ],
   "source": [
    "def create_tree(filename, labelmap):\n",
    "    \"\"\"\"\"\"\n",
    "    from ete3 import Tree, NodeStyle, TreeStyle\n",
    "    t = Tree(filename)\n",
    "    t.set_outgroup('ref')    \n",
    "    trees.set_tiplabels(t,labelmap)\n",
    "    #trees.format_nodes(t)\n",
    "    ts = TreeStyle()\n",
    "    ts.scale=1000\n",
    "    t.render(\"%%inline\", tree_style=ts)\n",
    "    t.render(\"tree.png\", tree_style=ts)\n",
    "    return t\n",
    "\n",
    "sra['filename'] = sra.Run.apply(lambda x: 'mapped/'+x+'.bam')\n",
    "#print (sra[:3])\n",
    "labelmap = dict(zip(sra.filename,sra.geo_loc_name_country))\n",
    "#print (labelmap)\n",
    "t = create_tree('RAxML_bipartitions.variants', labelmap)\n",
    "t.render(\"%%inline\")"
   ]
  },
  {
   "cell_type": "code",
   "execution_count": 35,
   "metadata": {},
   "outputs": [],
   "source": [
    "from Bio import Phylo\n",
    "tree=Phylo.read('RAxML_bestTree.variants','newick')\n",
    "Phylo.draw(tree)"
   ]
  },
  {
   "cell_type": "code",
   "execution_count": null,
   "metadata": {},
   "outputs": [],
   "source": []
  }
 ],
 "metadata": {
  "kernelspec": {
   "display_name": "Python 3",
   "language": "python",
   "name": "python3"
  },
  "language_info": {
   "codemirror_mode": {
    "name": "ipython",
    "version": 3
   },
   "file_extension": ".py",
   "mimetype": "text/x-python",
   "name": "python",
   "nbconvert_exporter": "python",
   "pygments_lexer": "ipython3",
   "version": "3.7.5"
  }
 },
 "nbformat": 4,
 "nbformat_minor": 4
}
