{
 "cells": [
  {
   "cell_type": "markdown",
   "metadata": {},
   "source": [
    "## Whole Genome Sequenced Mycobacterium bovis analysis for BTBgenie.\n",
    "\n",
    "Note: the current version of the M.bovis genome online has genes missing in the annotation. See https://www.ncbi.nlm.nih.gov/nuccore/LT708304.1?report=graph\n",
    "\n",
    "Updated files can be found here: https://github.com/dmnfarrell/gordon-group/tree/master/mbovis_annotation\n",
    "\n",
    "links:\n",
    "\n",
    "* https://github.com/JosephCrispell/GeneralTools/tree/master/ProcessingPipeline\n",
    "* [Woodchester Park eLife paper](https://elifesciences.org/articles/45833)\n",
    "* http://www.htslib.org/doc/bcftools.html\n",
    "* https://mtbgenomicsworkshop.readthedocs.io/\n",
    "* [BCFtools cheat sheet](https://gist.github.com/elowy01/93922762e131d7abd3c7e8e166a74a0b)\n",
    "* https://pypi.org/project/pyfaidx/\n",
    "* https://biopython.org/wiki/Category:Cookbook"
   ]
  },
  {
   "cell_type": "code",
   "execution_count": 1,
   "metadata": {},
   "outputs": [],
   "source": [
    "import sys,os,shutil,subprocess\n",
    "import glob, time\n",
    "from importlib import reload\n",
    "import numpy as np\n",
    "import pandas as pd\n",
    "import pylab as plt\n",
    "from Bio import SeqIO\n",
    "from Bio.Seq import Seq\n",
    "from Bio.SeqRecord import SeqRecord\n",
    "from gzip import open as gzopen\n",
    "sys.path.append('pathogenie')\n",
    "from pathogenie import tools, aligners, app"
   ]
  },
  {
   "cell_type": "code",
   "execution_count": 6,
   "metadata": {},
   "outputs": [
    {
     "data": {
      "text/plain": [
       "New Zealand       800\n",
       "Mexico            734\n",
       "USA               670\n",
       "uncalculated      572\n",
       "United Kingdom    401\n",
       "France             89\n",
       "Ireland            45\n",
       "Russia             34\n",
       "Nigeria            26\n",
       "Uruguay            23\n",
       "Uganda             19\n",
       "Ethiopia           18\n",
       "Eritrea            14\n",
       "Japan              12\n",
       "Canada             11\n",
       "Panama              9\n",
       "Zambia              8\n",
       "Belgium             8\n",
       "Spain               7\n",
       "India               5\n",
       "Brazil              4\n",
       "Thailand            2\n",
       "Tanzania            2\n",
       "China               2\n",
       "Italy               2\n",
       "South Africa        2\n",
       "Taiwan              2\n",
       "Denmark             1\n",
       "Tunisia             1\n",
       "Name: geo_loc_name_country, dtype: int64"
      ]
     },
     "execution_count": 6,
     "metadata": {},
     "output_type": "execute_result"
    }
   ],
   "source": [
    "sra = pd.read_csv('sra_mbovis_runtable.csv')\n",
    "sra.geo_loc_name_country.value_counts()"
   ]
  },
  {
   "cell_type": "code",
   "execution_count": 2,
   "metadata": {},
   "outputs": [],
   "source": [
    "testfile='albania/3_S57_L001-4_R1_001.fastq.gz'"
   ]
  },
  {
   "cell_type": "markdown",
   "metadata": {},
   "source": [
    "## Blasting to known contaminants\n",
    "\n",
    "* https://bmcbioinformatics.biomedcentral.com/articles/10.1186/s12859-019-2684-x#Sec2"
   ]
  },
  {
   "cell_type": "code",
   "execution_count": 3,
   "metadata": {},
   "outputs": [
    {
     "name": "stdout",
     "output_type": "stream",
     "text": [
      "samtools view -b -f 4 mapped/3_S57_L001.bam > unmapped.bam\n"
     ]
    }
   ],
   "source": [
    "#get unmapped reads from a bam file\n",
    "\n",
    "infile='mapped/3_S57_L001.bam'\n",
    "cmd = 'samtools view -b -f 4 {i} > unmapped.bam'.format(i=infile)\n",
    "print (cmd)\n",
    "#align with bwa to known index of contaminants\n",
    "\n"
   ]
  },
  {
   "cell_type": "markdown",
   "metadata": {},
   "source": [
    "### Examine FASTQ file quality and define trimming parameters"
   ]
  },
  {
   "cell_type": "code",
   "execution_count": 4,
   "metadata": {},
   "outputs": [
    {
     "data": {
      "text/plain": [
       "<matplotlib.axes._subplots.AxesSubplot at 0x7f15d42d8750>"
      ]
     },
     "execution_count": 4,
     "metadata": {},
     "output_type": "execute_result"
    },
    {
     "data": {
      "image/png": "[encoded data removed]",
      "text/plain": [
       "<Figure size 432x288 with 1 Axes>"
      ]
     },
     "metadata": {
      "needs_background": "light"
     },
     "output_type": "display_data"
    }
   ],
   "source": [
    "reload(tools)\n",
    "\n",
    "df = tools.fastq_to_dataframe(testfile)\n",
    "df.length.hist()"
   ]
  },
  {
   "cell_type": "code",
   "execution_count": 431,
   "metadata": {},
   "outputs": [
    {
     "name": "stdout",
     "output_type": "stream",
     "text": [
      "64.20850825309753\n"
     ]
    },
    {
     "data": {
      "text/plain": [
       "<matplotlib.axes._subplots.AxesSubplot at 0x7fdb07a8ae10>"
      ]
     },
     "execution_count": 431,
     "metadata": {},
     "output_type": "execute_result"
    },
    {
     "data": {
      "image/png": "[encoded data removed]",
      "text/plain": [
       "<Figure size 432x288 with 1 Axes>"
      ]
     },
     "metadata": {
      "needs_background": "light"
     },
     "output_type": "display_data"
    }
   ],
   "source": [
    "def trim_reads_default(filename,  outfile, right_quality=30):\n",
    "    \"\"\"Trim adapters\"\"\"\n",
    "        \n",
    "    fastq_parser = SeqIO.parse(gzopen(filename, \"rt\"), \"fastq\")\n",
    "    c=0\n",
    "    out = gzopen(outfile, \"wt\")\n",
    "    for record in fastq_parser:\n",
    "        score = record.letter_annotations[\"phred_quality\"]         \n",
    "        for i in range(len(score)-1,0,-1):\n",
    "            if score[i] >= right_quality:\n",
    "                break\n",
    "        #trimmed.append(record[:i])\n",
    "        #print (record[:i])        \n",
    "        #c+=1\n",
    "        #if c>100:\n",
    "        #    break    \n",
    "        SeqIO.write(record[:i],out,'fastq')\n",
    "    return\n",
    "\n",
    "st=time.time()\n",
    "trim_reads_default(testfile,'trimmed.fastq.gz')\n",
    "print (time.time()-st)\n",
    "df = tools.fastq_to_dataframe('trimmed.fastq.gz')\n",
    "df.length.hist()"
   ]
  },
  {
   "cell_type": "markdown",
   "metadata": {},
   "source": [
    "### multiprocess trimming"
   ]
  },
  {
   "cell_type": "code",
   "execution_count": 439,
   "metadata": {},
   "outputs": [
    {
     "name": "stdout",
     "output_type": "stream",
     "text": [
      "Wrote 465388 records to group_1.fastq\n"
     ]
    },
    {
     "data": {
      "text/plain": [
       "['group_1.fastq']"
      ]
     },
     "execution_count": 439,
     "metadata": {},
     "output_type": "execute_result"
    }
   ],
   "source": [
    "def split_fastq(filename, chunksize=100000):\n",
    "    \n",
    "    names=[]\n",
    "    record_iter = SeqIO.parse(gzopen(filename, \"rt\"), \"fastq\")\n",
    "    for i, batch in enumerate(tools.batch_iterator(record_iter, chunksize)):\n",
    "        tempfile = \"group_%i.fastq\" % (i + 1)\n",
    "        names.append(tempfile)\n",
    "        with open(tempfile, \"w\") as handle:\n",
    "            count = SeqIO.write(batch, handle, \"fastq\")\n",
    "        print(\"Wrote %i records to %s\" % (count, tempfile))\n",
    "    return names\n",
    "\n",
    "split_fastq(testfile)"
   ]
  },
  {
   "cell_type": "code",
   "execution_count": 377,
   "metadata": {},
   "outputs": [
    {
     "data": {
      "image/png": "[encoded data removed]",
      "text/plain": [
       "<Figure size 864x360 with 1 Axes>"
      ]
     },
     "metadata": {
      "needs_background": "light"
     },
     "output_type": "display_data"
    }
   ],
   "source": [
    "def plot_fastq_qualities(filename, ax=None, limit=10000):\n",
    "    \n",
    "    import matplotlib.patches as patches\n",
    "    fastq_parser = SeqIO.parse(gzopen(filename, \"rt\"), \"fastq\")\n",
    "    res=[]\n",
    "    c=0\n",
    "    for record in fastq_parser:\n",
    "        score=record.letter_annotations[\"phred_quality\"]\n",
    "        res.append(score)\n",
    "        c+=1\n",
    "        if c>limit:\n",
    "            break\n",
    "    df = pd.DataFrame(res)\n",
    "    l = len(df.T)+1\n",
    "    \n",
    "    if ax==None:\n",
    "        f,ax=plt.subplots(figsize=(12,5))\n",
    "    rect = patches.Rectangle((0,0),l,20,linewidth=0,facecolor='r',alpha=.4)\n",
    "    ax.add_patch(rect)\n",
    "    rect = patches.Rectangle((0,20),l,8,linewidth=0,facecolor='yellow',alpha=.4)\n",
    "    ax.add_patch(rect)\n",
    "    rect = patches.Rectangle((0,28),l,12,linewidth=0,facecolor='g',alpha=.4)\n",
    "    ax.add_patch(rect)\n",
    "    df.mean().plot(ax=ax,c='black')\n",
    "    boxprops = dict(linestyle='-', linewidth=1, color='black')\n",
    "    df.plot(kind='box', ax=ax, grid=False, showfliers=False,\n",
    "            color=dict(boxes='black',whiskers='black')  )\n",
    "    ax.set_xticks(np.arange(0, l, 5))\n",
    "    ax.set_xticklabels(np.arange(0, l, 5))\n",
    "    ax.set_xlabel('position(bp)')\n",
    "    ax.set_xlim((0,l))\n",
    "    ax.set_ylim((0,40))\n",
    "    ax.set_title('per base sequence quality')    \n",
    "    return \n",
    "\n",
    "plot_fastq_qualities(testfile,limit=100000)\n",
    "plt.savefig('fastq_quals.png',dpi=100)"
   ]
  },
  {
   "cell_type": "code",
   "execution_count": 378,
   "metadata": {},
   "outputs": [
    {
     "data": {
      "image/png": "[encoded data removed]",
      "text/plain": [
       "<Figure size 864x360 with 2 Axes>"
      ]
     },
     "metadata": {
      "needs_background": "light"
     },
     "output_type": "display_data"
    }
   ],
   "source": [
    "def normpdf(x, mean, sd):\n",
    "    import math\n",
    "    var = float(sd)**2\n",
    "    denom = (2*math.pi*var)**.5\n",
    "    num = math.exp(-(float(x)-float(mean))**2/(2*var))\n",
    "    return num/denom\n",
    "\n",
    "def plot_fastq_gc_content(filename, ax=None, limit=50000):\n",
    "\n",
    "    from Bio.SeqUtils import GC\n",
    "    if ax==None:\n",
    "        f,ax=plt.subplots(figsize=(12,5))\n",
    "    df = tools.fastq_to_dataframe(filename, size=limit)\n",
    "    gc = df.seq.apply(lambda x: GC(x))  \n",
    "    gc.hist(ax=ax,bins=150,color='black',grid=False,histtype='step',lw=2)\n",
    "    ax.set_xlim((0,100))    \n",
    "    x=np.arange(1,100,.1)\n",
    "    f = [normpdf(i, gc.mean(), gc.std()) for i in x]    \n",
    "    ax2=ax.twinx()   \n",
    "    ax2.plot(x,f)\n",
    "    ax2.set_ylim(0,max(f))\n",
    "    ax.set_title('GC content',size=15)\n",
    "    return\n",
    "\n",
    "plot_fastq_gc_content(testfile, limit=50000)\n",
    "plt.savefig('gc.png',dpi=100)"
   ]
  },
  {
   "cell_type": "code",
   "execution_count": 254,
   "metadata": {},
   "outputs": [
    {
     "name": "stdout",
     "output_type": "stream",
     "text": [
      "cutadapt -O 5 -q 20 albania/3_S57_L001-4_R1_001.fastq.gz -o trimmed.fastq.gz\n"
     ]
    }
   ],
   "source": [
    "reload(tools)\n",
    "tools.trim_adapters(testfile, 'trimmed.fastq.gz')"
   ]
  },
  {
   "cell_type": "markdown",
   "metadata": {},
   "source": [
    "### Get sample ids from fastq files"
   ]
  },
  {
   "cell_type": "code",
   "execution_count": 5,
   "metadata": {},
   "outputs": [
    {
     "name": "stdout",
     "output_type": "stream",
     "text": [
      "['albania/6_S7_L001-4_R1_001.fastq.gz', 'albania/3_S57_L001-4_R2_001.fastq.gz', 'albania/7_S6_L001-4_R2_001.fastq.gz', 'albania/6_S7_L001-4_R2_001.fastq.gz', 'albania/7_S6_L001-4_R1_001.fastq.gz', 'albania/3_S57_L001-4_R1_001.fastq.gz']\n"
     ]
    },
    {
     "data": {
      "text/html": [
       "<div>\n",
       "<style scoped>\n",
       "    .dataframe tbody tr th:only-of-type {\n",
       "        vertical-align: middle;\n",
       "    }\n",
       "\n",
       "    .dataframe tbody tr th {\n",
       "        vertical-align: top;\n",
       "    }\n",
       "\n",
       "    .dataframe thead th {\n",
       "        text-align: right;\n",
       "    }\n",
       "</style>\n",
       "<table border=\"1\" class=\"dataframe\">\n",
       "  <thead>\n",
       "    <tr style=\"text-align: right;\">\n",
       "      <th></th>\n",
       "      <th>name</th>\n",
       "      <th>sample</th>\n",
       "      <th>filename</th>\n",
       "      <th>pair</th>\n",
       "    </tr>\n",
       "  </thead>\n",
       "  <tbody>\n",
       "    <tr>\n",
       "      <th>0</th>\n",
       "      <td>3_S57_L001-4_R1_001</td>\n",
       "      <td>3_S57_L001</td>\n",
       "      <td>albania/3_S57_L001-4_R1_001.fastq.gz</td>\n",
       "      <td>2</td>\n",
       "    </tr>\n",
       "    <tr>\n",
       "      <th>1</th>\n",
       "      <td>3_S57_L001-4_R2_001</td>\n",
       "      <td>3_S57_L001</td>\n",
       "      <td>albania/3_S57_L001-4_R2_001.fastq.gz</td>\n",
       "      <td>1</td>\n",
       "    </tr>\n",
       "    <tr>\n",
       "      <th>2</th>\n",
       "      <td>6_S7_L001-4_R1_001</td>\n",
       "      <td>6_S7_L001</td>\n",
       "      <td>albania/6_S7_L001-4_R1_001.fastq.gz</td>\n",
       "      <td>1</td>\n",
       "    </tr>\n",
       "    <tr>\n",
       "      <th>3</th>\n",
       "      <td>6_S7_L001-4_R2_001</td>\n",
       "      <td>6_S7_L001</td>\n",
       "      <td>albania/6_S7_L001-4_R2_001.fastq.gz</td>\n",
       "      <td>2</td>\n",
       "    </tr>\n",
       "    <tr>\n",
       "      <th>4</th>\n",
       "      <td>7_S6_L001-4_R1_001</td>\n",
       "      <td>7_S6_L001</td>\n",
       "      <td>albania/7_S6_L001-4_R1_001.fastq.gz</td>\n",
       "      <td>2</td>\n",
       "    </tr>\n",
       "    <tr>\n",
       "      <th>5</th>\n",
       "      <td>7_S6_L001-4_R2_001</td>\n",
       "      <td>7_S6_L001</td>\n",
       "      <td>albania/7_S6_L001-4_R2_001.fastq.gz</td>\n",
       "      <td>1</td>\n",
       "    </tr>\n",
       "  </tbody>\n",
       "</table>\n",
       "</div>"
      ],
      "text/plain": [
       "                  name      sample                              filename  pair\n",
       "0  3_S57_L001-4_R1_001  3_S57_L001  albania/3_S57_L001-4_R1_001.fastq.gz     2\n",
       "1  3_S57_L001-4_R2_001  3_S57_L001  albania/3_S57_L001-4_R2_001.fastq.gz     1\n",
       "2   6_S7_L001-4_R1_001   6_S7_L001   albania/6_S7_L001-4_R1_001.fastq.gz     1\n",
       "3   6_S7_L001-4_R2_001   6_S7_L001   albania/6_S7_L001-4_R2_001.fastq.gz     2\n",
       "4   7_S6_L001-4_R1_001   7_S6_L001   albania/7_S6_L001-4_R1_001.fastq.gz     2\n",
       "5   7_S6_L001-4_R2_001   7_S6_L001   albania/7_S6_L001-4_R2_001.fastq.gz     1"
      ]
     },
     "execution_count": 5,
     "metadata": {},
     "output_type": "execute_result"
    }
   ],
   "source": [
    "path='albania'\n",
    "files = glob.glob(os.path.join(path,'*.fastq.gz'))\n",
    "print (files)\n",
    "from collections import defaultdict\n",
    "\n",
    "def get_sample_names(filenames, sep='-'):\n",
    "    \"\"\"Get sample pairs from list of fastq files.\"\"\"\n",
    "\n",
    "    res = []\n",
    "    cols = ['name','sample','filename']\n",
    "    for filename in filenames:\n",
    "        name = os.path.basename(filename).split('.')[0]\n",
    "        sample = name.split(sep)[0]\n",
    "        #if we can't get sample name try another delimeter?\n",
    "        if name == sample:\n",
    "            sample = name.split('_')[0]\n",
    "        x = [name, sample, filename]\n",
    "        res.append(x)\n",
    "\n",
    "    df = pd.DataFrame(res, columns=cols)    \n",
    "    df['pair'] = df.groupby('sample').cumcount()+1\n",
    "    df = df.sort_values(['name','sample','pair']).reset_index(drop=True)\n",
    "    return df\n",
    "\n",
    "df = get_sample_names(files)\n",
    "df\n",
    "#df.set_index(['sample','pair']).unstack()\n"
   ]
  },
  {
   "cell_type": "markdown",
   "metadata": {},
   "source": [
    "### Align the FASTQ files against reference and create VCF files"
   ]
  },
  {
   "cell_type": "code",
   "execution_count": 54,
   "metadata": {},
   "outputs": [
    {
     "name": "stdout",
     "output_type": "stream",
     "text": [
      "3_S57_L001\n",
      "mapped/3_S57_L001.bam\n",
      "bwa mem -M -t 10 /home/damien/gitprojects/btbgenie/pathogenie/pathogenie/data/Mbovis_AF212297.fa albania/3_S57_L001-4_R1_001.fastq.gz albania/3_S57_L001-4_R2_001.fastq.gz | samtools view -bt - | samtools sort -o mapped/3_S57_L001.bam\n",
      "6_S7_L001\n",
      "mapped/6_S7_L001.bam\n",
      "bwa mem -M -t 10 /home/damien/gitprojects/btbgenie/pathogenie/pathogenie/data/Mbovis_AF212297.fa albania/6_S7_L001-4_R1_001.fastq.gz albania/6_S7_L001-4_R2_001.fastq.gz | samtools view -bt - | samtools sort -o mapped/6_S7_L001.bam\n",
      "7_S6_L001\n",
      "mapped/7_S6_L001.bam\n",
      "bwa mem -M -t 10 /home/damien/gitprojects/btbgenie/pathogenie/pathogenie/data/Mbovis_AF212297.fa albania/7_S6_L001-4_R1_001.fastq.gz albania/7_S6_L001-4_R2_001.fastq.gz | samtools view -bt - | samtools sort -o mapped/7_S6_L001.bam\n",
      "ERR125602\n",
      "mapped/ERR125602.bam\n",
      "bwa mem -M -t 10 /home/damien/gitprojects/btbgenie/pathogenie/pathogenie/data/Mbovis_AF212297.fa albania/ERR125602_1.fastq.gz albania/ERR125602_2.fastq.gz | samtools view -bt - | samtools sort -o mapped/ERR125602.bam\n"
     ]
    },
    {
     "data": {
      "text/html": [
       "<div>\n",
       "<style scoped>\n",
       "    .dataframe tbody tr th:only-of-type {\n",
       "        vertical-align: middle;\n",
       "    }\n",
       "\n",
       "    .dataframe tbody tr th {\n",
       "        vertical-align: top;\n",
       "    }\n",
       "\n",
       "    .dataframe thead th {\n",
       "        text-align: right;\n",
       "    }\n",
       "</style>\n",
       "<table border=\"1\" class=\"dataframe\">\n",
       "  <thead>\n",
       "    <tr style=\"text-align: right;\">\n",
       "      <th></th>\n",
       "      <th>name</th>\n",
       "      <th>sample</th>\n",
       "      <th>filename</th>\n",
       "      <th>pair</th>\n",
       "      <th>bam_file</th>\n",
       "    </tr>\n",
       "  </thead>\n",
       "  <tbody>\n",
       "    <tr>\n",
       "      <th>0</th>\n",
       "      <td>3_S57_L001-4_R1_001</td>\n",
       "      <td>3_S57_L001</td>\n",
       "      <td>albania/3_S57_L001-4_R1_001.fastq.gz</td>\n",
       "      <td>1</td>\n",
       "      <td>mapped/3_S57_L001.bam</td>\n",
       "    </tr>\n",
       "    <tr>\n",
       "      <th>1</th>\n",
       "      <td>3_S57_L001-4_R2_001</td>\n",
       "      <td>3_S57_L001</td>\n",
       "      <td>albania/3_S57_L001-4_R2_001.fastq.gz</td>\n",
       "      <td>2</td>\n",
       "      <td>mapped/3_S57_L001.bam</td>\n",
       "    </tr>\n",
       "    <tr>\n",
       "      <th>2</th>\n",
       "      <td>6_S7_L001-4_R1_001</td>\n",
       "      <td>6_S7_L001</td>\n",
       "      <td>albania/6_S7_L001-4_R1_001.fastq.gz</td>\n",
       "      <td>2</td>\n",
       "      <td>mapped/6_S7_L001.bam</td>\n",
       "    </tr>\n",
       "    <tr>\n",
       "      <th>3</th>\n",
       "      <td>6_S7_L001-4_R2_001</td>\n",
       "      <td>6_S7_L001</td>\n",
       "      <td>albania/6_S7_L001-4_R2_001.fastq.gz</td>\n",
       "      <td>1</td>\n",
       "      <td>mapped/6_S7_L001.bam</td>\n",
       "    </tr>\n",
       "    <tr>\n",
       "      <th>4</th>\n",
       "      <td>7_S6_L001-4_R1_001</td>\n",
       "      <td>7_S6_L001</td>\n",
       "      <td>albania/7_S6_L001-4_R1_001.fastq.gz</td>\n",
       "      <td>2</td>\n",
       "      <td>mapped/7_S6_L001.bam</td>\n",
       "    </tr>\n",
       "    <tr>\n",
       "      <th>5</th>\n",
       "      <td>7_S6_L001-4_R2_001</td>\n",
       "      <td>7_S6_L001</td>\n",
       "      <td>albania/7_S6_L001-4_R2_001.fastq.gz</td>\n",
       "      <td>1</td>\n",
       "      <td>mapped/7_S6_L001.bam</td>\n",
       "    </tr>\n",
       "    <tr>\n",
       "      <th>6</th>\n",
       "      <td>ERR125602_1</td>\n",
       "      <td>ERR125602</td>\n",
       "      <td>albania/ERR125602_1.fastq.gz</td>\n",
       "      <td>1</td>\n",
       "      <td>mapped/ERR125602.bam</td>\n",
       "    </tr>\n",
       "    <tr>\n",
       "      <th>7</th>\n",
       "      <td>ERR125602_2</td>\n",
       "      <td>ERR125602</td>\n",
       "      <td>albania/ERR125602_2.fastq.gz</td>\n",
       "      <td>2</td>\n",
       "      <td>mapped/ERR125602.bam</td>\n",
       "    </tr>\n",
       "  </tbody>\n",
       "</table>\n",
       "</div>"
      ],
      "text/plain": [
       "                  name      sample                              filename  \\\n",
       "0  3_S57_L001-4_R1_001  3_S57_L001  albania/3_S57_L001-4_R1_001.fastq.gz   \n",
       "1  3_S57_L001-4_R2_001  3_S57_L001  albania/3_S57_L001-4_R2_001.fastq.gz   \n",
       "2   6_S7_L001-4_R1_001   6_S7_L001   albania/6_S7_L001-4_R1_001.fastq.gz   \n",
       "3   6_S7_L001-4_R2_001   6_S7_L001   albania/6_S7_L001-4_R2_001.fastq.gz   \n",
       "4   7_S6_L001-4_R1_001   7_S6_L001   albania/7_S6_L001-4_R1_001.fastq.gz   \n",
       "5   7_S6_L001-4_R2_001   7_S6_L001   albania/7_S6_L001-4_R2_001.fastq.gz   \n",
       "6          ERR125602_1   ERR125602          albania/ERR125602_1.fastq.gz   \n",
       "7          ERR125602_2   ERR125602          albania/ERR125602_2.fastq.gz   \n",
       "\n",
       "   pair               bam_file  \n",
       "0     1  mapped/3_S57_L001.bam  \n",
       "1     2  mapped/3_S57_L001.bam  \n",
       "2     2   mapped/6_S7_L001.bam  \n",
       "3     1   mapped/6_S7_L001.bam  \n",
       "4     2   mapped/7_S6_L001.bam  \n",
       "5     1   mapped/7_S6_L001.bam  \n",
       "6     1   mapped/ERR125602.bam  \n",
       "7     2   mapped/ERR125602.bam  "
      ]
     },
     "execution_count": 54,
     "metadata": {},
     "output_type": "execute_result"
    }
   ],
   "source": [
    "reload(aligners)\n",
    "path = 'albania'\n",
    "ref = app.ref_genome\n",
    "\n",
    "samples = get_sample_names(files)\n",
    "def align_reads(samples, idx, outdir='mapped', callback=None, **kwargs):\n",
    "    \"\"\"\n",
    "    Align multiple files. Requires a dataframe with a 'sample' column to indicate\n",
    "    paired files grouping.\n",
    "    \"\"\"\n",
    "\n",
    "    if not os.path.exists(outdir):\n",
    "        os.makedirs(outdir, exist_ok=True)\n",
    "    new = []\n",
    "    for name,df in samples.groupby('sample'):\n",
    "        print (name)\n",
    "        files = list(df.filename)\n",
    "        #print (files)\n",
    "        out = os.path.join(outdir,name+'.bam')\n",
    "        print (out)\n",
    "        aligners.bwa_align(files[0],files[1], idx=idx, out=out, **kwargs)\n",
    "        cmd = 'samtools index {o}'.format(o=out)\n",
    "        subprocess.check_output(cmd,shell=True)\n",
    "        index = df.index\n",
    "        samples.loc[index,'bam_file'] = out        \n",
    "        if callback != None:\n",
    "            callback(out)\n",
    "    return samples\n",
    "\n",
    "align_reads(samples, idx=ref, threads=10, overwrite=True)"
   ]
  },
  {
   "cell_type": "markdown",
   "metadata": {},
   "source": [
    "### remove duplicated reads"
   ]
  },
  {
   "cell_type": "code",
   "execution_count": null,
   "metadata": {},
   "outputs": [],
   "source": [
    "cmd = 'samtools rmdup A_reads.bt2.sorted.bam A_reads.bt2.sorted.noDups.bam'"
   ]
  },
  {
   "cell_type": "markdown",
   "metadata": {},
   "source": [
    "### call all samples at once"
   ]
  },
  {
   "cell_type": "code",
   "execution_count": 57,
   "metadata": {},
   "outputs": [
    {
     "name": "stdout",
     "output_type": "stream",
     "text": [
      "bcftools mpileup -O b -o mapped/raw.bcf -f /home/damien/gitprojects/btbgenie/pathogenie/pathogenie/data/Mbovis_AF212297.fa mapped/ERR125602.bam mapped/7_S6_L001.bam mapped/6_S7_L001.bam mapped/3_S57_L001.bam\n",
      "bcftools call --ploidy 1 -m -v -o mapped/calls.vcf mapped/raw.bcf\n",
      "vcftools --vcf mapped/calls.vcf --minQ 20 --recode --recode-INFO-all --out mapped/filtered\n"
     ]
    },
    {
     "data": {
      "text/plain": [
       "'mapped/filtered.recode.vcf'"
      ]
     },
     "execution_count": 57,
     "metadata": {},
     "output_type": "execute_result"
    }
   ],
   "source": [
    "def variant_calling(bam_files, ref, outpath, sample_file=None, callback=None, **kwargs):\n",
    "    \"\"\"Call variants with bcftools\"\"\"\n",
    "\n",
    "    bam_files = ' '.join(bam_files)\n",
    "    rawbcf = os.path.join(outpath,'raw.bcf')\n",
    "    cmd = 'bcftools mpileup -O b -o {o} -f {r} {b}'.format(r=ref, b=bam_files, o=rawbcf)\n",
    "    print (cmd)\n",
    "    if callback != None:\n",
    "        callback(cmd)      \n",
    "    subprocess.check_output(cmd,shell=True)\n",
    "    #find snps\n",
    "    vcfout = os.path.join(outpath,'calls.vcf')\n",
    "    cmd = 'bcftools call --ploidy 1 -m -v -o {v} {raw}'.format(v=vcfout,raw=rawbcf)\n",
    "    if callback != None:\n",
    "        callback(cmd)\n",
    "    print (cmd)\n",
    "    subprocess.check_output(cmd,shell=True)\n",
    "    #rename samples\n",
    "    if sample_file != None:\n",
    "        cmd = 'bcftools reheader --samples {s} -o {v} {v}'.format(v=vcfout,s=sample_file)\n",
    "        print(cmd)\n",
    "        tmp = subprocess.check_output(cmd,shell=True)\n",
    "    #filter the calls    \n",
    "    final = os.path.join(outpath,'filtered')\n",
    "    cmd = 'vcftools --vcf {i} --minQ 20 --recode --recode-INFO-all --out {o}'.format(i=vcfout,o=final)\n",
    "    print (cmd)\n",
    "    tmp = subprocess.check_output(cmd,shell=True)\n",
    "    if callback != None:\n",
    "        callback(tmp)\n",
    "    return final+'.recode.vcf'\n",
    "\n",
    "def create_bam_labels(filenames):\n",
    "    \n",
    "    names = [os.path.basename(i).split('.')[0] for i in filenames]\n",
    "    #print (names)\n",
    "    with open('samples.txt','w+') as file:\n",
    "        for s in zip(bam_files,names):\n",
    "            file.write('%s %s\\n' %(s[0],s[1]))\n",
    "    return\n",
    "\n",
    "bam_files = glob.glob('mapped/*.bam')\n",
    "create_bam_labels(bam_files)\n",
    "variant_calling(bam_files, ref, 'mapped')#, sample_file='samples.txt')"
   ]
  },
  {
   "cell_type": "code",
   "execution_count": null,
   "metadata": {},
   "outputs": [],
   "source": [
    "cmd = 'bcftools filter --vcf mapped/calls.vcf --minQ 20 --recode --recode-INFO-all'\n",
    "print (cmd)\n",
    "#tmp = subprocess.check_output(cmd,shell=True)"
   ]
  },
  {
   "cell_type": "markdown",
   "metadata": {},
   "source": [
    "### Consequence calling"
   ]
  },
  {
   "cell_type": "code",
   "execution_count": null,
   "metadata": {},
   "outputs": [],
   "source": [
    "cmd = 'bcftools csq -f Mbovis_AF212297.fa -g  Mbovis_csq_format.gff col2_mbovis.vcf -Ot -o col2_mbovis.csq.tsv'"
   ]
  },
  {
   "cell_type": "markdown",
   "metadata": {},
   "source": [
    "### Make fasta alignment from filtered VCF sites with multiple samples\n",
    "\n",
    "https://github.com/JosephCrispell/GeneralTools/blob/master/ProcessingPipeline/CreateFastaWithReferenceFromFiltered_28-06-17.pl\n",
    "\n",
    "\"The allele frequencies at each position in the aligned (against reference) sequence from each isolate were examined. For a haploid organism these frequencies are expected to be either 0 or 1, with some random variation expected from sequencing errors (Sobkowiak et al., 2018). A heterozygous site was defined as one where the allele frequencies were >0.05 and <0.95. Four cattle-derived sequences that had more than 150 heterozygous sites, and allele frequencies that were clustered and non-random (data not shown), were removed. In addition, 26 badger-derived and 16 cattle-derived M. bovis sequences were removed because of suspected errors in the metadata (Appendix 1: Investigating isolate metadata discrepancies).\n",
    "\n",
    "For the sequences from the remaining isolates (204 badger- and 169 cattle-derived isolates), alleles were called at each variant position if they had mapping quality ≥30, high-quality base depth ≥4 (applied to reverse and forward reads separately), read depth ≥30, and allele support ≥0.95. For any site that failed these criteria, if the allele called had been observed in a different isolate that had passed, a second round of filtering was conducted using a high-quality base depth of 5 (total across forward and reverse reads) and the same allele support. As recombination is thought to be extremely rare for mycobacteria (Namouchi et al., 2012), variants in close proximity could indicate a region that is difficult to sequence or under high selection. To avoid calling variants in these regions, variant positions within 10 bp of one another were removed. Following filtering, sequences from 11 badger and 10 cattle isolates that had insufficient coverage (<95%) of the variant positions were removed. Once the alignment was generated, sites with a consistency index less than 1, generally considered homoplasies (Farris, 1989), were removed (n = 4, of 14,991 sites) using HomoplasyFinder (v0.0.0.9; Crispell et al., 2019; RRID: SCR_017300). All the scripts necessary for the processing of the WGS data are freely available online.\""
   ]
  },
  {
   "cell_type": "code",
   "execution_count": 62,
   "metadata": {},
   "outputs": [
    {
     "name": "stdout",
     "output_type": "stream",
     "text": [
      "GTCAGATTACCTCAAGCTGTTACATACCTTTTTCCTGACT\n",
      "mapped/7_S6_L001.bam\n",
      "AGGGCGCCGATCGGGAGCCCGCGTGGGGCCCCGGGCCCGC\n",
      "mapped/6_S7_L001.bam\n",
      "GTCAGATTACCTCAAGCTGTTACATACCTTTTTCCTGACT\n",
      "mapped/3_S57_L001.bam\n",
      "GTCAGATTACCTCAAGCTGTTACATACCTTTTTCCTGACT\n",
      "mapped/ERR125602.bam\n",
      "GTCAGATTACCTCAAGCTGTTACATACCTTTTTCCTGACT\n"
     ]
    }
   ],
   "source": [
    "\n",
    "def fasta_alignment_from_vcf(vcf_file, ref):\n",
    "    \"\"\"Get a fasta alignment for all snp sites in a multi sample\n",
    "    vcf file, including the reference sequence\"\"\"\n",
    "    \n",
    "    from pyfaidx import Fasta\n",
    "    from pyfaidx import FastaVariant\n",
    "    #get samples?\n",
    "    samples = ['3_S57_L001-4','6_S7_L001-4','7_S6_L001-4']    \n",
    "    samples = ['mapped/7_S6_L001.bam','mapped/6_S7_L001.bam','mapped/3_S57_L001.bam','mapped/ERR125602.bam']\n",
    "    result = []\n",
    "    \n",
    "    #reference sequence\n",
    "    reference = Fasta(ref)\n",
    "    chrom = list(reference.keys())[0]\n",
    "\n",
    "    #get the set of all sites first\n",
    "    sites=[]\n",
    "    for sample in samples:\n",
    "        variant = FastaVariant(app.ref_genome, vcf_file, \n",
    "                                 sample=sample, het=True, hom=True)\n",
    "        pos = list(variant[chrom].variant_sites)\n",
    "        sites.extend(pos)\n",
    "        #print (sample)\n",
    "        #print (pos[:20])\n",
    "    sites = sorted(set(sites))\n",
    "    n=40\n",
    "    sites=sites[:n]\n",
    "    #print (sites)\n",
    "\n",
    "    #get reference sequence for site positions\n",
    "    refseq=[]\n",
    "    for p in sites:\n",
    "        refseq.append(reference[chrom][p-1].seq)\n",
    "    refseq = ''.join(refseq)\n",
    "    print (refseq)\n",
    "    refrec = SeqRecord(Seq(refseq),id='ref')\n",
    "    result.append(refrec) \n",
    "\n",
    "    #iterate over variants in each sample\n",
    "    for sample in samples:\n",
    "        print (sample)\n",
    "        seq=[]\n",
    "        variant = FastaVariant(app.ref_genome, vcf_file, \n",
    "                                 sample=sample, het=True, hom=True)     \n",
    "        #for p in variant[chrom].variant_sites:\n",
    "        for p in sites:        \n",
    "            rec = variant[chrom][p-1:p]\n",
    "            #print (p,rec)\n",
    "            seq.append(rec.seq)\n",
    "        seq = ''.join(seq)\n",
    "        print (seq)\n",
    "        seqrec = SeqRecord(Seq(seq),id=sample)\n",
    "        result.append(seqrec)\n",
    "\n",
    "    SeqIO.write(result, 'variants.fa', 'fasta')\n",
    "    \n",
    "fasta_alignment_from_vcf('mapped/calls.vcf.gz', app.ref_genome)"
   ]
  },
  {
   "cell_type": "code",
   "execution_count": null,
   "metadata": {},
   "outputs": [],
   "source": [
    "def vcf_to_dataframe(vcf_file, quality=30):\n",
    "\n",
    "    import vcf\n",
    "    vcf_reader = vcf.Reader(open(vcf_file,'r'))\n",
    "    #print (vcf_reader.filters)\n",
    "    res=[]\n",
    "    cols = ['chrom','var_type','sub_type','start','end','REF','ALT','QUAL','DP']\n",
    "    for rec in vcf_reader:\n",
    "        x = [rec.CHROM, rec.var_type, rec.var_subtype, rec.start, rec.end, rec.REF, str(rec.ALT[0]),\n",
    "            rec.QUAL, rec.INFO['DP']]\n",
    "        #print (rec.__dict__)\n",
    "        #print (rec.INFO.keys())\n",
    "        for call in rec.samples:\n",
    "            print (call.sample, call.data, rec.genotype(call.sample))            \n",
    "            \n",
    "        res.append(x)\n",
    "        #print (x)\n",
    "    \n",
    "    res = pd.DataFrame(res,columns=cols)\n",
    "    print (res[:20])\n",
    "    #print (res.groupby(['var_type','sub_type']).size())\n",
    "    return res\n",
    "\n",
    "vcf_to_dataframe('mapped/filtered.recode.vcf')"
   ]
  },
  {
   "cell_type": "markdown",
   "metadata": {},
   "source": [
    "### Merge the VCF files together ??"
   ]
  },
  {
   "cell_type": "code",
   "execution_count": null,
   "metadata": {},
   "outputs": [],
   "source": [
    "def merge_vcf():\n",
    "    return"
   ]
  },
  {
   "cell_type": "markdown",
   "metadata": {},
   "source": [
    "### Rescuing site information for poorer quality isolates"
   ]
  },
  {
   "cell_type": "code",
   "execution_count": 96,
   "metadata": {},
   "outputs": [
    {
     "name": "stdout",
     "output_type": "stream",
     "text": [
      "2121\n"
     ]
    }
   ],
   "source": []
  },
  {
   "cell_type": "markdown",
   "metadata": {},
   "source": [
    "### Phylogeny from MSA"
   ]
  },
  {
   "cell_type": "code",
   "execution_count": 110,
   "metadata": {},
   "outputs": [
    {
     "name": "stdout",
     "output_type": "stream",
     "text": [
      "raxmlHPC -m PROTCATWAG -n interlaced2 -p 10000 -s Tests/Phylip/interlaced2.phy\n"
     ]
    }
   ],
   "source": [
    "from Bio.Phylo.Applications import RaxmlCommandline\n",
    "raxml_cline = RaxmlCommandline(sequences=\"Tests/Phylip/interlaced2.phy\",\n",
    "                                model=\"PROTCATWAG\", name=\"interlaced2\")\n",
    "print(raxml_cline)"
   ]
  },
  {
   "cell_type": "code",
   "execution_count": null,
   "metadata": {},
   "outputs": [],
   "source": []
  }
 ],
 "metadata": {
  "kernelspec": {
   "display_name": "Python 3",
   "language": "python",
   "name": "python3"
  },
  "language_info": {
   "codemirror_mode": {
    "name": "ipython",
    "version": 3
   },
   "file_extension": ".py",
   "mimetype": "text/x-python",
   "name": "python",
   "nbconvert_exporter": "python",
   "pygments_lexer": "ipython3",
   "version": "3.7.5"
  }
 },
 "nbformat": 4,
 "nbformat_minor": 4
}
