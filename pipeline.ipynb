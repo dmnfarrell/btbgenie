{
 "cells": [
  {
   "cell_type": "markdown",
   "metadata": {},
   "source": [
    "## Whole Genome Sequenced Mycobacterium bovis analysis for BTBgenie.\n",
    "\n",
    "Note: the current version of the M.bovis genome online has genes missing in the annotation. See https://www.ncbi.nlm.nih.gov/nuccore/LT708304.1?report=graph\n",
    "\n",
    "Updated files can be found here: https://github.com/dmnfarrell/gordon-group/tree/master/mbovis_annotation\n",
    "\n",
    "links:\n",
    "\n",
    "* https://github.com/JosephCrispell/GeneralTools/tree/master/ProcessingPipeline\n",
    "* [Woodchester Park eLife paper](https://elifesciences.org/articles/45833)\n",
    "* http://www.htslib.org/doc/bcftools.html\n",
    "* https://mtbgenomicsworkshop.readthedocs.io/\n",
    "* [BCFtools cheat sheet](https://gist.github.com/elowy01/93922762e131d7abd3c7e8e166a74a0b)\n",
    "* https://pypi.org/project/pyfaidx/\n",
    "* https://biopython.org/wiki/Category:Cookbook\n",
    "* https://pyvcf.readthedocs.io/en/v0.4.6/INTRO.html"
   ]
  },
  {
   "cell_type": "code",
   "execution_count": 1,
   "metadata": {},
   "outputs": [],
   "source": [
    "import sys,os,shutil,subprocess\n",
    "import random\n",
    "import glob, time\n",
    "from importlib import reload\n",
    "import numpy as np\n",
    "import pandas as pd\n",
    "pd.set_option('display.width', 200)\n",
    "import pylab as plt\n",
    "from Bio import SeqIO\n",
    "from Bio.Seq import Seq\n",
    "from Bio.SeqRecord import SeqRecord\n",
    "from gzip import open as gzopen\n",
    "sys.path.append('pathogenie')\n",
    "from pathogenie import tools, aligners, app, trees"
   ]
  },
  {
   "cell_type": "markdown",
   "metadata": {},
   "source": [
    "## test set of Mbovis samples"
   ]
  },
  {
   "cell_type": "code",
   "execution_count": 2,
   "metadata": {},
   "outputs": [
    {
     "name": "stdout",
     "output_type": "stream",
     "text": [
      "              Run geo_loc_name_country DATASTORE filetype LibraryLayout Host           ReleaseDate        Bytes\n",
      "4405  SRR10482932              Ireland          fastq,sra        PAIRED  COW  2019-12-11T00:00:00Z  252763749.0\n",
      "4406  SRR10482933              Ireland          fastq,sra        PAIRED  COW  2019-12-11T00:00:00Z  226451145.0\n",
      "4407  SRR10482934              Ireland          fastq,sra        PAIRED  COW  2019-12-11T00:00:00Z  200402392.0\n",
      "4408  SRR10482935              Ireland          fastq,sra        PAIRED  COW  2019-12-11T00:00:00Z  158908297.0\n",
      "4409  SRR10482936              Ireland          fastq,sra        PAIRED  COW  2019-12-11T00:00:00Z  253008968.0\n",
      "4413  SRR10482941              Ireland          fastq,sra        PAIRED  COW  2019-12-11T00:00:00Z  241530862.0\n",
      "4415  SRR10482943              Ireland          fastq,sra        PAIRED  COW  2019-12-11T00:00:00Z  251394652.0\n",
      "4417  SRR10482945              Ireland          fastq,sra        PAIRED  COW  2019-12-11T00:00:00Z  246877472.0\n",
      "4419  SRR10482947              Ireland          fastq,sra        PAIRED  COW  2019-12-11T00:00:00Z  175508859.0\n",
      "4420  SRR10482948              Ireland          fastq,sra        PAIRED  COW  2019-12-11T00:00:00Z  199777765.0\n",
      "4421  SRR10482949              Ireland          fastq,sra        PAIRED  COW  2019-12-11T00:00:00Z  248840635.0\n",
      "4422  SRR10482950              Ireland          fastq,sra        PAIRED  COW  2019-12-11T00:00:00Z  238742706.0\n",
      "4423  SRR10482951              Ireland          fastq,sra        PAIRED  COW  2019-12-11T00:00:00Z  251003681.0\n",
      "4426  SRR10482954              Ireland          fastq,sra        PAIRED  COW  2019-12-11T00:00:00Z  241178566.0\n",
      "4427  SRR10482956              Ireland          fastq,sra        PAIRED  COW  2019-12-11T00:00:00Z  302915754.0\n",
      "4428  SRR10482957              Ireland          fastq,sra        PAIRED  COW  2019-12-11T00:00:00Z  233815949.0\n",
      "4429  SRR10482958              Ireland          fastq,sra        PAIRED  COW  2019-12-11T00:00:00Z  257232444.0\n",
      "4430  SRR10482959              Ireland          fastq,sra        PAIRED  COW  2019-12-11T00:00:00Z  297262009.0\n",
      "4431  SRR10482960              Ireland          fastq,sra        PAIRED  COW  2019-12-11T00:00:00Z  206288459.0\n",
      "4433  SRR10482962              Ireland          fastq,sra        PAIRED  COW  2019-12-11T00:00:00Z  207846050.0\n",
      "4437  SRR10482967              Ireland          fastq,sra        PAIRED  COW  2019-12-11T00:00:00Z  212329474.0\n",
      "4439  SRR10482970              Ireland          fastq,sra        PAIRED  COW  2019-12-11T00:00:00Z  281246736.0\n",
      "4440  SRR10482971              Ireland          fastq,sra        PAIRED  COW  2019-12-11T00:00:00Z  266850965.0\n",
      "4442  SRR10482973              Ireland          fastq,sra        PAIRED  COW  2019-12-11T00:00:00Z  250476739.0\n",
      "4443  SRR10482975              Ireland          fastq,sra        PAIRED  COW  2019-12-11T00:00:00Z  552478616.0\n",
      "4444  SRR10482976              Ireland          fastq,sra        PAIRED  COW  2019-12-11T00:00:00Z  206848843.0\n",
      "4989  SRR10482968              Ireland          fastq,sra        PAIRED  COW  2019-12-11T00:00:00Z  227204324.0\n",
      "5296  SRR10482963              Ireland          fastq,sra        PAIRED  COW  2019-12-11T00:00:00Z  223343894.0\n"
     ]
    }
   ],
   "source": [
    "sra = pd.read_csv('sra_mbovis_runtable.csv')\n",
    "#sra.geo_loc_name_country.value_counts()\n",
    "sub=sra[(sra.geo_loc_name_country=='Ireland') & (sra.Host=='COW') ]\n",
    "cols = ['Run','geo_loc_name_country','DATASTORE filetype','LibraryLayout','Host','ReleaseDate','Bytes']\n",
    "print (sub[cols])\n"
   ]
  },
  {
   "cell_type": "code",
   "execution_count": null,
   "metadata": {},
   "outputs": [],
   "source": [
    "# fetch from SRA\n",
    "def fetch_sra_reads(df):\n",
    "    #download a subset of reads\n",
    "    path = '/storage/btbgenie/mbovis_sra'\n",
    "    for i,r in df.iterrows():        \n",
    "        files = glob.glob(os.path.join(path,r.Run+'*'))        \n",
    "        if len(files)==0:\n",
    "            cmd = 'fastq-dump --split-3 {n} --outdir {o}'.format(n=r.Run,o=path)\n",
    "            print (cmd)\n",
    "            subprocess.check_output(cmd,shell=True)\n",
    "        \n",
    "fetch_sra_reads(sub[8:9])"
   ]
  },
  {
   "cell_type": "markdown",
   "metadata": {},
   "source": [
    "## Blasting to known contaminants\n",
    "\n",
    "* https://bmcbioinformatics.biomedcentral.com/articles/10.1186/s12859-019-2684-x#Sec2"
   ]
  },
  {
   "cell_type": "code",
   "execution_count": 3,
   "metadata": {},
   "outputs": [
    {
     "name": "stdout",
     "output_type": "stream",
     "text": [
      "samtools view -b -f 4 mapped/3_S57_L001.bam > unmapped.bam\n"
     ]
    }
   ],
   "source": [
    "#get unmapped reads from a bam file\n",
    "\n",
    "infile='mapped/3_S57_L001.bam'\n",
    "cmd = 'samtools view -b -f 4 {i} > unmapped.bam'.format(i=infile)\n",
    "print (cmd)\n",
    "#align with bwa to known index of contaminants\n"
   ]
  },
  {
   "cell_type": "markdown",
   "metadata": {},
   "source": [
    "### Examine FASTQ file quality and define trimming parameters"
   ]
  },
  {
   "cell_type": "code",
   "execution_count": 4,
   "metadata": {},
   "outputs": [
    {
     "data": {
      "text/plain": [
       "<matplotlib.axes._subplots.AxesSubplot at 0x7f15d42d8750>"
      ]
     },
     "execution_count": 4,
     "metadata": {},
     "output_type": "execute_result"
    },
    {
     "data": {
      "image/png": "[encoded data removed]",
      "text/plain": [
       "<Figure size 432x288 with 1 Axes>"
      ]
     },
     "metadata": {
      "needs_background": "light"
     },
     "output_type": "display_data"
    }
   ],
   "source": [
    "reload(tools)\n",
    "\n",
    "df = tools.fastq_to_dataframe(testfile)\n",
    "df.length.hist()"
   ]
  },
  {
   "cell_type": "code",
   "execution_count": 431,
   "metadata": {},
   "outputs": [
    {
     "name": "stdout",
     "output_type": "stream",
     "text": [
      "64.20850825309753\n"
     ]
    },
    {
     "data": {
      "text/plain": [
       "<matplotlib.axes._subplots.AxesSubplot at 0x7fdb07a8ae10>"
      ]
     },
     "execution_count": 431,
     "metadata": {},
     "output_type": "execute_result"
    },
    {
     "data": {
      "image/png": "[encoded data removed]",
      "text/plain": [
       "<Figure size 432x288 with 1 Axes>"
      ]
     },
     "metadata": {
      "needs_background": "light"
     },
     "output_type": "display_data"
    }
   ],
   "source": [
    "def trim_reads_default(filename,  outfile, right_quality=30):\n",
    "    \"\"\"Trim adapters\"\"\"\n",
    "        \n",
    "    fastq_parser = SeqIO.parse(gzopen(filename, \"rt\"), \"fastq\")\n",
    "    c=0\n",
    "    out = gzopen(outfile, \"wt\")\n",
    "    for record in fastq_parser:\n",
    "        score = record.letter_annotations[\"phred_quality\"]         \n",
    "        for i in range(len(score)-1,0,-1):\n",
    "            if score[i] >= right_quality:\n",
    "                break\n",
    "        #trimmed.append(record[:i])\n",
    "        #print (record[:i])        \n",
    "        #c+=1\n",
    "        #if c>100:\n",
    "        #    break    \n",
    "        SeqIO.write(record[:i],out,'fastq')\n",
    "    return\n",
    "\n",
    "st=time.time()\n",
    "trim_reads_default(testfile,'trimmed.fastq.gz')\n",
    "print (time.time()-st)\n",
    "df = tools.fastq_to_dataframe('trimmed.fastq.gz')\n",
    "df.length.hist()"
   ]
  },
  {
   "cell_type": "markdown",
   "metadata": {},
   "source": [
    "### multiprocess trimming"
   ]
  },
  {
   "cell_type": "code",
   "execution_count": 439,
   "metadata": {},
   "outputs": [
    {
     "name": "stdout",
     "output_type": "stream",
     "text": [
      "Wrote 465388 records to group_1.fastq\n"
     ]
    },
    {
     "data": {
      "text/plain": [
       "['group_1.fastq']"
      ]
     },
     "execution_count": 439,
     "metadata": {},
     "output_type": "execute_result"
    }
   ],
   "source": [
    "def split_fastq(filename, chunksize=100000):\n",
    "    \n",
    "    names=[]\n",
    "    record_iter = SeqIO.parse(gzopen(filename, \"rt\"), \"fastq\")\n",
    "    for i, batch in enumerate(tools.batch_iterator(record_iter, chunksize)):\n",
    "        tempfile = \"group_%i.fastq\" % (i + 1)\n",
    "        names.append(tempfile)\n",
    "        with open(tempfile, \"w\") as handle:\n",
    "            count = SeqIO.write(batch, handle, \"fastq\")\n",
    "        print(\"Wrote %i records to %s\" % (count, tempfile))\n",
    "    return names\n",
    "\n",
    "split_fastq(testfile)"
   ]
  },
  {
   "cell_type": "code",
   "execution_count": null,
   "metadata": {},
   "outputs": [],
   "source": [
    "tools.plot_fastq_qualities(testfile,limit=100000)\n",
    "plt.savefig('fastq_quals.png',dpi=100)\n",
    "tools.plot_fastq_gc_content(testfile, limit=50000)\n",
    "plt.savefig('gc.png',dpi=100)"
   ]
  },
  {
   "cell_type": "code",
   "execution_count": 254,
   "metadata": {},
   "outputs": [
    {
     "name": "stdout",
     "output_type": "stream",
     "text": [
      "cutadapt -O 5 -q 20 albania/3_S57_L001-4_R1_001.fastq.gz -o trimmed.fastq.gz\n"
     ]
    }
   ],
   "source": [
    "reload(tools)\n",
    "tools.trim_adapters(testfile, 'trimmed.fastq.gz')"
   ]
  },
  {
   "cell_type": "markdown",
   "metadata": {},
   "source": [
    "### Get sample ids from fastq files"
   ]
  },
  {
   "cell_type": "code",
   "execution_count": 3,
   "metadata": {},
   "outputs": [
    {
     "data": {
      "text/html": [
       "<div>\n",
       "<style scoped>\n",
       "    .dataframe tbody tr th:only-of-type {\n",
       "        vertical-align: middle;\n",
       "    }\n",
       "\n",
       "    .dataframe tbody tr th {\n",
       "        vertical-align: top;\n",
       "    }\n",
       "\n",
       "    .dataframe thead th {\n",
       "        text-align: right;\n",
       "    }\n",
       "</style>\n",
       "<table border=\"1\" class=\"dataframe\">\n",
       "  <thead>\n",
       "    <tr style=\"text-align: right;\">\n",
       "      <th></th>\n",
       "      <th>name</th>\n",
       "      <th>sample</th>\n",
       "      <th>filename</th>\n",
       "      <th>pair</th>\n",
       "    </tr>\n",
       "  </thead>\n",
       "  <tbody>\n",
       "    <tr>\n",
       "      <th>0</th>\n",
       "      <td>3_S57_L001-4_R1_001</td>\n",
       "      <td>3_S57_L001</td>\n",
       "      <td>albania/3_S57_L001-4_R1_001.fastq.gz</td>\n",
       "      <td>1</td>\n",
       "    </tr>\n",
       "    <tr>\n",
       "      <th>1</th>\n",
       "      <td>3_S57_L001-4_R2_001</td>\n",
       "      <td>3_S57_L001</td>\n",
       "      <td>albania/3_S57_L001-4_R2_001.fastq.gz</td>\n",
       "      <td>2</td>\n",
       "    </tr>\n",
       "    <tr>\n",
       "      <th>2</th>\n",
       "      <td>6_S7_L001-4_R1_001</td>\n",
       "      <td>6_S7_L001</td>\n",
       "      <td>albania/6_S7_L001-4_R1_001.fastq.gz</td>\n",
       "      <td>1</td>\n",
       "    </tr>\n",
       "    <tr>\n",
       "      <th>3</th>\n",
       "      <td>6_S7_L001-4_R2_001</td>\n",
       "      <td>6_S7_L001</td>\n",
       "      <td>albania/6_S7_L001-4_R2_001.fastq.gz</td>\n",
       "      <td>2</td>\n",
       "    </tr>\n",
       "    <tr>\n",
       "      <th>4</th>\n",
       "      <td>SRR1791711_1</td>\n",
       "      <td>SRR1791711</td>\n",
       "      <td>mbovis_sra/SRR1791711_1.fastq.gz</td>\n",
       "      <td>1</td>\n",
       "    </tr>\n",
       "    <tr>\n",
       "      <th>5</th>\n",
       "      <td>SRR1791711_2</td>\n",
       "      <td>SRR1791711</td>\n",
       "      <td>mbovis_sra/SRR1791711_2.fastq.gz</td>\n",
       "      <td>2</td>\n",
       "    </tr>\n",
       "    <tr>\n",
       "      <th>6</th>\n",
       "      <td>SRR5486071_1</td>\n",
       "      <td>SRR5486071</td>\n",
       "      <td>mbovis_sra/SRR5486071_1.fastq.gz</td>\n",
       "      <td>1</td>\n",
       "    </tr>\n",
       "    <tr>\n",
       "      <th>7</th>\n",
       "      <td>SRR5486071_2</td>\n",
       "      <td>SRR5486071</td>\n",
       "      <td>mbovis_sra/SRR5486071_2.fastq.gz</td>\n",
       "      <td>2</td>\n",
       "    </tr>\n",
       "    <tr>\n",
       "      <th>8</th>\n",
       "      <td>SRR8063654_1</td>\n",
       "      <td>SRR8063654</td>\n",
       "      <td>mbovis_sra/SRR8063654_1.fastq.gz</td>\n",
       "      <td>1</td>\n",
       "    </tr>\n",
       "    <tr>\n",
       "      <th>9</th>\n",
       "      <td>SRR8063654_2</td>\n",
       "      <td>SRR8063654</td>\n",
       "      <td>mbovis_sra/SRR8063654_2.fastq.gz</td>\n",
       "      <td>2</td>\n",
       "    </tr>\n",
       "    <tr>\n",
       "      <th>10</th>\n",
       "      <td>SRR8063665_1</td>\n",
       "      <td>SRR8063665</td>\n",
       "      <td>mbovis_sra/SRR8063665_1.fastq.gz</td>\n",
       "      <td>1</td>\n",
       "    </tr>\n",
       "    <tr>\n",
       "      <th>11</th>\n",
       "      <td>SRR8063665_2</td>\n",
       "      <td>SRR8063665</td>\n",
       "      <td>mbovis_sra/SRR8063665_2.fastq.gz</td>\n",
       "      <td>2</td>\n",
       "    </tr>\n",
       "  </tbody>\n",
       "</table>\n",
       "</div>"
      ],
      "text/plain": [
       "                   name      sample                              filename  pair\n",
       "0   3_S57_L001-4_R1_001  3_S57_L001  albania/3_S57_L001-4_R1_001.fastq.gz     1\n",
       "1   3_S57_L001-4_R2_001  3_S57_L001  albania/3_S57_L001-4_R2_001.fastq.gz     2\n",
       "2    6_S7_L001-4_R1_001   6_S7_L001   albania/6_S7_L001-4_R1_001.fastq.gz     1\n",
       "3    6_S7_L001-4_R2_001   6_S7_L001   albania/6_S7_L001-4_R2_001.fastq.gz     2\n",
       "4          SRR1791711_1  SRR1791711      mbovis_sra/SRR1791711_1.fastq.gz     1\n",
       "5          SRR1791711_2  SRR1791711      mbovis_sra/SRR1791711_2.fastq.gz     2\n",
       "6          SRR5486071_1  SRR5486071      mbovis_sra/SRR5486071_1.fastq.gz     1\n",
       "7          SRR5486071_2  SRR5486071      mbovis_sra/SRR5486071_2.fastq.gz     2\n",
       "8          SRR8063654_1  SRR8063654      mbovis_sra/SRR8063654_1.fastq.gz     1\n",
       "9          SRR8063654_2  SRR8063654      mbovis_sra/SRR8063654_2.fastq.gz     2\n",
       "10         SRR8063665_1  SRR8063665      mbovis_sra/SRR8063665_1.fastq.gz     1\n",
       "11         SRR8063665_2  SRR8063665      mbovis_sra/SRR8063665_2.fastq.gz     2"
      ]
     },
     "execution_count": 3,
     "metadata": {},
     "output_type": "execute_result"
    }
   ],
   "source": [
    "path1='albania'\n",
    "files = glob.glob(os.path.join(path1,'*.fastq.gz'))\n",
    "#path2='/storage/btbgenie/mbovis_sra'\n",
    "path2='mbovis_sra'\n",
    "files = glob.glob(os.path.join(path2,'*.fastq.gz'))\n",
    "\n",
    "def get_files_from_paths(paths):\n",
    "    \"\"\"Get files in multiple paths\"\"\"\n",
    "    \n",
    "    files=[]\n",
    "    for path in paths:\n",
    "        s = glob.glob(os.path.join(path,'*.fastq.gz'))\n",
    "        files.extend(s)\n",
    "    return files\n",
    "\n",
    "files = get_files_from_paths([path1,path2])\n",
    "       \n",
    "from collections import defaultdict\n",
    "\n",
    "def get_sample_names(filenames, sep='-'):\n",
    "    \"\"\"Get sample pairs from list of fastq files.\"\"\"\n",
    "\n",
    "    res = []\n",
    "    cols = ['name','sample','filename']\n",
    "    for filename in filenames:\n",
    "        name = os.path.basename(filename).split('.')[0]\n",
    "        sample = name.split(sep)[0]\n",
    "        #if we can't get sample name try another delimeter?\n",
    "        if name == sample:\n",
    "            sample = name.split('_')[0]\n",
    "        x = [name, sample, filename]\n",
    "        res.append(x)\n",
    "\n",
    "    df = pd.DataFrame(res, columns=cols)\n",
    "    df = df.sort_values(['name','sample']).reset_index(drop=True)\n",
    "    df['pair'] = df.groupby('sample').cumcount()+1\n",
    "    #df = df.sort_values(['name','sample','pair']).reset_index(drop=True)\n",
    "    return df\n",
    "\n",
    "df = get_sample_names(files)\n",
    "df\n",
    "#df.set_index(['sample','pair']).unstack()\n"
   ]
  },
  {
   "cell_type": "code",
   "execution_count": 56,
   "metadata": {},
   "outputs": [],
   "source": [
    "#tab file for multi snippy\n",
    "x = df.reset_index().pivot(columns='pair', index='sample', values='filename')\n",
    "x.to_csv('samples.tab',sep='\\t')"
   ]
  },
  {
   "cell_type": "markdown",
   "metadata": {},
   "source": [
    "### Align the FASTQ files against reference and create VCF files"
   ]
  },
  {
   "cell_type": "code",
   "execution_count": null,
   "metadata": {},
   "outputs": [],
   "source": [
    "reload(aligners)\n",
    "ref = app.ref_genome\n",
    "samples = get_sample_names(files)\n",
    "\n",
    "app.align_reads(samples, idx=ref, threads=10, overwrite=False)"
   ]
  },
  {
   "cell_type": "code",
   "execution_count": 16,
   "metadata": {},
   "outputs": [],
   "source": [
    "def get_samples():\n",
    "    import vcf\n",
    "    vcf_reader = vcf.Reader(open('mapped/calls.vcf.gz', 'rb'))\n",
    "    vcf_reader.samples"
   ]
  },
  {
   "cell_type": "markdown",
   "metadata": {},
   "source": [
    "### remove duplicated reads"
   ]
  },
  {
   "cell_type": "code",
   "execution_count": null,
   "metadata": {},
   "outputs": [],
   "source": [
    "cmd = 'samtools rmdup A_reads.bt2.sorted.bam A_reads.bt2.sorted.noDups.bam'"
   ]
  },
  {
   "cell_type": "markdown",
   "metadata": {},
   "source": [
    "### parallel mpileup"
   ]
  },
  {
   "cell_type": "code",
   "execution_count": 10,
   "metadata": {},
   "outputs": [
    {
     "name": "stdout",
     "output_type": "stream",
     "text": [
      "1 483322\n",
      "483323 966645\n",
      "966646 1449967\n",
      "1449968 1933290\n",
      "1933291 2416612\n",
      "2416613 2899935\n",
      "2899936 3383257\n",
      "3383258 3866580\n",
      "3866581 4349903\n",
      "took 93.419 seconds\n",
      "bcftools concat tmp/1.bcf tmp/483323.bcf tmp/966646.bcf tmp/1449968.bcf tmp/1933291.bcf tmp/2416613.bcf tmp/2899936.bcf tmp/3383258.bcf tmp/3866581.bcf -O b -o mapped/raw.bcf\n"
     ]
    },
    {
     "data": {
      "text/plain": [
       "'mapped/raw.bcf'"
      ]
     },
     "execution_count": 10,
     "metadata": {},
     "output_type": "execute_result"
    }
   ],
   "source": [
    "reload(tools)\n",
    "def worker(region,out,bam_files):\n",
    "    \"\"\"Run bcftools for single region.\"\"\"\n",
    "    \n",
    "    cmd = 'bcftools mpileup -r {reg} -O b -o {o} -f {r} {b}'.format(r=ref, reg=region, b=bam_files, o=out)    \n",
    "    #print (cmd)    \n",
    "    subprocess.check_output(cmd, shell=True)\n",
    "    cmd = 'bcftools index {o}'.format(o=out)\n",
    "    subprocess.check_output(cmd, shell=True)\n",
    "    return \n",
    "    \n",
    "def mpileup_parallel(bam_files, ref, outpath, threads=4, callback=None):\n",
    "    \"\"\"Run mpileup in parallel over multiple regions, then concat vcf files.\n",
    "    Assumes alignment to a bacterial reference with a single chromosome.\"\"\"\n",
    "    \n",
    "    import multiprocessing as mp\n",
    "    bam_files = ' '.join(bam_files)\n",
    "    ref = app.ref_genome\n",
    "    rawbcf = os.path.join(outpath,'raw.bcf')\n",
    "    tmpdir = 'tmp'\n",
    "    chr = 'NC_002945.4'    \n",
    "    length = tools.get_fasta_length(ref)\n",
    "    #print (length)\n",
    "    #find regions\n",
    "    bsize = int(length/(threads-1))\n",
    "    x = np.linspace(1,length,threads,dtype=int)\n",
    "    blocks=[]\n",
    "    for i in range(len(x)):\n",
    "        if i < len(x)-1:\n",
    "            blocks.append((x[i],x[i+1]-1))\n",
    "    #print (blocks, bsize)\n",
    "\n",
    "    pool = mp.Pool(threads)\n",
    "    res = []\n",
    "    outfiles = []\n",
    "    st = time.time()\n",
    "\n",
    "    for start,end in blocks:        \n",
    "        #end = start+bsize\n",
    "        print (start, end)\n",
    "        region = '{c}:{s}-{e}'.format(c=chr,s=start,e=end)\n",
    "        out = '{o}/{s}.bcf'.format(o=tmpdir,s=start)\n",
    "        f = pool.apply_async(worker, [region,out,bam_files])\n",
    "        res.append(f)\n",
    "        outfiles.append(out)\n",
    "\n",
    "    pool.close()\n",
    "    pool.join()\n",
    "    t=time.time()-st\n",
    "    print ('took %s seconds' %str(round(t,3)))\n",
    "\n",
    "    #concat files\n",
    "    cmd = 'bcftools concat {i} -O b -o {o}'.format(i=' '.join(outfiles),o=rawbcf)\n",
    "    print (cmd)\n",
    "    subprocess.check_output(cmd, shell=True)\n",
    "    #remove temp files\n",
    "    for f in outfiles:\n",
    "        os.remove(f)\n",
    "    return rawbcf\n",
    "\n",
    "ref = app.ref_genome\n",
    "bam_files = glob.glob('mapped/*.bam')\n",
    "mpileup_parallel(bam_files, ref, 'mapped', threads=10)"
   ]
  },
  {
   "cell_type": "markdown",
   "metadata": {},
   "source": [
    "### call all samples at once"
   ]
  },
  {
   "cell_type": "code",
   "execution_count": 11,
   "metadata": {},
   "outputs": [
    {
     "name": "stdout",
     "output_type": "stream",
     "text": [
      "1 483322\n",
      "483323 966645\n",
      "966646 1449967\n",
      "1449968 1933290\n",
      "1933291 2416612\n",
      "2416613 2899935\n",
      "2899936 3383257\n",
      "3383258 3866580\n",
      "3866581 4349903\n",
      "took 84.868 seconds\n",
      "bcftools concat tmp/1.bcf tmp/483323.bcf tmp/966646.bcf tmp/1449968.bcf tmp/1933291.bcf tmp/2416613.bcf tmp/2899936.bcf tmp/3383258.bcf tmp/3866581.bcf -O b -o mapped/raw.bcf\n",
      "bcftools call --ploidy 1 -m -v -o mapped/calls.vcf mapped/raw.bcf\n",
      "bcftools filter -e \"QUAL<40\" -o mapped/filtered.vcf.gz -O z mapped/calls.vcf\n"
     ]
    }
   ],
   "source": [
    "def variant_calling(bam_files, ref, outpath, sample_file=None, threads=4,\n",
    "                    callback=None, overwrite=False, **kwargs):\n",
    "    \"\"\"Call variants with bcftools\"\"\"\n",
    "\n",
    "    #bam_files = ' '.join(bam_files)\n",
    "    #rawbcf = os.path.join(outpath,'raw.bcf')\n",
    "    #cmd = 'bcftools mpileup -O b -o {o} -f {r} {b}'.format(r=ref, b=bam_files, o=rawbcf)\n",
    "    #run mpileup in parallel to speed up\n",
    "    rawbcf = mpileup_parallel(bam_files, ref, outpath, threads=threads)\n",
    "    #if callback != None:        \n",
    "    #    callback(cmd)\n",
    "    #print (cmd)\n",
    "    if not os.path.exists(rawbcf) or overwrite == True:\n",
    "        print (cmd)\n",
    "        subprocess.check_output(cmd,shell=True)        \n",
    "    #find snps\n",
    "    vcfout = os.path.join(outpath,'calls.vcf')\n",
    "    cmd = 'bcftools call --ploidy 1 -m -v -o {v} {raw}'.format(v=vcfout,raw=rawbcf)\n",
    "    if callback != None:\n",
    "        callback(cmd)\n",
    "    print (cmd)\n",
    "    subprocess.check_output(cmd,shell=True)\n",
    "    #rename samples\n",
    "    if sample_file != None:\n",
    "        cmd = 'bcftools reheader --samples {s} -o {v} {v}'.format(v=vcfout,s=sample_file)\n",
    "        print(cmd)\n",
    "        tmp = subprocess.check_output(cmd,shell=True)\n",
    "    final = os.path.join(outpath,'filtered')\n",
    "    \n",
    "    cmd = 'bcftools filter -e \"QUAL<40\" -o {o}.vcf.gz -O z {i}'.format(i=vcfout,o=final)\n",
    "    print (cmd)\n",
    "    tmp = subprocess.check_output(cmd,shell=True)\n",
    "    if callback != None:\n",
    "        callback(tmp)        \n",
    "    return vcfout\n",
    "\n",
    "def create_bam_labels(filenames):\n",
    "    \n",
    "    names = [os.path.basename(i).split('.')[0] for i in filenames]\n",
    "    #print (names)\n",
    "    with open('samples.txt','w+') as file:\n",
    "        for s in zip(bam_files,names):\n",
    "            file.write('%s %s\\n' %(s[0],s[1]))\n",
    "    return\n",
    "\n",
    "bam_files = glob.glob('mapped/*.bam')\n",
    "create_bam_labels(bam_files)\n",
    "vcf_file = variant_calling(bam_files, ref, 'mapped', threads=10, overwrite=False)#, sample_file='samples.txt')\n"
   ]
  },
  {
   "cell_type": "code",
   "execution_count": 209,
   "metadata": {},
   "outputs": [
    {
     "data": {
      "text/plain": [
       "unknown    4342195\n",
       "indel        10772\n",
       "snp           7545\n",
       "Name: var_type, dtype: int64"
      ]
     },
     "execution_count": 209,
     "metadata": {},
     "output_type": "execute_result"
    }
   ],
   "source": [
    "v1 = vcf_to_dataframe('result.vcf')\n",
    "v2 = vcf_to_dataframe('mapped/raw.vcf')"
   ]
  },
  {
   "cell_type": "code",
   "execution_count": 210,
   "metadata": {},
   "outputs": [
    {
     "name": "stdout",
     "output_type": "stream",
     "text": [
      "unknown    4342194\n",
      "indel        10772\n",
      "snp           7545\n",
      "Name: var_type, dtype: int64\n",
      "unknown    4342195\n",
      "indel        10772\n",
      "snp           7545\n",
      "Name: var_type, dtype: int64\n"
     ]
    }
   ],
   "source": [
    "print (v1.var_type.value_counts())\n",
    "print (v2.var_type.value_counts())"
   ]
  },
  {
   "cell_type": "code",
   "execution_count": null,
   "metadata": {},
   "outputs": [],
   "source": [
    "cmd = 'bcftools filter -e \"QUAL<40\" -o filtered.vcf.gz mapped/calls.vcf'\n",
    "print (cmd)\n",
    "#tmp = subprocess.check_output(cmd,shell=True)"
   ]
  },
  {
   "cell_type": "code",
   "execution_count": 8,
   "metadata": {},
   "outputs": [],
   "source": [
    "def vcf_to_dataframe(vcf_file, quality=30):\n",
    "    \"\"\"Convert vcf to dataframe\"\"\"\n",
    "\n",
    "    import vcf\n",
    "    ext = os.path.splitext(vcf_file)[1]    \n",
    "    if ext == '.gz':\n",
    "        file = gzopen(vcf_file, \"rt\")\n",
    "    else:\n",
    "        file = open(vcf_file)\n",
    "    vcf_reader = vcf.Reader(file,'r')    \n",
    "    res=[]\n",
    "    cols = ['chrom','var_type','sub_type','start','end','REF','ALT','QUAL','DP']\n",
    "    i=0\n",
    "    for rec in vcf_reader:\n",
    "        #if i>10:\n",
    "        #    break\n",
    "        x = [rec.CHROM, rec.var_type, rec.var_subtype, rec.start, rec.end, rec.REF, str(rec.ALT[0]),\n",
    "            rec.QUAL, rec.INFO['DP']]\n",
    "        #print (rec.__dict__)\n",
    "        #print (rec.INFO.keys())\n",
    "        #for call in rec.samples:\n",
    "        #    print (call.sample, call.data, rec.genotype(call.sample))            \n",
    "        res.append(x)\n",
    "        #print (x)    \n",
    "        #i+=1\n",
    "    res = pd.DataFrame(res,columns=cols)    \n",
    "    return res\n"
   ]
  },
  {
   "cell_type": "code",
   "execution_count": 9,
   "metadata": {},
   "outputs": [
    {
     "data": {
      "text/plain": [
       "snp      2756\n",
       "indel     317\n",
       "Name: var_type, dtype: int64"
      ]
     },
     "execution_count": 9,
     "metadata": {},
     "output_type": "execute_result"
    }
   ],
   "source": [
    "vdf = vcf_to_dataframe('mapped/filtered.vcf.gz')\n",
    "vdf.var_type.value_counts()"
   ]
  },
  {
   "cell_type": "markdown",
   "metadata": {},
   "source": [
    "### Make fasta alignment from filtered VCF sites with multiple samples\n",
    "\n",
    "https://github.com/JosephCrispell/GeneralTools/blob/master/ProcessingPipeline/CreateFastaWithReferenceFromFiltered_28-06-17.pl\n",
    "\n",
    "\"The allele frequencies at each position in the aligned (against reference) sequence from each isolate were examined. For a haploid organism these frequencies are expected to be either 0 or 1, with some random variation expected from sequencing errors (Sobkowiak et al., 2018). A heterozygous site was defined as one where the allele frequencies were >0.05 and <0.95. Four cattle-derived sequences that had more than 150 heterozygous sites, and allele frequencies that were clustered and non-random (data not shown), were removed. In addition, 26 badger-derived and 16 cattle-derived M. bovis sequences were removed because of suspected errors in the metadata (Appendix 1: Investigating isolate metadata discrepancies).\n",
    "\n",
    "For the sequences from the remaining isolates (204 badger- and 169 cattle-derived isolates), alleles were called at each variant position if they had mapping quality ≥30, high-quality base depth ≥4 (applied to reverse and forward reads separately), read depth ≥30, and allele support ≥0.95. For any site that failed these criteria, if the allele called had been observed in a different isolate that had passed, a second round of filtering was conducted using a high-quality base depth of 5 (total across forward and reverse reads) and the same allele support. As recombination is thought to be extremely rare for mycobacteria (Namouchi et al., 2012), variants in close proximity could indicate a region that is difficult to sequence or under high selection. To avoid calling variants in these regions, variant positions within 10 bp of one another were removed. Following filtering, sequences from 11 badger and 10 cattle isolates that had insufficient coverage (<95%) of the variant positions were removed. Once the alignment was generated, sites with a consistency index less than 1, generally considered homoplasies (Farris, 1989), were removed (n = 4, of 14,991 sites) using HomoplasyFinder (v0.0.0.9; Crispell et al., 2019; RRID: SCR_017300). All the scripts necessary for the processing of the WGS data are freely available online.\""
   ]
  },
  {
   "cell_type": "code",
   "execution_count": 13,
   "metadata": {},
   "outputs": [
    {
     "name": "stdout",
     "output_type": "stream",
     "text": [
      "6 samples\n",
      "using 2756 sites\n",
      "5.856044292449951\n"
     ]
    }
   ],
   "source": [
    "def fasta_alignment_from_vcf(vcf_file, ref, callback=None):\n",
    "    \"\"\"Get a fasta alignment for all snp sites in a multi sample\n",
    "    vcf file, including the reference sequence\"\"\"\n",
    "    \n",
    "    from pyfaidx import Fasta\n",
    "    from pyfaidx import FastaVariant\n",
    "    #index vcf\n",
    "    cmd = 'tabix -p vcf -f {i}'.format(i=vcf_file)\n",
    "    tmp = subprocess.check_output(cmd,shell=True)\n",
    "    #get samples?\n",
    "    import vcf\n",
    "    vcf_reader = vcf.Reader(open(vcf_file, 'rb'))\n",
    "    samples = vcf_reader.samples\n",
    "    print ('%s samples' %len(samples))\n",
    "    result = []\n",
    "    \n",
    "    #reference sequence\n",
    "    reference = Fasta(ref)\n",
    "    chrom = list(reference.keys())[0]\n",
    "\n",
    "    #get the set of all sites first\n",
    "    sites=[]\n",
    "    for sample in samples:\n",
    "        #print (sample)\n",
    "        variant = FastaVariant(ref, vcf_file, \n",
    "                                 sample=sample, het=True, hom=True)\n",
    "        pos = list(variant[chrom].variant_sites)\n",
    "        sites.extend(pos)\n",
    "        #print (sample)\n",
    "        #print (pos[:20])\n",
    "    sites = sorted(set(sites))\n",
    "    n=550\n",
    "    #sites=sites[:n]\n",
    "    print ('using %s sites' %len(sites))\n",
    "    if callback != None:\n",
    "        callback('using %s sites' %len(sites))\n",
    "    #get reference sequence for site positions\n",
    "    refseq=[]\n",
    "    for p in sites:\n",
    "        refseq.append(reference[chrom][p-1].seq)\n",
    "    refseq = ''.join(refseq)\n",
    "    #print (refseq)\n",
    "    refrec = SeqRecord(Seq(refseq),id='ref')\n",
    "    result.append(refrec) \n",
    "\n",
    "    #iterate over variants in each sample\n",
    "    for sample in samples:        \n",
    "        seq=[]\n",
    "        variant = FastaVariant(ref, vcf_file, \n",
    "                                 sample=sample, het=True, hom=True)     \n",
    "        #for p in variant[chrom].variant_sites:\n",
    "        for p in sites:        \n",
    "            rec = variant[chrom][p-1:p]\n",
    "            #print (p,rec)\n",
    "            seq.append(rec.seq)\n",
    "        seq = ''.join(seq)\n",
    "        #print (seq)\n",
    "        seqrec = SeqRecord(Seq(seq),id=sample)\n",
    "        result.append(seqrec)    \n",
    "    return result\n",
    "\n",
    "st=time.time()\n",
    "result = fasta_alignment_from_vcf('mapped/filtered.vcf.gz', app.ref_genome)\n",
    "SeqIO.write(result, 'variants.fa', 'fasta')\n",
    "print (time.time()-st)"
   ]
  },
  {
   "cell_type": "markdown",
   "metadata": {},
   "source": [
    "### Phylogeny from MSA"
   ]
  },
  {
   "cell_type": "code",
   "execution_count": 14,
   "metadata": {},
   "outputs": [
    {
     "name": "stdout",
     "output_type": "stream",
     "text": [
      "raxmlHPC-PTHREADS -f a -N 10 -T 8 -m GTRCAT -V -p 67061759 -x 41763819 -n variants -s variants.fa\n"
     ]
    }
   ],
   "source": [
    "def run_RAXML(infile, name='variants', threads=8):\n",
    "    \"\"\"Run Raxml pthreads\"\"\"\n",
    "\n",
    "    bootstraps = 10 \n",
    "    model = 'GTRCAT'\n",
    "    s1 = random.randint(0,1e8)\n",
    "    s2 = random.randint(0,1e8)\n",
    "    \n",
    "    files = glob.glob('RAxML_*')\n",
    "    for f in files:\n",
    "        os.remove(f)\n",
    "    cmd = 'raxmlHPC-PTHREADS -f a -N {nb} -T {t} -m {m} -V -p {s1} -x {s2} -n {n} -s {i}'.format(t=threads,nb=bootstraps,n=name,i=infile,s1=s1,s2=s2,m=model)\n",
    "    print (cmd)\n",
    "    tmp = subprocess.check_output(cmd, shell=True)\n",
    "    return\n",
    "    \n",
    "run_RAXML('variants.fa')"
   ]
  },
  {
   "cell_type": "code",
   "execution_count": 15,
   "metadata": {},
   "outputs": [
    {
     "data": {
      "image/png": "[encoded data removed]",
      "text/plain": [
       "<IPython.core.display.Image object>"
      ]
     },
     "execution_count": 15,
     "metadata": {},
     "output_type": "execute_result"
    }
   ],
   "source": [
    "def create_tree(filename, labelmap=None):\n",
    "    \"\"\"Draw a tree \"\"\"\n",
    "    \n",
    "    from ete3 import Tree, NodeStyle, TreeStyle\n",
    "    t = Tree(filename)\n",
    "    t.set_outgroup('ref')    \n",
    "    if labelmap != None:\n",
    "        trees.set_tiplabels(t,labelmap)\n",
    "    trees.format_nodes(t)\n",
    "    ts = TreeStyle()\n",
    "    ts.scale=1000\n",
    "    t.render(\"%%inline\", tree_style=ts)\n",
    "    t.render(\"tree.png\", tree_style=ts)\n",
    "    return t\n",
    "\n",
    "sra['filename'] = sra.Run.apply(lambda x: 'mapped/'+x+'.bam')\n",
    "#print (sra[:3])\n",
    "labelmap = dict(zip(sra.filename,sra.geo_loc_name_country))\n",
    "#print (labelmap)\n",
    "t = create_tree('RAxML_bipartitions.variants', labelmap)\n",
    "t.render(\"%%inline\")"
   ]
  },
  {
   "cell_type": "code",
   "execution_count": 35,
   "metadata": {},
   "outputs": [],
   "source": [
    "from Bio import Phylo\n",
    "tree=Phylo.read('RAxML_bestTree.variants','newick')\n",
    "Phylo.draw(tree)"
   ]
  },
  {
   "cell_type": "markdown",
   "metadata": {},
   "source": [
    "### Consequence calling"
   ]
  },
  {
   "cell_type": "code",
   "execution_count": null,
   "metadata": {},
   "outputs": [],
   "source": [
    "cmd = 'bcftools csq -f Mbovis_AF212297.fa -g  Mbovis_csq_format.gff col2_mbovis.vcf -Ot -o col2_mbovis.csq.tsv'"
   ]
  },
  {
   "cell_type": "code",
   "execution_count": null,
   "metadata": {},
   "outputs": [],
   "source": []
  }
 ],
 "metadata": {
  "kernelspec": {
   "display_name": "Python 3",
   "language": "python",
   "name": "python3"
  },
  "language_info": {
   "codemirror_mode": {
    "name": "ipython",
    "version": 3
   },
   "file_extension": ".py",
   "mimetype": "text/x-python",
   "name": "python",
   "nbconvert_exporter": "python",
   "pygments_lexer": "ipython3",
   "version": "3.7.5"
  }
 },
 "nbformat": 4,
 "nbformat_minor": 4
}
