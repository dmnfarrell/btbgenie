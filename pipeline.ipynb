{
 "cells": [
  {
   "cell_type": "markdown",
   "metadata": {},
   "source": [
    "## Whole Genome Sequenced Mycobacterium bovis analysis for BTBgenie.\n",
    "\n",
    "Note: the current version of the M.bovis genome online has genes missing in the annotation. See https://www.ncbi.nlm.nih.gov/nuccore/LT708304.1?report=graph\n",
    "\n",
    "Updated files can be found here: https://github.com/dmnfarrell/gordon-group/tree/master/mbovis_annotation\n",
    "\n",
    "links:\n",
    "\n",
    "* https://github.com/JosephCrispell/GeneralTools/tree/master/ProcessingPipeline\n",
    "* http://www.htslib.org/doc/bcftools.html\n"
   ]
  },
  {
   "cell_type": "code",
   "execution_count": 37,
   "metadata": {},
   "outputs": [],
   "source": [
    "import sys,os,shutil,subprocess\n",
    "import glob\n",
    "from importlib import reload\n",
    "import numpy as np\n",
    "import pandas as pd\n",
    "import pylab as plt\n",
    "from Bio import SeqIO\n",
    "from gzip import open as gzopen\n",
    "sys.path.append('pathogenie')\n",
    "from pathogenie import tools, aligners, app"
   ]
  },
  {
   "cell_type": "markdown",
   "metadata": {},
   "source": [
    "### Examine FASTQ file quality and define trimming parameters"
   ]
  },
  {
   "cell_type": "code",
   "execution_count": 2,
   "metadata": {},
   "outputs": [
    {
     "data": {
      "text/plain": [
       "<matplotlib.axes._subplots.AxesSubplot at 0x7fdbc73b8090>"
      ]
     },
     "execution_count": 2,
     "metadata": {},
     "output_type": "execute_result"
    },
    {
     "data": {
      "image/png": "[encoded data removed]",
      "text/plain": [
       "<Figure size 432x288 with 1 Axes>"
      ]
     },
     "metadata": {
      "needs_background": "light"
     },
     "output_type": "display_data"
    }
   ],
   "source": [
    "reload(tools)\n",
    "testfile='albania/3_S57_L001-4_R1_001.fastq.gz'\n",
    "df = tools.fastq_to_dataframe(testfile)\n",
    "df.length.hist()"
   ]
  },
  {
   "cell_type": "code",
   "execution_count": 71,
   "metadata": {},
   "outputs": [
    {
     "data": {
      "image/png": "[encoded data removed]",
      "text/plain": [
       "<Figure size 864x288 with 1 Axes>"
      ]
     },
     "metadata": {
      "needs_background": "light"
     },
     "output_type": "display_data"
    }
   ],
   "source": [
    "def plot_qualities(filename, ax=None):\n",
    "    \n",
    "    fastq_parser = SeqIO.parse(gzopen(filename, \"rt\"), \"fastq\")\n",
    "    res=[]\n",
    "    c=0\n",
    "    for record in fastq_parser:\n",
    "        score=record.letter_annotations[\"phred_quality\"]\n",
    "        res.append(score)\n",
    "        c+=1\n",
    "        if c>1500:\n",
    "            break\n",
    "    df = pd.DataFrame(res)\n",
    "    if ax==None:\n",
    "        f,ax=plt.subplots(figsize=(12,4))\n",
    "    df.mean().plot(ax=ax)\n",
    "    return \n",
    "\n",
    "plot_qualities(testfile)"
   ]
  },
  {
   "cell_type": "code",
   "execution_count": null,
   "metadata": {},
   "outputs": [],
   "source": [
    "reload(tools)\n",
    "tools.trim_adapters(testfile, 'trimmed.fastq.gz')"
   ]
  },
  {
   "cell_type": "markdown",
   "metadata": {},
   "source": [
    "### Get sample ids from fastq files"
   ]
  },
  {
   "cell_type": "code",
   "execution_count": 8,
   "metadata": {},
   "outputs": [
    {
     "name": "stdout",
     "output_type": "stream",
     "text": [
      "['albania/6_S7_L001-4_R2_001.fastq.gz', 'albania/3_S57_L001-4_R1_001.fastq.gz', 'albania/6_S7_L001-4_R1_001.fastq.gz', 'albania/3_S57_L001-4_R2_001.fastq.gz']\n"
     ]
    },
    {
     "data": {
      "text/html": [
       "<div>\n",
       "<style scoped>\n",
       "    .dataframe tbody tr th:only-of-type {\n",
       "        vertical-align: middle;\n",
       "    }\n",
       "\n",
       "    .dataframe tbody tr th {\n",
       "        vertical-align: top;\n",
       "    }\n",
       "\n",
       "    .dataframe thead th {\n",
       "        text-align: right;\n",
       "    }\n",
       "</style>\n",
       "<table border=\"1\" class=\"dataframe\">\n",
       "  <thead>\n",
       "    <tr style=\"text-align: right;\">\n",
       "      <th></th>\n",
       "      <th>filename</th>\n",
       "      <th>name</th>\n",
       "      <th>sample</th>\n",
       "      <th>pair</th>\n",
       "    </tr>\n",
       "  </thead>\n",
       "  <tbody>\n",
       "    <tr>\n",
       "      <th>0</th>\n",
       "      <td>albania/3_S57_L001-4_R1_001.fastq.gz</td>\n",
       "      <td>3_S57_L001-4_R1_001</td>\n",
       "      <td>3_S57_L001-4</td>\n",
       "      <td>1</td>\n",
       "    </tr>\n",
       "    <tr>\n",
       "      <th>1</th>\n",
       "      <td>albania/3_S57_L001-4_R2_001.fastq.gz</td>\n",
       "      <td>3_S57_L001-4_R2_001</td>\n",
       "      <td>3_S57_L001-4</td>\n",
       "      <td>2</td>\n",
       "    </tr>\n",
       "    <tr>\n",
       "      <th>2</th>\n",
       "      <td>albania/6_S7_L001-4_R1_001.fastq.gz</td>\n",
       "      <td>6_S7_L001-4_R1_001</td>\n",
       "      <td>6_S7_L001-4</td>\n",
       "      <td>1</td>\n",
       "    </tr>\n",
       "    <tr>\n",
       "      <th>3</th>\n",
       "      <td>albania/6_S7_L001-4_R2_001.fastq.gz</td>\n",
       "      <td>6_S7_L001-4_R2_001</td>\n",
       "      <td>6_S7_L001-4</td>\n",
       "      <td>2</td>\n",
       "    </tr>\n",
       "  </tbody>\n",
       "</table>\n",
       "</div>"
      ],
      "text/plain": [
       "                               filename                 name        sample  \\\n",
       "0  albania/3_S57_L001-4_R1_001.fastq.gz  3_S57_L001-4_R1_001  3_S57_L001-4   \n",
       "1  albania/3_S57_L001-4_R2_001.fastq.gz  3_S57_L001-4_R2_001  3_S57_L001-4   \n",
       "2   albania/6_S7_L001-4_R1_001.fastq.gz   6_S7_L001-4_R1_001   6_S7_L001-4   \n",
       "3   albania/6_S7_L001-4_R2_001.fastq.gz   6_S7_L001-4_R2_001   6_S7_L001-4   \n",
       "\n",
       "   pair  \n",
       "0     1  \n",
       "1     2  \n",
       "2     1  \n",
       "3     2  "
      ]
     },
     "execution_count": 8,
     "metadata": {},
     "output_type": "execute_result"
    }
   ],
   "source": [
    "path='albania'\n",
    "files = glob.glob(os.path.join(path,'*.fastq.gz'))\n",
    "print (files)\n",
    "from collections import defaultdict\n",
    "\n",
    "def get_sample_names(filenames):\n",
    "    \"\"\"Get sample pairs from list of fastq files.\"\"\"\n",
    "\n",
    "    res = []\n",
    "    cols = ['name','sample','filename']\n",
    "    for filename in filenames:\n",
    "        name = os.path.basename(filename).split('.')[0]\n",
    "        sample = name.split('_R')[0]\n",
    "        x = [name, sample, filename]\n",
    "        res.append(x)\n",
    "\n",
    "    df = pd.DataFrame(res, columns=cols)\n",
    "    df = df.sort_values(['name','sample','pair']).reset_index(drop=True)\n",
    "    df['pair'] = df.groupby('sample').cumcount()+1\n",
    "    return df\n",
    "\n",
    "df = get_sample_names(files)\n",
    "df\n",
    "#df.set_index(['sample','pair']).unstack()\n"
   ]
  },
  {
   "cell_type": "markdown",
   "metadata": {},
   "source": [
    "### Align the FASTQ files against reference and create VCF files"
   ]
  },
  {
   "cell_type": "code",
   "execution_count": 31,
   "metadata": {},
   "outputs": [
    {
     "name": "stdout",
     "output_type": "stream",
     "text": [
      "3_S57_L001-4\n",
      "mapped/3_S57_L001-4.bam\n",
      "bwa mem -M -t 4 /home/damien/gitprojects/btbgenie/pathogenie/pathogenie/data/Mbovis_AF212297.fa albania/3_S57_L001-4_R1_001.fastq.gz albania/3_S57_L001-4_R2_001.fastq.gz | samtools view -bt - | samtools sort -o mapped/3_S57_L001-4.bam\n",
      "                               filename                 name        sample  \\\n",
      "0  albania/3_S57_L001-4_R1_001.fastq.gz  3_S57_L001-4_R1_001  3_S57_L001-4   \n",
      "1  albania/3_S57_L001-4_R2_001.fastq.gz  3_S57_L001-4_R2_001  3_S57_L001-4   \n",
      "2   albania/6_S7_L001-4_R1_001.fastq.gz   6_S7_L001-4_R1_001   6_S7_L001-4   \n",
      "3   albania/6_S7_L001-4_R2_001.fastq.gz   6_S7_L001-4_R2_001   6_S7_L001-4   \n",
      "\n",
      "   pair                 bam_file  \n",
      "0     1  mapped/3_S57_L001-4.bam  \n",
      "1     2  mapped/3_S57_L001-4.bam  \n",
      "2     1                      NaN  \n",
      "3     2                      NaN  \n",
      "6_S7_L001-4\n",
      "mapped/6_S7_L001-4.bam\n",
      "bwa mem -M -t 4 /home/damien/gitprojects/btbgenie/pathogenie/pathogenie/data/Mbovis_AF212297.fa albania/6_S7_L001-4_R1_001.fastq.gz albania/6_S7_L001-4_R2_001.fastq.gz | samtools view -bt - | samtools sort -o mapped/6_S7_L001-4.bam\n",
      "                               filename                 name        sample  \\\n",
      "0  albania/3_S57_L001-4_R1_001.fastq.gz  3_S57_L001-4_R1_001  3_S57_L001-4   \n",
      "1  albania/3_S57_L001-4_R2_001.fastq.gz  3_S57_L001-4_R2_001  3_S57_L001-4   \n",
      "2   albania/6_S7_L001-4_R1_001.fastq.gz   6_S7_L001-4_R1_001   6_S7_L001-4   \n",
      "3   albania/6_S7_L001-4_R2_001.fastq.gz   6_S7_L001-4_R2_001   6_S7_L001-4   \n",
      "\n",
      "   pair                 bam_file  \n",
      "0     1  mapped/3_S57_L001-4.bam  \n",
      "1     2  mapped/3_S57_L001-4.bam  \n",
      "2     1   mapped/6_S7_L001-4.bam  \n",
      "3     2   mapped/6_S7_L001-4.bam  \n"
     ]
    },
    {
     "data": {
      "text/html": [
       "<div>\n",
       "<style scoped>\n",
       "    .dataframe tbody tr th:only-of-type {\n",
       "        vertical-align: middle;\n",
       "    }\n",
       "\n",
       "    .dataframe tbody tr th {\n",
       "        vertical-align: top;\n",
       "    }\n",
       "\n",
       "    .dataframe thead th {\n",
       "        text-align: right;\n",
       "    }\n",
       "</style>\n",
       "<table border=\"1\" class=\"dataframe\">\n",
       "  <thead>\n",
       "    <tr style=\"text-align: right;\">\n",
       "      <th></th>\n",
       "      <th>filename</th>\n",
       "      <th>name</th>\n",
       "      <th>sample</th>\n",
       "      <th>pair</th>\n",
       "      <th>bam_file</th>\n",
       "    </tr>\n",
       "  </thead>\n",
       "  <tbody>\n",
       "    <tr>\n",
       "      <th>0</th>\n",
       "      <td>albania/3_S57_L001-4_R1_001.fastq.gz</td>\n",
       "      <td>3_S57_L001-4_R1_001</td>\n",
       "      <td>3_S57_L001-4</td>\n",
       "      <td>1</td>\n",
       "      <td>mapped/3_S57_L001-4.bam</td>\n",
       "    </tr>\n",
       "    <tr>\n",
       "      <th>1</th>\n",
       "      <td>albania/3_S57_L001-4_R2_001.fastq.gz</td>\n",
       "      <td>3_S57_L001-4_R2_001</td>\n",
       "      <td>3_S57_L001-4</td>\n",
       "      <td>2</td>\n",
       "      <td>mapped/3_S57_L001-4.bam</td>\n",
       "    </tr>\n",
       "    <tr>\n",
       "      <th>2</th>\n",
       "      <td>albania/6_S7_L001-4_R1_001.fastq.gz</td>\n",
       "      <td>6_S7_L001-4_R1_001</td>\n",
       "      <td>6_S7_L001-4</td>\n",
       "      <td>1</td>\n",
       "      <td>mapped/6_S7_L001-4.bam</td>\n",
       "    </tr>\n",
       "    <tr>\n",
       "      <th>3</th>\n",
       "      <td>albania/6_S7_L001-4_R2_001.fastq.gz</td>\n",
       "      <td>6_S7_L001-4_R2_001</td>\n",
       "      <td>6_S7_L001-4</td>\n",
       "      <td>2</td>\n",
       "      <td>mapped/6_S7_L001-4.bam</td>\n",
       "    </tr>\n",
       "  </tbody>\n",
       "</table>\n",
       "</div>"
      ],
      "text/plain": [
       "                               filename                 name        sample  \\\n",
       "0  albania/3_S57_L001-4_R1_001.fastq.gz  3_S57_L001-4_R1_001  3_S57_L001-4   \n",
       "1  albania/3_S57_L001-4_R2_001.fastq.gz  3_S57_L001-4_R2_001  3_S57_L001-4   \n",
       "2   albania/6_S7_L001-4_R1_001.fastq.gz   6_S7_L001-4_R1_001   6_S7_L001-4   \n",
       "3   albania/6_S7_L001-4_R2_001.fastq.gz   6_S7_L001-4_R2_001   6_S7_L001-4   \n",
       "\n",
       "   pair                 bam_file  \n",
       "0     1  mapped/3_S57_L001-4.bam  \n",
       "1     2  mapped/3_S57_L001-4.bam  \n",
       "2     1   mapped/6_S7_L001-4.bam  \n",
       "3     2   mapped/6_S7_L001-4.bam  "
      ]
     },
     "execution_count": 31,
     "metadata": {},
     "output_type": "execute_result"
    }
   ],
   "source": [
    "reload(aligners)\n",
    "path = 'albania'\n",
    "ref = app.ref_genome\n",
    "\n",
    "samples = get_sample_names(files)\n",
    "def align_reads(samples, idx, outdir='mapped', callback=None, **kwargs):\n",
    "    \"\"\"\n",
    "    Align multiple files. Requires a dataframe with a 'sample' column to indicate\n",
    "    paired files grouping.\n",
    "    \"\"\"\n",
    "\n",
    "    if not os.path.exists(outdir):\n",
    "        os.makedirs(outdir, exist_ok=True)\n",
    "    new = []\n",
    "    for name,df in samples.groupby('sample'):\n",
    "        print (name)\n",
    "        files = list(df.filename)\n",
    "        #print (files)\n",
    "        out = os.path.join(outdir,name+'.bam')\n",
    "        print (out)\n",
    "        aligners.bwa_align(files[0],files[1], idx=idx, out=out, **kwargs)\n",
    "        cmd = 'samtools index {o}'.format(o=out)\n",
    "        subprocess.check_output(cmd,shell=True)\n",
    "        index = df.index\n",
    "        samples.loc[index,'bam_file'] = out        \n",
    "        if callback != None:\n",
    "            callback(out)\n",
    "    return samples\n",
    "\n",
    "align_reads(samples, idx=ref, threads=10, overwrite=True)"
   ]
  },
  {
   "cell_type": "markdown",
   "metadata": {},
   "source": [
    "### remove duplicated reads"
   ]
  },
  {
   "cell_type": "code",
   "execution_count": null,
   "metadata": {},
   "outputs": [],
   "source": [
    "cmd = 'samtools rmdup A_reads.bt2.sorted.bam A_reads.bt2.sorted.noDups.bam'"
   ]
  },
  {
   "cell_type": "markdown",
   "metadata": {},
   "source": [
    "### call all samples at once"
   ]
  },
  {
   "cell_type": "code",
   "execution_count": null,
   "metadata": {},
   "outputs": [],
   "source": [
    "def variant_call(bam_files, outpath):\n",
    "    \"\"\"Call variants with bcftools\"\"\"\n",
    "    \n",
    "    rawbcf = os.path.join(outpath,'raw.bcf')\n",
    "    cmd = 'bcftools mpileup -O b -o {o} -f {r} {b}'.format(r=ref, b=bam_files, o=rawbcf)\n",
    "    print (cmd)\n",
    "    subprocess.check_output(cmd,shell=True)\n",
    "    #find snps\n",
    "    vcfout = os.path.join(outpath,'calls.vcf')\n",
    "    cmd = 'bcftools call --ploidy 1 -m -v -o {v} {raw}'.format(v=vcfout,raw=rawbcf)\n",
    "    print (cmd)\n",
    "    subprocess.check_output(cmd,shell=True)\n",
    "    #filter the calls\n",
    "    vcfout = os.path.join(outpath,'calls.vcf')\n",
    "    final = os.path.join(outpath,'filtered')\n",
    "    cmd = 'vcftools --vcf {i} --minQ 20 --recode --recode-INFO-all --out {o}'.format(i=vcfout,o=final)\n",
    "    print (cmd)\n",
    "    subprocess.check_output(cmd,shell=True)    \n",
    "    return\n",
    "\n",
    "bam_files = ' '.join(glob.glob('mapped/*.bam'))\n",
    "variant_call(bam_files, 'mapped')"
   ]
  },
  {
   "cell_type": "code",
   "execution_count": 78,
   "metadata": {},
   "outputs": [
    {
     "name": "stdout",
     "output_type": "stream",
     "text": [
      "bcftools --vcf mapped/calls.vcf --minQ 20 --recode --recode-INFO-all\n"
     ]
    }
   ],
   "source": [
    "cmd = 'bcftools --vcf mapped/calls.vcf --minQ 20 --recode --recode-INFO-all'\n",
    "print (cmd)"
   ]
  },
  {
   "cell_type": "markdown",
   "metadata": {},
   "source": [
    "### Consequence calling"
   ]
  },
  {
   "cell_type": "code",
   "execution_count": null,
   "metadata": {},
   "outputs": [],
   "source": [
    "cmd = 'bcftools csq -f Mbovis_AF212297.fa -g  Mbovis_csq_format.gff col2_mbovis.vcf -Ot -o col2_mbovis.csq.tsv'"
   ]
  },
  {
   "cell_type": "markdown",
   "metadata": {},
   "source": [
    "### make fasta alignment from multi-vcf\n",
    "\n",
    "https://github.com/JosephCrispell/GeneralTools/blob/master/ProcessingPipeline/CreateFastaWithReferenceFromFiltered_28-06-17.pl"
   ]
  },
  {
   "cell_type": "code",
   "execution_count": null,
   "metadata": {},
   "outputs": [],
   "source": []
  },
  {
   "cell_type": "markdown",
   "metadata": {},
   "source": [
    "### Merge the VCF files together ??"
   ]
  },
  {
   "cell_type": "code",
   "execution_count": null,
   "metadata": {},
   "outputs": [],
   "source": [
    "def merge_vcf():\n",
    "    return"
   ]
  },
  {
   "cell_type": "markdown",
   "metadata": {},
   "source": [
    "### Rescuing site information for poorer quality isolates"
   ]
  },
  {
   "cell_type": "code",
   "execution_count": null,
   "metadata": {},
   "outputs": [],
   "source": []
  }
 ],
 "metadata": {
  "kernelspec": {
   "display_name": "Python 3",
   "language": "python",
   "name": "python3"
  },
  "language_info": {
   "codemirror_mode": {
    "name": "ipython",
    "version": 3
   },
   "file_extension": ".py",
   "mimetype": "text/x-python",
   "name": "python",
   "nbconvert_exporter": "python",
   "pygments_lexer": "ipython3",
   "version": "3.7.5"
  }
 },
 "nbformat": 4,
 "nbformat_minor": 4
}
